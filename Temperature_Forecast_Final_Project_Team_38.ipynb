{
  "nbformat": 4,
  "nbformat_minor": 0,
  "metadata": {
    "colab": {
      "name": "Temperature Forecast_Final Project Team 38.ipynb",
      "provenance": [],
      "collapsed_sections": [
        "QTN3JOAkK5XR"
      ],
      "toc_visible": true
    },
    "kernelspec": {
      "name": "python3",
      "display_name": "Python 3"
    },
    "language_info": {
      "name": "python"
    },
    "gpuClass": "standard",
    "widgets": {
      "application/vnd.jupyter.widget-state+json": {
        "8630142798cb46869a60eea9ded7657d": {
          "model_module": "@jupyter-widgets/controls",
          "model_name": "VBoxModel",
          "model_module_version": "1.5.0",
          "state": {
            "_dom_classes": [
              "widget-interact"
            ],
            "_model_module": "@jupyter-widgets/controls",
            "_model_module_version": "1.5.0",
            "_model_name": "VBoxModel",
            "_view_count": null,
            "_view_module": "@jupyter-widgets/controls",
            "_view_module_version": "1.5.0",
            "_view_name": "VBoxView",
            "box_style": "",
            "children": [
              "IPY_MODEL_859060bb4a5a44af911537db297d2c50",
              "IPY_MODEL_934ecbcf9be34c83ab0d4345a9c13210"
            ],
            "layout": "IPY_MODEL_62a2de98d37c4dc3afe0a38586e7088a"
          }
        },
        "859060bb4a5a44af911537db297d2c50": {
          "model_module": "@jupyter-widgets/controls",
          "model_name": "DropdownModel",
          "model_module_version": "1.5.0",
          "state": {
            "_dom_classes": [],
            "_model_module": "@jupyter-widgets/controls",
            "_model_module_version": "1.5.0",
            "_model_name": "DropdownModel",
            "_options_labels": [
              "Urban population",
              "Rural population",
              "Forest area",
              "Agricultural land",
              "Agricultural methane emissions",
              "Agricultural nitrous oxide emissions",
              "coal_consumption",
              "fossil_fuel_consumption",
              "gas_consumption",
              "hydro_consumption",
              "oil_consumption",
              "other_renewable_consumption",
              "primary_energy_consumption",
              "renewables_consumption",
              "population",
              "Temperature",
              "co2",
              "total_ghg",
              "methane",
              "nitrous_oxide",
              "gdp",
              "Cattle",
              "Pigs"
            ],
            "_view_count": null,
            "_view_module": "@jupyter-widgets/controls",
            "_view_module_version": "1.5.0",
            "_view_name": "DropdownView",
            "description": "y",
            "description_tooltip": null,
            "disabled": false,
            "index": 0,
            "layout": "IPY_MODEL_4c2a58a09cfc4cfa8dc7c2718fc93871",
            "style": "IPY_MODEL_0bfd44fa2f314110b85f76ec65c2bac2"
          }
        },
        "934ecbcf9be34c83ab0d4345a9c13210": {
          "model_module": "@jupyter-widgets/output",
          "model_name": "OutputModel",
          "model_module_version": "1.0.0",
          "state": {
            "_dom_classes": [],
            "_model_module": "@jupyter-widgets/output",
            "_model_module_version": "1.0.0",
            "_model_name": "OutputModel",
            "_view_count": null,
            "_view_module": "@jupyter-widgets/output",
            "_view_module_version": "1.0.0",
            "_view_name": "OutputView",
            "layout": "IPY_MODEL_a4c58b8749cc492aa053ca4a85514998",
            "msg_id": "",
            "outputs": [
              {
                "output_type": "display_data",
                "data": {
                  "text/plain": "<Figure size 432x288 with 0 Axes>"
                },
                "metadata": {}
              },
              {
                "output_type": "display_data",
                "data": {
                  "text/plain": "<Figure size 1080x576 with 1 Axes>",
                  "image/png": "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\n"
                },
                "metadata": {
                  "needs_background": "light"
                }
              }
            ]
          }
        },
        "62a2de98d37c4dc3afe0a38586e7088a": {
          "model_module": "@jupyter-widgets/base",
          "model_name": "LayoutModel",
          "model_module_version": "1.2.0",
          "state": {
            "_model_module": "@jupyter-widgets/base",
            "_model_module_version": "1.2.0",
            "_model_name": "LayoutModel",
            "_view_count": null,
            "_view_module": "@jupyter-widgets/base",
            "_view_module_version": "1.2.0",
            "_view_name": "LayoutView",
            "align_content": null,
            "align_items": null,
            "align_self": null,
            "border": null,
            "bottom": null,
            "display": null,
            "flex": null,
            "flex_flow": null,
            "grid_area": null,
            "grid_auto_columns": null,
            "grid_auto_flow": null,
            "grid_auto_rows": null,
            "grid_column": null,
            "grid_gap": null,
            "grid_row": null,
            "grid_template_areas": null,
            "grid_template_columns": null,
            "grid_template_rows": null,
            "height": null,
            "justify_content": null,
            "justify_items": null,
            "left": null,
            "margin": null,
            "max_height": null,
            "max_width": null,
            "min_height": null,
            "min_width": null,
            "object_fit": null,
            "object_position": null,
            "order": null,
            "overflow": null,
            "overflow_x": null,
            "overflow_y": null,
            "padding": null,
            "right": null,
            "top": null,
            "visibility": null,
            "width": null
          }
        },
        "4c2a58a09cfc4cfa8dc7c2718fc93871": {
          "model_module": "@jupyter-widgets/base",
          "model_name": "LayoutModel",
          "model_module_version": "1.2.0",
          "state": {
            "_model_module": "@jupyter-widgets/base",
            "_model_module_version": "1.2.0",
            "_model_name": "LayoutModel",
            "_view_count": null,
            "_view_module": "@jupyter-widgets/base",
            "_view_module_version": "1.2.0",
            "_view_name": "LayoutView",
            "align_content": null,
            "align_items": null,
            "align_self": null,
            "border": null,
            "bottom": null,
            "display": null,
            "flex": null,
            "flex_flow": null,
            "grid_area": null,
            "grid_auto_columns": null,
            "grid_auto_flow": null,
            "grid_auto_rows": null,
            "grid_column": null,
            "grid_gap": null,
            "grid_row": null,
            "grid_template_areas": null,
            "grid_template_columns": null,
            "grid_template_rows": null,
            "height": null,
            "justify_content": null,
            "justify_items": null,
            "left": null,
            "margin": null,
            "max_height": null,
            "max_width": null,
            "min_height": null,
            "min_width": null,
            "object_fit": null,
            "object_position": null,
            "order": null,
            "overflow": null,
            "overflow_x": null,
            "overflow_y": null,
            "padding": null,
            "right": null,
            "top": null,
            "visibility": null,
            "width": null
          }
        },
        "0bfd44fa2f314110b85f76ec65c2bac2": {
          "model_module": "@jupyter-widgets/controls",
          "model_name": "DescriptionStyleModel",
          "model_module_version": "1.5.0",
          "state": {
            "_model_module": "@jupyter-widgets/controls",
            "_model_module_version": "1.5.0",
            "_model_name": "DescriptionStyleModel",
            "_view_count": null,
            "_view_module": "@jupyter-widgets/base",
            "_view_module_version": "1.2.0",
            "_view_name": "StyleView",
            "description_width": ""
          }
        },
        "a4c58b8749cc492aa053ca4a85514998": {
          "model_module": "@jupyter-widgets/base",
          "model_name": "LayoutModel",
          "model_module_version": "1.2.0",
          "state": {
            "_model_module": "@jupyter-widgets/base",
            "_model_module_version": "1.2.0",
            "_model_name": "LayoutModel",
            "_view_count": null,
            "_view_module": "@jupyter-widgets/base",
            "_view_module_version": "1.2.0",
            "_view_name": "LayoutView",
            "align_content": null,
            "align_items": null,
            "align_self": null,
            "border": null,
            "bottom": null,
            "display": null,
            "flex": null,
            "flex_flow": null,
            "grid_area": null,
            "grid_auto_columns": null,
            "grid_auto_flow": null,
            "grid_auto_rows": null,
            "grid_column": null,
            "grid_gap": null,
            "grid_row": null,
            "grid_template_areas": null,
            "grid_template_columns": null,
            "grid_template_rows": null,
            "height": null,
            "justify_content": null,
            "justify_items": null,
            "left": null,
            "margin": null,
            "max_height": null,
            "max_width": null,
            "min_height": null,
            "min_width": null,
            "object_fit": null,
            "object_position": null,
            "order": null,
            "overflow": null,
            "overflow_x": null,
            "overflow_y": null,
            "padding": null,
            "right": null,
            "top": null,
            "visibility": null,
            "width": null
          }
        }
      }
    }
  },
  "cells": [
    {
      "cell_type": "markdown",
      "source": [
        "#Temperature forecast model applied to Colombia\n",
        "\n",
        "Currently, one of the most relevant challenges for humanity is to face and mitigate climate change associated with activities that produce greenhouse gases and deforestation. According to [(IDEAM, PNUD, MADS, DNP, CANCILLERÍA. 2015)](https://http://documentacion.ideam.gov.co/openbiblio/bvirtual/022963/escenarios_cambioclimaticodepartamental/Estudio_tecnico_completo.pdf), an increase in temperature causes an imbalance in the earth's natural systems, fundamental in the development of human productive activities.\n",
        "\n",
        "Considering this, our goal is to **predict the behavior of the temperature until the year 2040 by means of the implementation of different machine learning models, taking into account different variables such as population, GDP, energy consumption and gas and agriculture emissions.**\n",
        "\n"
      ],
      "metadata": {
        "id": "Rj_8SB37T-Wb"
      }
    },
    {
      "cell_type": "markdown",
      "source": [
        "## Importing the libraries"
      ],
      "metadata": {
        "id": "QTN3JOAkK5XR"
      }
    },
    {
      "cell_type": "code",
      "execution_count": null,
      "metadata": {
        "id": "YZVTMac-sSpC"
      },
      "outputs": [],
      "source": [
        "##Tratamiento de datos\n",
        "import pandas as pd\n",
        "import numpy as np\n",
        "import string\n",
        "import requests\n",
        "from datetime import timedelta\n",
        "import datetime as dt\n",
        "from numpy import mean\n",
        "from numpy import std\n",
        "import io\n",
        "import json\n",
        "from pandas import json_normalize\n",
        "from pandas.io.json import json_normalize\n",
        "\n",
        "\n",
        "#Gráficos\n",
        "import seaborn as sns\n",
        "import matplotlib.pyplot as plt\n",
        "from matplotlib.ticker import PercentFormatter\n",
        "import cufflinks as cf\n",
        "from __future__ import print_function\n",
        "from ipywidgets import interact, interactive, fixed, interact_manual\n",
        "import ipywidgets as widgets\n",
        "\n",
        "import plotly\n",
        "import plotly.express as px\n",
        "import plotly.offline as py\n",
        "from plotly.offline import plot, iplot, init_notebook_mode\n",
        "import plotly.graph_objs as go\n",
        "import plotly.graph_objects as go\n",
        "from plotly.subplots import make_subplots\n",
        "import plotly.figure_factory as ff\n",
        "import plotly.tools as tls\n",
        "\n",
        "\n",
        "#Preprocesado y modelado de datos\n",
        "from sklearn import preprocessing\n",
        "from sklearn.preprocessing import MinMaxScaler\n",
        "from sklearn.preprocessing import StandardScaler\n",
        "from sklearn.model_selection import train_test_split\n",
        "from sklearn.datasets import load_boston\n",
        "\n",
        "import statsmodels.api as sm\n",
        "import statsmodels.formula.api as smf\n",
        "\n",
        "from sklearn import linear_model\n",
        "from sklearn.linear_model import LinearRegression\n",
        "from sklearn.ensemble import RandomForestRegressor\n",
        "from sklearn.tree import DecisionTreeRegressor\n",
        "from sklearn.kernel_ridge import KernelRidge\n",
        "from sklearn.svm import SVR\n",
        "from sklearn.model_selection import GridSearchCV\n",
        "\n",
        "from sklearn.metrics import r2_score\n",
        "from sklearn.metrics import mean_squared_error\n",
        "\n",
        "from sklearn.pipeline import Pipeline\n",
        "from sklearn.model_selection import cross_val_score\n",
        "from sklearn.model_selection import RepeatedKFold\n",
        "from sklearn.feature_selection import RFE\n",
        "from sklearn import metrics\n",
        "\n",
        "# Otros pendientes por verificar si se usaron\n",
        "from scipy.stats import pearsonr\n",
        "from sklearn.datasets import make_regression\n",
        "from sklearn.neighbors import KNeighborsRegressor"
      ]
    },
    {
      "cell_type": "markdown",
      "source": [
        "## Importing the datasets\n"
      ],
      "metadata": {
        "id": "lYmVzJRIL4Wp"
      }
    },
    {
      "cell_type": "code",
      "source": [
        "#FAOSTAT\n",
        "LandCoverCSV='https://raw.githubusercontent.com/ajrianop/projectDS4A/main/LandCover.csv'\n",
        "ForestlandCSV='https://raw.githubusercontent.com/ajrianop/projectDS4A/main/Forestland.csv'\n",
        "CropsLivestocksProductsCSV='https://raw.githubusercontent.com/ajrianop/projectDS4A/main/CropsLivestocksProducts.csv'\n",
        "ForestlossCSV='https://raw.githubusercontent.com/ajrianop/projectDS4A/main/forestloss.csv'\n",
        "ForestgainCSV='https://raw.githubusercontent.com/ajrianop/projectDS4A/main/Forestgain.csv'\n",
        "\n",
        "#WorldBank\n",
        "worldbankCSV='https://raw.githubusercontent.com/ajrianop/projectDS4A/main/data_WorldBank.csv'\n",
        "forestloss_department_CSV='https://raw.githubusercontent.com/ajrianop/projectDS4A/main/deparmen_table.csv'\n",
        "forestloss_municipal_CSV='https://raw.githubusercontent.com/ajrianop/projectDS4A/main/municipal_table.csv'\n",
        "\n",
        "# Hansen\n",
        "HansenCSV='https://raw.githubusercontent.com/ajrianop/projectDS4A/main/forestloss_year.csv'\n",
        "\n",
        "#This information is available in https://www.kaggle.com/datasets/pralabhpoudel/world-energy-consumption\n",
        "Energy_CSV='https://raw.githubusercontent.com/ajrianop/projectDS4A/main/Colombia_Consumo_energia.csv'\n",
        "\n",
        "#This information is available in https://github.com/owid/co2-data\n",
        "Emissions_GDP_CSV= 'https://raw.githubusercontent.com/ajrianop/projectDS4A/main/Colombia_emisiones_y_gdp.xlsx'\n",
        "\n",
        "#This information is available in https://developers.google.com/earth-engine/datasets/catalog/ECMWF_ERA5_LAND_MONTHLY#description \n",
        "Temperature_CSV = \"https://raw.githubusercontent.com/ajrianop/projectDS4A/main/mean_temperature.csv\"\n",
        "\n",
        "#Departamental Data\n",
        "#PIB\n",
        "Depto_PIB_CSV = 'https://raw.githubusercontent.com/ajrianop/projectDS4A/main/PIB_Deptos_valorcorriente.csv'\n",
        "Depto_Valor_Agr_CSV = 'https://raw.githubusercontent.com/ajrianop/projectDS4A/main/Valor agregado_Depto_Agr_Ganad_Silvic_Pesca.csv'\n",
        "Depto_Valor_Minas_CSV = 'https://raw.githubusercontent.com/ajrianop/projectDS4A/main/Valor agregado_Depto_Explot Minas y Canteras.csv'\n",
        "Depto_Valor_Industria_CSV = 'https://raw.githubusercontent.com/ajrianop/projectDS4A/main/Valor agregado_Depto_Industrias Manufactureras.csv'\n",
        "#PIB with transposed columns\n",
        "departament_pib_CSV='https://raw.githubusercontent.com/ajrianop/projectDS4A/main/code_department_pib.csv'\n",
        "#Temperature\n",
        "departament_temperature_CSV='https://raw.githubusercontent.com/ajrianop/projectDS4A/main/code_department_temp.csv'\n",
        "#Deforestation\n",
        "departament_def_CSV='https://raw.githubusercontent.com/ajrianop/projectDS4A/main/code_department_def.csv'"
      ],
      "metadata": {
        "id": "MT-52Dzi7t-e"
      },
      "execution_count": null,
      "outputs": []
    },
    {
      "cell_type": "markdown",
      "source": [
        "For the approach of the model we have five datasets, which contains information about forest area, greenhouse gases, energy consumption by category, temperature, gdp and cattle.\n",
        "\n",
        "1. World Bank: \n",
        "\n",
        "  - Forest area (sq. km)\n",
        "  - Agricultural land (sq. km)\n",
        "  - Agricultural methane emissions (thousand metric tons of CO2 equivalent)\n",
        "  - Agricultural nitrous oxide emission (thousand metric tons of CO2 equivalent)\n",
        "\n",
        "2. Energy: \n",
        "  - coal_consumption (TWh)\n",
        "  - fossil_fuel_consumption (TWh)\n",
        "  - gas_consumption (TWh)\n",
        "  - hydro_consumption (TWh)\n",
        "  - oil_consumption (TWh)\n",
        "  - other_renewable_consumption (TWh)\n",
        "  - primary_energy_consumption (TWh)\n",
        "  - renewables_consumption (TWh)\n",
        "  - population (number of people)\n",
        "\n",
        "3. Temperature\n",
        "  - temperature (Celcius degrees)\n",
        "\n",
        "4. Emissions and GDP\n",
        "  - co2 (Kilotonnes)\n",
        "  -\ttotal_ghg\t(Kilotonnes)\n",
        "  - methane (Kilotonnes)\n",
        "  -\tnitrous_oxide (Kilotonnes)\n",
        "  - GDP (billions of pesos) - Information from DANE\n",
        "\n",
        "5. Cattle\n",
        "  - Cattle (Number of heads)\n",
        "  - Pigs (Number of heads)\n",
        "\n"
      ],
      "metadata": {
        "id": "V0-w000K0r9Z"
      }
    },
    {
      "cell_type": "markdown",
      "source": [
        "## Data cleaning"
      ],
      "metadata": {
        "id": "jom2QfRR80wS"
      }
    },
    {
      "cell_type": "markdown",
      "source": [
        "### World Bank"
      ],
      "metadata": {
        "id": "7II-LztyoBAB"
      }
    },
    {
      "cell_type": "code",
      "source": [
        "df_worldbank=pd.read_csv(worldbankCSV,encoding='unicode_escape')\n",
        "columnas=[\"Series Name\",\"Series Code\",\"Country Name\",\"Country Code\"]\n",
        "lista=list(range(1960,2022))\n",
        "columnas.extend(lista)\n",
        "df_worldbank=df_worldbank.set_axis(columnas,axis=1,inplace=False)\n",
        "df_worldbank.head()"
      ],
      "metadata": {
        "colab": {
          "base_uri": "https://localhost:8080/",
          "height": 543
        },
        "id": "Hk_mtVVhlDWC",
        "outputId": "f8f863ef-f3ed-4a28-819e-4fd7176b82df"
      },
      "execution_count": null,
      "outputs": [
        {
          "output_type": "execute_result",
          "data": {
            "text/plain": [
              "                                         Series Name        Series Code  \\\n",
              "0                       Forest area (% of land area)     AG.LND.FRST.ZS   \n",
              "1  Agricultural irrigated land (% of total agricu...  AG.LND.IRIG.AG.ZS   \n",
              "2                 Agricultural land (% of land area)     AG.LND.AGRI.ZS   \n",
              "3                         Agricultural land (sq. km)     AG.LND.AGRI.K2   \n",
              "4        Agricultural methane emissions (% of total)  EN.ATM.METH.AG.ZS   \n",
              "\n",
              "  Country Name Country Code 1960              1961              1962  \\\n",
              "0     Colombia          COL   ..                ..                ..   \n",
              "1     Colombia          COL   ..                ..                ..   \n",
              "2     Colombia          COL   ..  36.0252365930599  36.9283461018477   \n",
              "3     Colombia          COL   ..            399700            409720   \n",
              "4     Colombia          COL   ..                ..                ..   \n",
              "\n",
              "               1963              1964              1965  ...  \\\n",
              "0                ..                ..                ..  ...   \n",
              "1                ..                ..                ..  ...   \n",
              "2  37.3979269941415  37.8503830554304  38.7634069400631  ...   \n",
              "3            414930            419950            430080  ...   \n",
              "4                ..                ..                ..  ...   \n",
              "\n",
              "               2012              2013              2014              2015  \\\n",
              "0  54.5638017124831  54.4424623704371  54.3211230283912  54.1997836863452   \n",
              "1                ..  1.45172663090531                ..                ..   \n",
              "2   38.411536728256   40.392609283461  40.3647589004056  40.3369986480397   \n",
              "3            426176            448156            447847            447539   \n",
              "4                ..                ..                ..                ..   \n",
              "\n",
              "               2016              2017              2018              2019  \\\n",
              "0  54.0419017575485  53.8438666065795  53.6642451554754  53.4846327174403   \n",
              "1                ..                ..                ..                ..   \n",
              "2  40.3091482649842  44.6137899954935  44.6074808472285                ..   \n",
              "3            447230            494990            494920                ..   \n",
              "4                ..                ..                ..                ..   \n",
              "\n",
              "               2020 2021  \n",
              "0  53.3050112663362   ..  \n",
              "1                ..   ..  \n",
              "2                ..   ..  \n",
              "3                ..   ..  \n",
              "4                ..   ..  \n",
              "\n",
              "[5 rows x 66 columns]"
            ],
            "text/html": [
              "\n",
              "  <div id=\"df-43c785f2-1f40-490b-bcc7-6ae232d2f184\">\n",
              "    <div class=\"colab-df-container\">\n",
              "      <div>\n",
              "<style scoped>\n",
              "    .dataframe tbody tr th:only-of-type {\n",
              "        vertical-align: middle;\n",
              "    }\n",
              "\n",
              "    .dataframe tbody tr th {\n",
              "        vertical-align: top;\n",
              "    }\n",
              "\n",
              "    .dataframe thead th {\n",
              "        text-align: right;\n",
              "    }\n",
              "</style>\n",
              "<table border=\"1\" class=\"dataframe\">\n",
              "  <thead>\n",
              "    <tr style=\"text-align: right;\">\n",
              "      <th></th>\n",
              "      <th>Series Name</th>\n",
              "      <th>Series Code</th>\n",
              "      <th>Country Name</th>\n",
              "      <th>Country Code</th>\n",
              "      <th>1960</th>\n",
              "      <th>1961</th>\n",
              "      <th>1962</th>\n",
              "      <th>1963</th>\n",
              "      <th>1964</th>\n",
              "      <th>1965</th>\n",
              "      <th>...</th>\n",
              "      <th>2012</th>\n",
              "      <th>2013</th>\n",
              "      <th>2014</th>\n",
              "      <th>2015</th>\n",
              "      <th>2016</th>\n",
              "      <th>2017</th>\n",
              "      <th>2018</th>\n",
              "      <th>2019</th>\n",
              "      <th>2020</th>\n",
              "      <th>2021</th>\n",
              "    </tr>\n",
              "  </thead>\n",
              "  <tbody>\n",
              "    <tr>\n",
              "      <th>0</th>\n",
              "      <td>Forest area (% of land area)</td>\n",
              "      <td>AG.LND.FRST.ZS</td>\n",
              "      <td>Colombia</td>\n",
              "      <td>COL</td>\n",
              "      <td>..</td>\n",
              "      <td>..</td>\n",
              "      <td>..</td>\n",
              "      <td>..</td>\n",
              "      <td>..</td>\n",
              "      <td>..</td>\n",
              "      <td>...</td>\n",
              "      <td>54.5638017124831</td>\n",
              "      <td>54.4424623704371</td>\n",
              "      <td>54.3211230283912</td>\n",
              "      <td>54.1997836863452</td>\n",
              "      <td>54.0419017575485</td>\n",
              "      <td>53.8438666065795</td>\n",
              "      <td>53.6642451554754</td>\n",
              "      <td>53.4846327174403</td>\n",
              "      <td>53.3050112663362</td>\n",
              "      <td>..</td>\n",
              "    </tr>\n",
              "    <tr>\n",
              "      <th>1</th>\n",
              "      <td>Agricultural irrigated land (% of total agricu...</td>\n",
              "      <td>AG.LND.IRIG.AG.ZS</td>\n",
              "      <td>Colombia</td>\n",
              "      <td>COL</td>\n",
              "      <td>..</td>\n",
              "      <td>..</td>\n",
              "      <td>..</td>\n",
              "      <td>..</td>\n",
              "      <td>..</td>\n",
              "      <td>..</td>\n",
              "      <td>...</td>\n",
              "      <td>..</td>\n",
              "      <td>1.45172663090531</td>\n",
              "      <td>..</td>\n",
              "      <td>..</td>\n",
              "      <td>..</td>\n",
              "      <td>..</td>\n",
              "      <td>..</td>\n",
              "      <td>..</td>\n",
              "      <td>..</td>\n",
              "      <td>..</td>\n",
              "    </tr>\n",
              "    <tr>\n",
              "      <th>2</th>\n",
              "      <td>Agricultural land (% of land area)</td>\n",
              "      <td>AG.LND.AGRI.ZS</td>\n",
              "      <td>Colombia</td>\n",
              "      <td>COL</td>\n",
              "      <td>..</td>\n",
              "      <td>36.0252365930599</td>\n",
              "      <td>36.9283461018477</td>\n",
              "      <td>37.3979269941415</td>\n",
              "      <td>37.8503830554304</td>\n",
              "      <td>38.7634069400631</td>\n",
              "      <td>...</td>\n",
              "      <td>38.411536728256</td>\n",
              "      <td>40.392609283461</td>\n",
              "      <td>40.3647589004056</td>\n",
              "      <td>40.3369986480397</td>\n",
              "      <td>40.3091482649842</td>\n",
              "      <td>44.6137899954935</td>\n",
              "      <td>44.6074808472285</td>\n",
              "      <td>..</td>\n",
              "      <td>..</td>\n",
              "      <td>..</td>\n",
              "    </tr>\n",
              "    <tr>\n",
              "      <th>3</th>\n",
              "      <td>Agricultural land (sq. km)</td>\n",
              "      <td>AG.LND.AGRI.K2</td>\n",
              "      <td>Colombia</td>\n",
              "      <td>COL</td>\n",
              "      <td>..</td>\n",
              "      <td>399700</td>\n",
              "      <td>409720</td>\n",
              "      <td>414930</td>\n",
              "      <td>419950</td>\n",
              "      <td>430080</td>\n",
              "      <td>...</td>\n",
              "      <td>426176</td>\n",
              "      <td>448156</td>\n",
              "      <td>447847</td>\n",
              "      <td>447539</td>\n",
              "      <td>447230</td>\n",
              "      <td>494990</td>\n",
              "      <td>494920</td>\n",
              "      <td>..</td>\n",
              "      <td>..</td>\n",
              "      <td>..</td>\n",
              "    </tr>\n",
              "    <tr>\n",
              "      <th>4</th>\n",
              "      <td>Agricultural methane emissions (% of total)</td>\n",
              "      <td>EN.ATM.METH.AG.ZS</td>\n",
              "      <td>Colombia</td>\n",
              "      <td>COL</td>\n",
              "      <td>..</td>\n",
              "      <td>..</td>\n",
              "      <td>..</td>\n",
              "      <td>..</td>\n",
              "      <td>..</td>\n",
              "      <td>..</td>\n",
              "      <td>...</td>\n",
              "      <td>..</td>\n",
              "      <td>..</td>\n",
              "      <td>..</td>\n",
              "      <td>..</td>\n",
              "      <td>..</td>\n",
              "      <td>..</td>\n",
              "      <td>..</td>\n",
              "      <td>..</td>\n",
              "      <td>..</td>\n",
              "      <td>..</td>\n",
              "    </tr>\n",
              "  </tbody>\n",
              "</table>\n",
              "<p>5 rows × 66 columns</p>\n",
              "</div>\n",
              "      <button class=\"colab-df-convert\" onclick=\"convertToInteractive('df-43c785f2-1f40-490b-bcc7-6ae232d2f184')\"\n",
              "              title=\"Convert this dataframe to an interactive table.\"\n",
              "              style=\"display:none;\">\n",
              "        \n",
              "  <svg xmlns=\"http://www.w3.org/2000/svg\" height=\"24px\"viewBox=\"0 0 24 24\"\n",
              "       width=\"24px\">\n",
              "    <path d=\"M0 0h24v24H0V0z\" fill=\"none\"/>\n",
              "    <path d=\"M18.56 5.44l.94 2.06.94-2.06 2.06-.94-2.06-.94-.94-2.06-.94 2.06-2.06.94zm-11 1L8.5 8.5l.94-2.06 2.06-.94-2.06-.94L8.5 2.5l-.94 2.06-2.06.94zm10 10l.94 2.06.94-2.06 2.06-.94-2.06-.94-.94-2.06-.94 2.06-2.06.94z\"/><path d=\"M17.41 7.96l-1.37-1.37c-.4-.4-.92-.59-1.43-.59-.52 0-1.04.2-1.43.59L10.3 9.45l-7.72 7.72c-.78.78-.78 2.05 0 2.83L4 21.41c.39.39.9.59 1.41.59.51 0 1.02-.2 1.41-.59l7.78-7.78 2.81-2.81c.8-.78.8-2.07 0-2.86zM5.41 20L4 18.59l7.72-7.72 1.47 1.35L5.41 20z\"/>\n",
              "  </svg>\n",
              "      </button>\n",
              "      \n",
              "  <style>\n",
              "    .colab-df-container {\n",
              "      display:flex;\n",
              "      flex-wrap:wrap;\n",
              "      gap: 12px;\n",
              "    }\n",
              "\n",
              "    .colab-df-convert {\n",
              "      background-color: #E8F0FE;\n",
              "      border: none;\n",
              "      border-radius: 50%;\n",
              "      cursor: pointer;\n",
              "      display: none;\n",
              "      fill: #1967D2;\n",
              "      height: 32px;\n",
              "      padding: 0 0 0 0;\n",
              "      width: 32px;\n",
              "    }\n",
              "\n",
              "    .colab-df-convert:hover {\n",
              "      background-color: #E2EBFA;\n",
              "      box-shadow: 0px 1px 2px rgba(60, 64, 67, 0.3), 0px 1px 3px 1px rgba(60, 64, 67, 0.15);\n",
              "      fill: #174EA6;\n",
              "    }\n",
              "\n",
              "    [theme=dark] .colab-df-convert {\n",
              "      background-color: #3B4455;\n",
              "      fill: #D2E3FC;\n",
              "    }\n",
              "\n",
              "    [theme=dark] .colab-df-convert:hover {\n",
              "      background-color: #434B5C;\n",
              "      box-shadow: 0px 1px 3px 1px rgba(0, 0, 0, 0.15);\n",
              "      filter: drop-shadow(0px 1px 2px rgba(0, 0, 0, 0.3));\n",
              "      fill: #FFFFFF;\n",
              "    }\n",
              "  </style>\n",
              "\n",
              "      <script>\n",
              "        const buttonEl =\n",
              "          document.querySelector('#df-43c785f2-1f40-490b-bcc7-6ae232d2f184 button.colab-df-convert');\n",
              "        buttonEl.style.display =\n",
              "          google.colab.kernel.accessAllowed ? 'block' : 'none';\n",
              "\n",
              "        async function convertToInteractive(key) {\n",
              "          const element = document.querySelector('#df-43c785f2-1f40-490b-bcc7-6ae232d2f184');\n",
              "          const dataTable =\n",
              "            await google.colab.kernel.invokeFunction('convertToInteractive',\n",
              "                                                     [key], {});\n",
              "          if (!dataTable) return;\n",
              "\n",
              "          const docLinkHtml = 'Like what you see? Visit the ' +\n",
              "            '<a target=\"_blank\" href=https://colab.research.google.com/notebooks/data_table.ipynb>data table notebook</a>'\n",
              "            + ' to learn more about interactive tables.';\n",
              "          element.innerHTML = '';\n",
              "          dataTable['output_type'] = 'display_data';\n",
              "          await google.colab.output.renderOutput(dataTable, element);\n",
              "          const docLink = document.createElement('div');\n",
              "          docLink.innerHTML = docLinkHtml;\n",
              "          element.appendChild(docLink);\n",
              "        }\n",
              "      </script>\n",
              "    </div>\n",
              "  </div>\n",
              "  "
            ]
          },
          "metadata": {},
          "execution_count": 252
        }
      ]
    },
    {
      "cell_type": "code",
      "source": [
        "df=df_worldbank.drop(columns=[\"Series Code\", \"Country Name\", \"Country Code\"])\n",
        "df.set_index(\"Series Name\",inplace=True)\n",
        "df=df.T\n",
        "df=df.apply(lambda x: pd.to_numeric(x, errors='coerce'))\n",
        "df = df.iloc[:, :-5]\n",
        "df = df.reset_index()"
      ],
      "metadata": {
        "id": "7dETSoKc-sRg"
      },
      "execution_count": null,
      "outputs": []
    },
    {
      "cell_type": "code",
      "source": [
        "#Selection of the most relevant variables for the model\n",
        "df_worldbank = df[[\"index\", \"Urban population\", \"Rural population\", \"Forest area (sq. km)\", \"Agricultural land (sq. km)\"\n",
        "            ,\"Agricultural methane emissions (thousand metric tons of CO2 equivalent)\", \"Agricultural nitrous oxide emissions (thousand metric tons of CO2 equivalent)\"\n",
        "            ]].rename(columns={'index': 'Year',  'Forest area (sq. km)': 'Forest area', 'Agricultural land (sq. km)': 'Agricultural land', \n",
        "                               'Agricultural methane emissions (thousand metric tons of CO2 equivalent)': 'Agricultural methane emissions',\n",
        "                               \"Agricultural nitrous oxide emissions (thousand metric tons of CO2 equivalent)\": \"Agricultural nitrous oxide emissions\"})"
      ],
      "metadata": {
        "id": "8ejrYkulu1mO"
      },
      "execution_count": null,
      "outputs": []
    },
    {
      "cell_type": "code",
      "source": [
        "#Nulls \n",
        "df_worldbank[df_worldbank[\"Year\"] >= 1990].info()"
      ],
      "metadata": {
        "colab": {
          "base_uri": "https://localhost:8080/"
        },
        "id": "bzNNAEBIzMof",
        "outputId": "aa54d033-904a-4c31-99be-bf75fca37bdd"
      },
      "execution_count": null,
      "outputs": [
        {
          "output_type": "stream",
          "name": "stdout",
          "text": [
            "<class 'pandas.core.frame.DataFrame'>\n",
            "Int64Index: 32 entries, 30 to 61\n",
            "Data columns (total 7 columns):\n",
            " #   Column                                Non-Null Count  Dtype  \n",
            "---  ------                                --------------  -----  \n",
            " 0   Year                                  32 non-null     int64  \n",
            " 1   Urban population                      31 non-null     float64\n",
            " 2   Rural population                      31 non-null     float64\n",
            " 3   Forest area                           31 non-null     float64\n",
            " 4   Agricultural land                     29 non-null     float64\n",
            " 5   Agricultural methane emissions        29 non-null     float64\n",
            " 6   Agricultural nitrous oxide emissions  29 non-null     float64\n",
            "dtypes: float64(6), int64(1)\n",
            "memory usage: 2.0 KB\n"
          ]
        }
      ]
    },
    {
      "cell_type": "markdown",
      "source": [
        "Given that our data doesn't have a large number of nulls, we will use ffill() function, which propagates last valid observation forward. \n",
        "\n",
        "We also removed Year 2021 because it isn't enough information to consider it into the model."
      ],
      "metadata": {
        "id": "Tbby4wM_WevW"
      }
    },
    {
      "cell_type": "code",
      "source": [
        "#Removing 2021\n",
        "df_worldbank = df_worldbank[df_worldbank[\"Year\"] >= 1990]\n",
        "df_worldbank = df_worldbank[df_worldbank[\"Year\"] < 2020]\n",
        "\n",
        "#Using ffill() to handle nulls\n",
        "df_worldbank.ffill(inplace = True)"
      ],
      "metadata": {
        "id": "E3PwiXLJZIaA"
      },
      "execution_count": null,
      "outputs": []
    },
    {
      "cell_type": "markdown",
      "source": [
        "### Energy"
      ],
      "metadata": {
        "id": "eeo_zg8_bhud"
      }
    },
    {
      "cell_type": "code",
      "source": [
        "df_energy = pd.read_csv(Energy_CSV,encoding='unicode_escape', sep = \";\")\n",
        "\n",
        "df_energy = df_energy.drop([\"iso_code\", \"country\", \"Unnamed: 12\",\t\"Unnamed: 13\"], axis = 1)\n",
        "\n",
        "#Filling null values with ffill()\n",
        "df_energy.ffill(inplace = True)"
      ],
      "metadata": {
        "id": "_XPJWy4dbe0d"
      },
      "execution_count": null,
      "outputs": []
    },
    {
      "cell_type": "code",
      "source": [
        "#We found out that our data is separated by comma, so we changed it for dots.\n",
        "\n",
        "df_energy['coal_consumption'] =pd.to_numeric(df_energy['coal_consumption'].str.replace(',','.'))\n",
        "df_energy['fossil_fuel_consumption'] =pd.to_numeric(df_energy['fossil_fuel_consumption'].str.replace(',','.'))\n",
        "df_energy['oil_consumption'] =pd.to_numeric(df_energy['oil_consumption'].str.replace(',','.'))\n",
        "df_energy['hydro_consumption'] =pd.to_numeric(df_energy['hydro_consumption'].str.replace(',','.'))\n",
        "df_energy['gas_consumption'] =pd.to_numeric(df_energy['gas_consumption'].str.replace(',','.'))\n",
        "df_energy['other_renewable_consumption'] =pd.to_numeric(df_energy['other_renewable_consumption'].str.replace(',','.'))\n",
        "df_energy['primary_energy_consumption'] =pd.to_numeric(df_energy['primary_energy_consumption'].str.replace(',','.'))\n",
        "df_energy['renewables_consumption'] =pd.to_numeric(df_energy['renewables_consumption'].str.replace(',','.'))"
      ],
      "metadata": {
        "id": "iY5gl6vamUH8"
      },
      "execution_count": null,
      "outputs": []
    },
    {
      "cell_type": "markdown",
      "source": [
        "### Temperature"
      ],
      "metadata": {
        "id": "CWMMWC-1gBtc"
      }
    },
    {
      "cell_type": "code",
      "source": [
        "df_temperature = pd.read_csv(Temperature_CSV, encoding='unicode_escape')\n",
        "df_temperature = df_temperature.rename(columns={'mean_2m_air_temperature': 'Temperature'})\n",
        "\n",
        "df_temperature[\"Year\"]=df_temperature[\"Year\"].str.replace(\",\",\"\").astype(int)\n",
        "df_temperature.head()"
      ],
      "metadata": {
        "colab": {
          "base_uri": "https://localhost:8080/",
          "height": 206
        },
        "id": "ADbhE7augF-c",
        "outputId": "36ae3847-c230-4b04-de75-8e746eb39206"
      },
      "execution_count": null,
      "outputs": [
        {
          "output_type": "execute_result",
          "data": {
            "text/plain": [
              "   Year  Temperature\n",
              "0  1979      296.803\n",
              "1  1980      297.037\n",
              "2  1981      296.700\n",
              "3  1982      296.621\n",
              "4  1983      296.957"
            ],
            "text/html": [
              "\n",
              "  <div id=\"df-031f2cd4-d954-4006-ac9f-529aa7e028b2\">\n",
              "    <div class=\"colab-df-container\">\n",
              "      <div>\n",
              "<style scoped>\n",
              "    .dataframe tbody tr th:only-of-type {\n",
              "        vertical-align: middle;\n",
              "    }\n",
              "\n",
              "    .dataframe tbody tr th {\n",
              "        vertical-align: top;\n",
              "    }\n",
              "\n",
              "    .dataframe thead th {\n",
              "        text-align: right;\n",
              "    }\n",
              "</style>\n",
              "<table border=\"1\" class=\"dataframe\">\n",
              "  <thead>\n",
              "    <tr style=\"text-align: right;\">\n",
              "      <th></th>\n",
              "      <th>Year</th>\n",
              "      <th>Temperature</th>\n",
              "    </tr>\n",
              "  </thead>\n",
              "  <tbody>\n",
              "    <tr>\n",
              "      <th>0</th>\n",
              "      <td>1979</td>\n",
              "      <td>296.803</td>\n",
              "    </tr>\n",
              "    <tr>\n",
              "      <th>1</th>\n",
              "      <td>1980</td>\n",
              "      <td>297.037</td>\n",
              "    </tr>\n",
              "    <tr>\n",
              "      <th>2</th>\n",
              "      <td>1981</td>\n",
              "      <td>296.700</td>\n",
              "    </tr>\n",
              "    <tr>\n",
              "      <th>3</th>\n",
              "      <td>1982</td>\n",
              "      <td>296.621</td>\n",
              "    </tr>\n",
              "    <tr>\n",
              "      <th>4</th>\n",
              "      <td>1983</td>\n",
              "      <td>296.957</td>\n",
              "    </tr>\n",
              "  </tbody>\n",
              "</table>\n",
              "</div>\n",
              "      <button class=\"colab-df-convert\" onclick=\"convertToInteractive('df-031f2cd4-d954-4006-ac9f-529aa7e028b2')\"\n",
              "              title=\"Convert this dataframe to an interactive table.\"\n",
              "              style=\"display:none;\">\n",
              "        \n",
              "  <svg xmlns=\"http://www.w3.org/2000/svg\" height=\"24px\"viewBox=\"0 0 24 24\"\n",
              "       width=\"24px\">\n",
              "    <path d=\"M0 0h24v24H0V0z\" fill=\"none\"/>\n",
              "    <path d=\"M18.56 5.44l.94 2.06.94-2.06 2.06-.94-2.06-.94-.94-2.06-.94 2.06-2.06.94zm-11 1L8.5 8.5l.94-2.06 2.06-.94-2.06-.94L8.5 2.5l-.94 2.06-2.06.94zm10 10l.94 2.06.94-2.06 2.06-.94-2.06-.94-.94-2.06-.94 2.06-2.06.94z\"/><path d=\"M17.41 7.96l-1.37-1.37c-.4-.4-.92-.59-1.43-.59-.52 0-1.04.2-1.43.59L10.3 9.45l-7.72 7.72c-.78.78-.78 2.05 0 2.83L4 21.41c.39.39.9.59 1.41.59.51 0 1.02-.2 1.41-.59l7.78-7.78 2.81-2.81c.8-.78.8-2.07 0-2.86zM5.41 20L4 18.59l7.72-7.72 1.47 1.35L5.41 20z\"/>\n",
              "  </svg>\n",
              "      </button>\n",
              "      \n",
              "  <style>\n",
              "    .colab-df-container {\n",
              "      display:flex;\n",
              "      flex-wrap:wrap;\n",
              "      gap: 12px;\n",
              "    }\n",
              "\n",
              "    .colab-df-convert {\n",
              "      background-color: #E8F0FE;\n",
              "      border: none;\n",
              "      border-radius: 50%;\n",
              "      cursor: pointer;\n",
              "      display: none;\n",
              "      fill: #1967D2;\n",
              "      height: 32px;\n",
              "      padding: 0 0 0 0;\n",
              "      width: 32px;\n",
              "    }\n",
              "\n",
              "    .colab-df-convert:hover {\n",
              "      background-color: #E2EBFA;\n",
              "      box-shadow: 0px 1px 2px rgba(60, 64, 67, 0.3), 0px 1px 3px 1px rgba(60, 64, 67, 0.15);\n",
              "      fill: #174EA6;\n",
              "    }\n",
              "\n",
              "    [theme=dark] .colab-df-convert {\n",
              "      background-color: #3B4455;\n",
              "      fill: #D2E3FC;\n",
              "    }\n",
              "\n",
              "    [theme=dark] .colab-df-convert:hover {\n",
              "      background-color: #434B5C;\n",
              "      box-shadow: 0px 1px 3px 1px rgba(0, 0, 0, 0.15);\n",
              "      filter: drop-shadow(0px 1px 2px rgba(0, 0, 0, 0.3));\n",
              "      fill: #FFFFFF;\n",
              "    }\n",
              "  </style>\n",
              "\n",
              "      <script>\n",
              "        const buttonEl =\n",
              "          document.querySelector('#df-031f2cd4-d954-4006-ac9f-529aa7e028b2 button.colab-df-convert');\n",
              "        buttonEl.style.display =\n",
              "          google.colab.kernel.accessAllowed ? 'block' : 'none';\n",
              "\n",
              "        async function convertToInteractive(key) {\n",
              "          const element = document.querySelector('#df-031f2cd4-d954-4006-ac9f-529aa7e028b2');\n",
              "          const dataTable =\n",
              "            await google.colab.kernel.invokeFunction('convertToInteractive',\n",
              "                                                     [key], {});\n",
              "          if (!dataTable) return;\n",
              "\n",
              "          const docLinkHtml = 'Like what you see? Visit the ' +\n",
              "            '<a target=\"_blank\" href=https://colab.research.google.com/notebooks/data_table.ipynb>data table notebook</a>'\n",
              "            + ' to learn more about interactive tables.';\n",
              "          element.innerHTML = '';\n",
              "          dataTable['output_type'] = 'display_data';\n",
              "          await google.colab.output.renderOutput(dataTable, element);\n",
              "          const docLink = document.createElement('div');\n",
              "          docLink.innerHTML = docLinkHtml;\n",
              "          element.appendChild(docLink);\n",
              "        }\n",
              "      </script>\n",
              "    </div>\n",
              "  </div>\n",
              "  "
            ]
          },
          "metadata": {},
          "execution_count": 321
        }
      ]
    },
    {
      "cell_type": "code",
      "source": [
        "#Convert to Celsius\n",
        "df_temperature[\"Temperature\"] = df_temperature[\"Temperature\"] - 273.15 "
      ],
      "metadata": {
        "id": "hHUMsY90gTEF"
      },
      "execution_count": null,
      "outputs": []
    },
    {
      "cell_type": "markdown",
      "source": [
        "### Emissions and GDP"
      ],
      "metadata": {
        "id": "DY5wdmJpifiD"
      }
    },
    {
      "cell_type": "code",
      "source": [
        "df_emissions_gdp = pd.read_excel(Emissions_GDP_CSV)\n",
        "\n",
        "df_emissions_gdp = df_emissions_gdp.drop([\"iso_code\", \"country\"], axis= 1)\n",
        "\n",
        "#Null values\n",
        "df_emissions_gdp.isnull().value_counts()"
      ],
      "metadata": {
        "colab": {
          "base_uri": "https://localhost:8080/"
        },
        "id": "Z26Tal_witSL",
        "outputId": "4188d1a1-301e-4708-9627-1ef5298a2fcb"
      },
      "execution_count": null,
      "outputs": [
        {
          "output_type": "execute_result",
          "data": {
            "text/plain": [
              "year   co2    total_ghg  methane  nitrous_oxide  gdp  \n",
              "False  False  False      False    False          False    29\n",
              "              True       True     True           False     1\n",
              "                                                 True      1\n",
              "dtype: int64"
            ]
          },
          "metadata": {},
          "execution_count": 261
        }
      ]
    },
    {
      "cell_type": "code",
      "source": [
        "#Filling null values\n",
        "df_emissions_gdp.ffill(inplace = True)\n",
        "df_emissions_gdp.bfill(inplace = True)"
      ],
      "metadata": {
        "id": "SdjUMQK2lGiy"
      },
      "execution_count": null,
      "outputs": []
    },
    {
      "cell_type": "code",
      "source": [
        "df_emissions_gdp.head()"
      ],
      "metadata": {
        "colab": {
          "base_uri": "https://localhost:8080/",
          "height": 206
        },
        "id": "nmipgmyQwKdk",
        "outputId": "7ceb29eb-e779-4f5a-f529-481632cb38f7"
      },
      "execution_count": null,
      "outputs": [
        {
          "output_type": "execute_result",
          "data": {
            "text/plain": [
              "   year     co2  total_ghg  methane  nitrous_oxide      gdp\n",
              "0  1990  56.898     217.08    57.47          18.06  26371.0\n",
              "1  1991  56.654     218.85    57.51          18.06  34170.0\n",
              "2  1992  61.495     222.51    58.54          18.05  44200.0\n",
              "3  1993  63.338     226.53    59.64          18.38  58932.0\n",
              "4  1994  66.791     228.62    60.77          18.67  77147.0"
            ],
            "text/html": [
              "\n",
              "  <div id=\"df-68b46f29-3fe9-483c-958a-aaf203cf519f\">\n",
              "    <div class=\"colab-df-container\">\n",
              "      <div>\n",
              "<style scoped>\n",
              "    .dataframe tbody tr th:only-of-type {\n",
              "        vertical-align: middle;\n",
              "    }\n",
              "\n",
              "    .dataframe tbody tr th {\n",
              "        vertical-align: top;\n",
              "    }\n",
              "\n",
              "    .dataframe thead th {\n",
              "        text-align: right;\n",
              "    }\n",
              "</style>\n",
              "<table border=\"1\" class=\"dataframe\">\n",
              "  <thead>\n",
              "    <tr style=\"text-align: right;\">\n",
              "      <th></th>\n",
              "      <th>year</th>\n",
              "      <th>co2</th>\n",
              "      <th>total_ghg</th>\n",
              "      <th>methane</th>\n",
              "      <th>nitrous_oxide</th>\n",
              "      <th>gdp</th>\n",
              "    </tr>\n",
              "  </thead>\n",
              "  <tbody>\n",
              "    <tr>\n",
              "      <th>0</th>\n",
              "      <td>1990</td>\n",
              "      <td>56.898</td>\n",
              "      <td>217.08</td>\n",
              "      <td>57.47</td>\n",
              "      <td>18.06</td>\n",
              "      <td>26371.0</td>\n",
              "    </tr>\n",
              "    <tr>\n",
              "      <th>1</th>\n",
              "      <td>1991</td>\n",
              "      <td>56.654</td>\n",
              "      <td>218.85</td>\n",
              "      <td>57.51</td>\n",
              "      <td>18.06</td>\n",
              "      <td>34170.0</td>\n",
              "    </tr>\n",
              "    <tr>\n",
              "      <th>2</th>\n",
              "      <td>1992</td>\n",
              "      <td>61.495</td>\n",
              "      <td>222.51</td>\n",
              "      <td>58.54</td>\n",
              "      <td>18.05</td>\n",
              "      <td>44200.0</td>\n",
              "    </tr>\n",
              "    <tr>\n",
              "      <th>3</th>\n",
              "      <td>1993</td>\n",
              "      <td>63.338</td>\n",
              "      <td>226.53</td>\n",
              "      <td>59.64</td>\n",
              "      <td>18.38</td>\n",
              "      <td>58932.0</td>\n",
              "    </tr>\n",
              "    <tr>\n",
              "      <th>4</th>\n",
              "      <td>1994</td>\n",
              "      <td>66.791</td>\n",
              "      <td>228.62</td>\n",
              "      <td>60.77</td>\n",
              "      <td>18.67</td>\n",
              "      <td>77147.0</td>\n",
              "    </tr>\n",
              "  </tbody>\n",
              "</table>\n",
              "</div>\n",
              "      <button class=\"colab-df-convert\" onclick=\"convertToInteractive('df-68b46f29-3fe9-483c-958a-aaf203cf519f')\"\n",
              "              title=\"Convert this dataframe to an interactive table.\"\n",
              "              style=\"display:none;\">\n",
              "        \n",
              "  <svg xmlns=\"http://www.w3.org/2000/svg\" height=\"24px\"viewBox=\"0 0 24 24\"\n",
              "       width=\"24px\">\n",
              "    <path d=\"M0 0h24v24H0V0z\" fill=\"none\"/>\n",
              "    <path d=\"M18.56 5.44l.94 2.06.94-2.06 2.06-.94-2.06-.94-.94-2.06-.94 2.06-2.06.94zm-11 1L8.5 8.5l.94-2.06 2.06-.94-2.06-.94L8.5 2.5l-.94 2.06-2.06.94zm10 10l.94 2.06.94-2.06 2.06-.94-2.06-.94-.94-2.06-.94 2.06-2.06.94z\"/><path d=\"M17.41 7.96l-1.37-1.37c-.4-.4-.92-.59-1.43-.59-.52 0-1.04.2-1.43.59L10.3 9.45l-7.72 7.72c-.78.78-.78 2.05 0 2.83L4 21.41c.39.39.9.59 1.41.59.51 0 1.02-.2 1.41-.59l7.78-7.78 2.81-2.81c.8-.78.8-2.07 0-2.86zM5.41 20L4 18.59l7.72-7.72 1.47 1.35L5.41 20z\"/>\n",
              "  </svg>\n",
              "      </button>\n",
              "      \n",
              "  <style>\n",
              "    .colab-df-container {\n",
              "      display:flex;\n",
              "      flex-wrap:wrap;\n",
              "      gap: 12px;\n",
              "    }\n",
              "\n",
              "    .colab-df-convert {\n",
              "      background-color: #E8F0FE;\n",
              "      border: none;\n",
              "      border-radius: 50%;\n",
              "      cursor: pointer;\n",
              "      display: none;\n",
              "      fill: #1967D2;\n",
              "      height: 32px;\n",
              "      padding: 0 0 0 0;\n",
              "      width: 32px;\n",
              "    }\n",
              "\n",
              "    .colab-df-convert:hover {\n",
              "      background-color: #E2EBFA;\n",
              "      box-shadow: 0px 1px 2px rgba(60, 64, 67, 0.3), 0px 1px 3px 1px rgba(60, 64, 67, 0.15);\n",
              "      fill: #174EA6;\n",
              "    }\n",
              "\n",
              "    [theme=dark] .colab-df-convert {\n",
              "      background-color: #3B4455;\n",
              "      fill: #D2E3FC;\n",
              "    }\n",
              "\n",
              "    [theme=dark] .colab-df-convert:hover {\n",
              "      background-color: #434B5C;\n",
              "      box-shadow: 0px 1px 3px 1px rgba(0, 0, 0, 0.15);\n",
              "      filter: drop-shadow(0px 1px 2px rgba(0, 0, 0, 0.3));\n",
              "      fill: #FFFFFF;\n",
              "    }\n",
              "  </style>\n",
              "\n",
              "      <script>\n",
              "        const buttonEl =\n",
              "          document.querySelector('#df-68b46f29-3fe9-483c-958a-aaf203cf519f button.colab-df-convert');\n",
              "        buttonEl.style.display =\n",
              "          google.colab.kernel.accessAllowed ? 'block' : 'none';\n",
              "\n",
              "        async function convertToInteractive(key) {\n",
              "          const element = document.querySelector('#df-68b46f29-3fe9-483c-958a-aaf203cf519f');\n",
              "          const dataTable =\n",
              "            await google.colab.kernel.invokeFunction('convertToInteractive',\n",
              "                                                     [key], {});\n",
              "          if (!dataTable) return;\n",
              "\n",
              "          const docLinkHtml = 'Like what you see? Visit the ' +\n",
              "            '<a target=\"_blank\" href=https://colab.research.google.com/notebooks/data_table.ipynb>data table notebook</a>'\n",
              "            + ' to learn more about interactive tables.';\n",
              "          element.innerHTML = '';\n",
              "          dataTable['output_type'] = 'display_data';\n",
              "          await google.colab.output.renderOutput(dataTable, element);\n",
              "          const docLink = document.createElement('div');\n",
              "          docLink.innerHTML = docLinkHtml;\n",
              "          element.appendChild(docLink);\n",
              "        }\n",
              "      </script>\n",
              "    </div>\n",
              "  </div>\n",
              "  "
            ]
          },
          "metadata": {},
          "execution_count": 263
        }
      ]
    },
    {
      "cell_type": "markdown",
      "source": [
        "### Cattle"
      ],
      "metadata": {
        "id": "oo7mW8CvjvMb"
      }
    },
    {
      "cell_type": "code",
      "source": [
        "Products = pd.read_csv(CropsLivestocksProductsCSV,encoding='unicode_escape')\n",
        "Animals = [\"Cattle\", \"Pigs\"]\n",
        "\n",
        "Livestock_animals = Products[(Products[\"Element\"] == \"Stocks\") & (Products[\"Item\"].isin(Animals))]\n",
        "Livestock_animals = Livestock_animals[[\"Year\", \"Item\", \"Value\"]]\n",
        "\n",
        "Livestock_animals.isnull().value_counts()"
      ],
      "metadata": {
        "colab": {
          "base_uri": "https://localhost:8080/"
        },
        "id": "LJxtoBfZj4pD",
        "outputId": "5bf986a1-c0c3-4d5c-ffbd-8bcca20ac4ef"
      },
      "execution_count": null,
      "outputs": [
        {
          "output_type": "execute_result",
          "data": {
            "text/plain": [
              "Year   Item   Value\n",
              "False  False  False    120\n",
              "dtype: int64"
            ]
          },
          "metadata": {},
          "execution_count": 264
        }
      ]
    },
    {
      "cell_type": "code",
      "source": [
        "#Pivot table\n",
        "Livestock_animals = pd.pivot_table(Livestock_animals, index = \"Year\", columns = \"Item\",values=\"Value\").reset_index()"
      ],
      "metadata": {
        "id": "qDoZRdMJkLN0"
      },
      "execution_count": null,
      "outputs": []
    },
    {
      "cell_type": "markdown",
      "source": [
        "### Merge of the datasets"
      ],
      "metadata": {
        "id": "UOx6kascljpc"
      }
    },
    {
      "cell_type": "code",
      "source": [
        "df_final = df_worldbank.merge(df_energy, right_on = \"year\", left_on = \"Year\")\n",
        "df_final = df_final.merge(df_temperature, on = \"Year\")\n",
        "df_final = df_final.merge(df_emissions_gdp, right_on = \"year\", left_on = \"Year\")\n",
        "df_final = df_final.merge(Livestock_animals, on = \"Year\")"
      ],
      "metadata": {
        "id": "f1qVzlcCm9ZW"
      },
      "execution_count": null,
      "outputs": []
    },
    {
      "cell_type": "code",
      "source": [
        "df_final.columns"
      ],
      "metadata": {
        "colab": {
          "base_uri": "https://localhost:8080/"
        },
        "id": "ChWosJLIju_i",
        "outputId": "8d1b95b2-60d5-4b37-95e1-af4094f64253"
      },
      "execution_count": null,
      "outputs": [
        {
          "output_type": "execute_result",
          "data": {
            "text/plain": [
              "Index(['Year', 'Urban population', 'Rural population', 'Forest area',\n",
              "       'Agricultural land', 'Agricultural methane emissions',\n",
              "       'Agricultural nitrous oxide emissions', 'year_x', 'coal_consumption',\n",
              "       'fossil_fuel_consumption', 'gas_consumption', 'hydro_consumption',\n",
              "       'oil_consumption', 'other_renewable_consumption',\n",
              "       'primary_energy_consumption', 'renewables_consumption', 'population',\n",
              "       'Temperature', 'year_y', 'co2', 'total_ghg', 'methane', 'nitrous_oxide',\n",
              "       'gdp', 'Cattle', 'Pigs'],\n",
              "      dtype='object')"
            ]
          },
          "metadata": {},
          "execution_count": 267
        }
      ]
    },
    {
      "cell_type": "code",
      "source": [
        "df_final = df_final.drop(['year_x', 'year_y'], axis = 1)"
      ],
      "metadata": {
        "id": "KBht9CLSoPDt"
      },
      "execution_count": null,
      "outputs": []
    },
    {
      "cell_type": "markdown",
      "source": [
        "## Exploratory Data Analysis"
      ],
      "metadata": {
        "id": "mhPNwvPIocyQ"
      }
    },
    {
      "cell_type": "markdown",
      "source": [
        "To define which variables are required in the construction of the model, we are going to carry out an analysis to determine the importance of the relation of the variables with the temperature and among them."
      ],
      "metadata": {
        "id": "m4rbJDv-F5zK"
      }
    },
    {
      "cell_type": "markdown",
      "source": [
        "**Variables description**\n",
        "\n",
        "- Year\n",
        "- Temperature (Celcius degrees)\n",
        "- Urban population\n",
        "- Rural population\n",
        "- Forest area (sq. km)\n",
        "- Agricultural land (sq. km)\n",
        "- Agricultural methane emissions (thousand metric tons of CO2 equivalent)\n",
        "- Agricultural nitrous oxide emissions (thousand metric tons of CO2 equivalent)\n",
        "- Coal_consumption (TWh)\n",
        "- Fossil_fuel_consumption (TWh)\n",
        "- Oil_consumption (TWh)\n",
        "- Gas_consumption (TWh)\n",
        "- Hydro_consumption (TWh)\n",
        "- Other_renewable_consumption (TWh)\n",
        "- Primary_energy_consumption (TWh)\n",
        "- Renewables_consumption (TWh)\n",
        "- Population \n",
        "- Co2 (Kilotonnes)\n",
        "- Total_ghg (Kilotonnes)\n",
        "- Methane (Kilotonnes)\n",
        "- Nitrous_oxide (Kilotonnes)\n",
        "- Gdp (billions of pesos)\n",
        "- Cattle (Number of heads)\n",
        "- Pigs (Number of heads)"
      ],
      "metadata": {
        "id": "q3hG-MHPc9Ow"
      }
    },
    {
      "cell_type": "markdown",
      "source": [
        "### National"
      ],
      "metadata": {
        "id": "knpKSR2gc4Pz"
      }
    },
    {
      "cell_type": "markdown",
      "source": [
        "#### Graphs"
      ],
      "metadata": {
        "id": "QuDviRU6rFRJ"
      }
    },
    {
      "cell_type": "code",
      "source": [
        "df_final = df_final.set_index(\"Year\")"
      ],
      "metadata": {
        "id": "yPYD9K0-rnfo"
      },
      "execution_count": null,
      "outputs": []
    },
    {
      "cell_type": "code",
      "source": [
        "#How has the temperature behaved in recent years?\n",
        "\n",
        "sns.lineplot(x=\"Year\", y=\"Temperature\",data=df_final)"
      ],
      "metadata": {
        "id": "sDXIhNNrzBh2",
        "colab": {
          "base_uri": "https://localhost:8080/",
          "height": 296
        },
        "outputId": "be512448-9c54-4c59-dcaa-b93319f2d749"
      },
      "execution_count": null,
      "outputs": [
        {
          "output_type": "execute_result",
          "data": {
            "text/plain": [
              "<matplotlib.axes._subplots.AxesSubplot at 0x7fa019779e10>"
            ]
          },
          "metadata": {},
          "execution_count": 270
        },
        {
          "output_type": "display_data",
          "data": {
            "text/plain": [
              "<Figure size 432x288 with 1 Axes>"
            ],
            "image/png": "[encoded data removed]"
          },
          "metadata": {
            "needs_background": "light"
          }
        }
      ]
    },
    {
      "cell_type": "markdown",
      "source": [
        "The temperature has a tendency to increase for the time period studied. However this increment is not constant, since there are years where the temperature decreases with respect to the previous year."
      ],
      "metadata": {
        "id": "-zQmb9boj0bO"
      }
    },
    {
      "cell_type": "code",
      "source": [
        "#Interaction between temperature and the explanatory variables\n",
        "variables = df_final.drop([\"Temperature\"], axis = 1).columns\n",
        "\n",
        "plt.figure(figsize=(22,22))\n",
        "for i,var in enumerate(variables):\n",
        "    plt.subplot(6,4,i+1)\n",
        "    sns.scatterplot(x=var, y='Temperature', data=df_final, color=\"c\")"
      ],
      "metadata": {
        "id": "p6AnfsnQqqNa",
        "colab": {
          "base_uri": "https://localhost:8080/",
          "height": 923
        },
        "outputId": "3c5c54fb-dd1b-4b5a-a44b-3ca8b6719c55"
      },
      "execution_count": null,
      "outputs": [
        {
          "output_type": "display_data",
          "data": {
            "text/plain": [
              "<Figure size 1584x1584 with 22 Axes>"
            ],
            "image/png": "[encoded data removed]"
          },
          "metadata": {
            "needs_background": "light"
          }
        }
      ]
    },
    {
      "cell_type": "code",
      "source": [
        "#Using interactive_plot to know the tendency of each variable through the years\n",
        "def pair_plot(y):\n",
        "  plt.figure(2)\n",
        "  x=df_final.index\n",
        "  df_final.plot(kind=\"line\",y=y, figsize=(15,8))\n",
        "  #plt.scatter(df[\"Forest area (% of land area)\"].values, df[y].values, alpha=0.20, edgecolor=None, color='red')\n",
        "  plt.show()\n",
        "\n",
        "interactive_plot=interactive(pair_plot,y=list(df_final.columns))\n",
        "output=interactive_plot.children[-1]\n",
        "interactive_plot"
      ],
      "metadata": {
        "id": "AA2aHqpGMt9k",
        "colab": {
          "base_uri": "https://localhost:8080/",
          "height": 557,
          "referenced_widgets": [
            "8630142798cb46869a60eea9ded7657d",
            "859060bb4a5a44af911537db297d2c50",
            "934ecbcf9be34c83ab0d4345a9c13210",
            "62a2de98d37c4dc3afe0a38586e7088a",
            "4c2a58a09cfc4cfa8dc7c2718fc93871",
            "0bfd44fa2f314110b85f76ec65c2bac2",
            "a4c58b8749cc492aa053ca4a85514998"
          ]
        },
        "outputId": "64f8d015-71e9-4df5-ad0d-c531131af5ae"
      },
      "execution_count": null,
      "outputs": [
        {
          "output_type": "display_data",
          "data": {
            "text/plain": [
              "interactive(children=(Dropdown(description='y', options=('Urban population', 'Rural population', 'Forest area'…"
            ],
            "application/vnd.jupyter.widget-view+json": {
              "version_major": 2,
              "version_minor": 0,
              "model_id": "8630142798cb46869a60eea9ded7657d"
            }
          },
          "metadata": {}
        }
      ]
    },
    {
      "cell_type": "markdown",
      "source": [
        "##### Data visualization\n"
      ],
      "metadata": {
        "id": "tNepZiYWg9P_"
      }
    },
    {
      "cell_type": "code",
      "source": [
        "df_finalCSV='https://raw.githubusercontent.com/ajrianop/projectDS4A/main/df_final.csv'\n",
        "df=pd.read_csv(df_finalCSV,encoding='unicode_escape')"
      ],
      "metadata": {
        "id": "Ox9bXS_uhrcb"
      },
      "execution_count": null,
      "outputs": []
    },
    {
      "cell_type": "code",
      "source": [
        "# Landcover\n",
        "fig = px.line(df, \n",
        "             x = \"Year\",\n",
        "             y = [\"Forest area\", \"Agricultural land\"],\n",
        "             #template = 'plotly_dark',\n",
        "             title = 'Land use (Square kilometers)',\n",
        "              labels={\"variable\": \"\"\n",
        "                    }\n",
        "             )\n",
        "\n",
        "\n",
        "fig.update_layout(yaxis_range=[0,700000])\n",
        "\n",
        "fig.update_traces(line_width=5)\n",
        "# Set x-axis title and range\n",
        "fig.update_xaxes(title_text=\"Year\")\n",
        "fig.update_xaxes(range=(1990,2020))\n",
        "\n",
        "# Set y-axes titles\n",
        "fig.update_yaxes(title_text=\"Square kilometers\")\n",
        "\n",
        "fig.show()"
      ],
      "metadata": {
        "colab": {
          "base_uri": "https://localhost:8080/",
          "height": 542
        },
        "id": "vlS0Ua0Lhscz",
        "outputId": "8861881f-12d5-4cbe-a1c0-9c5692858c6b"
      },
      "execution_count": null,
      "outputs": [
        {
          "output_type": "display_data",
          "data": {
            "text/html": [
              "<html>\n",
              "<head><meta charset=\"utf-8\" /></head>\n",
              "<body>\n",
              "    <div>            <script src=\"https://cdnjs.cloudflare.com/ajax/libs/mathjax/2.7.5/MathJax.js?config=TeX-AMS-MML_SVG\"></script><script type=\"text/javascript\">if (window.MathJax) {MathJax.Hub.Config({SVG: {font: \"STIX-Web\"}});}</script>                <script type=\"text/javascript\">window.PlotlyConfig = {MathJaxConfig: 'local'};</script>\n",
              "        <script src=\"https://cdn.plot.ly/plotly-2.8.3.min.js\"></script>                <div id=\"9f8674e7-df62-4b07-8071-b9ae00781aac\" class=\"plotly-graph-div\" style=\"height:525px; width:100%;\"></div>            <script type=\"text/javascript\">                                    window.PLOTLYENV=window.PLOTLYENV || {};                                    if (document.getElementById(\"9f8674e7-df62-4b07-8071-b9ae00781aac\")) {                    Plotly.newPlot(                        \"9f8674e7-df62-4b07-8071-b9ae00781aac\",                        [{\"hovertemplate\":\"=Forest area<br>Year=%{x}<br>value=%{y}<extra></extra>\",\"legendgroup\":\"Forest area\",\"line\":{\"color\":\"#636efa\",\"dash\":\"solid\",\"width\":5},\"marker\":{\"symbol\":\"circle\"},\"mode\":\"lines\",\"name\":\"Forest area\",\"orientation\":\"v\",\"showlegend\":true,\"x\":[1990,1991,1992,1993,1994,1995,1996,1997,1998,1999,2000,2001,2002,2003,2004,2005,2006,2007,2008,2009,2010,2011,2012,2013,2014,2015,2016,2017,2018,2019],\"xaxis\":\"x\",\"y\":[649581.4,647358.76,645136.12,642913.48,640690.84,638468.2,636245.56,634022.92,631800.28,629577.64,627355.0,625427.29,623499.58,621571.87,619644.16,617716.45,615788.74,613861.03,611933.32,610005.61,608077.9,606731.64,605385.38,604039.12,602692.86,601346.6,599594.9,597397.7,595404.8,593412.0],\"yaxis\":\"y\",\"type\":\"scatter\"},{\"hovertemplate\":\"=Agricultural land<br>Year=%{x}<br>value=%{y}<extra></extra>\",\"legendgroup\":\"Agricultural land\",\"line\":{\"color\":\"#EF553B\",\"dash\":\"solid\",\"width\":5},\"marker\":{\"symbol\":\"circle\"},\"mode\":\"lines\",\"name\":\"Agricultural land\",\"orientation\":\"v\",\"showlegend\":true,\"x\":[1990,1991,1992,1993,1994,1995,1996,1997,1998,1999,2000,2001,2002,2003,2004,2005,2006,2007,2008,2009,2010,2011,2012,2013,2014,2015,2016,2017,2018,2019],\"xaxis\":\"x\",\"y\":[450830.0,448840.0,449830.0,449030.0,448650.0,445130.0,449200.0,450820.0,455430.0,456680.0,448590.0,417450.0,416070.0,420510.0,423910.0,425570.0,421740.0,424360.0,426140.0,425400.0,425030.0,417210.0,426176.0,448156.0,447847.0,447539.0,447230.0,494990.0,494920.0,494920.0],\"yaxis\":\"y\",\"type\":\"scatter\"}],                        {\"template\":{\"data\":{\"bar\":[{\"error_x\":{\"color\":\"#2a3f5f\"},\"error_y\":{\"color\":\"#2a3f5f\"},\"marker\":{\"line\":{\"color\":\"#E5ECF6\",\"width\":0.5},\"pattern\":{\"fillmode\":\"overlay\",\"size\":10,\"solidity\":0.2}},\"type\":\"bar\"}],\"barpolar\":[{\"marker\":{\"line\":{\"color\":\"#E5ECF6\",\"width\":0.5},\"pattern\":{\"fillmode\":\"overlay\",\"size\":10,\"solidity\":0.2}},\"type\":\"barpolar\"}],\"carpet\":[{\"aaxis\":{\"endlinecolor\":\"#2a3f5f\",\"gridcolor\":\"white\",\"linecolor\":\"white\",\"minorgridcolor\":\"white\",\"startlinecolor\":\"#2a3f5f\"},\"baxis\":{\"endlinecolor\":\"#2a3f5f\",\"gridcolor\":\"white\",\"linecolor\":\"white\",\"minorgridcolor\":\"white\",\"startlinecolor\":\"#2a3f5f\"},\"type\":\"carpet\"}],\"choropleth\":[{\"colorbar\":{\"outlinewidth\":0,\"ticks\":\"\"},\"type\":\"choropleth\"}],\"contour\":[{\"colorbar\":{\"outlinewidth\":0,\"ticks\":\"\"},\"colorscale\":[[0.0,\"#0d0887\"],[0.1111111111111111,\"#46039f\"],[0.2222222222222222,\"#7201a8\"],[0.3333333333333333,\"#9c179e\"],[0.4444444444444444,\"#bd3786\"],[0.5555555555555556,\"#d8576b\"],[0.6666666666666666,\"#ed7953\"],[0.7777777777777778,\"#fb9f3a\"],[0.8888888888888888,\"#fdca26\"],[1.0,\"#f0f921\"]],\"type\":\"contour\"}],\"contourcarpet\":[{\"colorbar\":{\"outlinewidth\":0,\"ticks\":\"\"},\"type\":\"contourcarpet\"}],\"heatmap\":[{\"colorbar\":{\"outlinewidth\":0,\"ticks\":\"\"},\"colorscale\":[[0.0,\"#0d0887\"],[0.1111111111111111,\"#46039f\"],[0.2222222222222222,\"#7201a8\"],[0.3333333333333333,\"#9c179e\"],[0.4444444444444444,\"#bd3786\"],[0.5555555555555556,\"#d8576b\"],[0.6666666666666666,\"#ed7953\"],[0.7777777777777778,\"#fb9f3a\"],[0.8888888888888888,\"#fdca26\"],[1.0,\"#f0f921\"]],\"type\":\"heatmap\"}],\"heatmapgl\":[{\"colorbar\":{\"outlinewidth\":0,\"ticks\":\"\"},\"colorscale\":[[0.0,\"#0d0887\"],[0.1111111111111111,\"#46039f\"],[0.2222222222222222,\"#7201a8\"],[0.3333333333333333,\"#9c179e\"],[0.4444444444444444,\"#bd3786\"],[0.5555555555555556,\"#d8576b\"],[0.6666666666666666,\"#ed7953\"],[0.7777777777777778,\"#fb9f3a\"],[0.8888888888888888,\"#fdca26\"],[1.0,\"#f0f921\"]],\"type\":\"heatmapgl\"}],\"histogram\":[{\"marker\":{\"pattern\":{\"fillmode\":\"overlay\",\"size\":10,\"solidity\":0.2}},\"type\":\"histogram\"}],\"histogram2d\":[{\"colorbar\":{\"outlinewidth\":0,\"ticks\":\"\"},\"colorscale\":[[0.0,\"#0d0887\"],[0.1111111111111111,\"#46039f\"],[0.2222222222222222,\"#7201a8\"],[0.3333333333333333,\"#9c179e\"],[0.4444444444444444,\"#bd3786\"],[0.5555555555555556,\"#d8576b\"],[0.6666666666666666,\"#ed7953\"],[0.7777777777777778,\"#fb9f3a\"],[0.8888888888888888,\"#fdca26\"],[1.0,\"#f0f921\"]],\"type\":\"histogram2d\"}],\"histogram2dcontour\":[{\"colorbar\":{\"outlinewidth\":0,\"ticks\":\"\"},\"colorscale\":[[0.0,\"#0d0887\"],[0.1111111111111111,\"#46039f\"],[0.2222222222222222,\"#7201a8\"],[0.3333333333333333,\"#9c179e\"],[0.4444444444444444,\"#bd3786\"],[0.5555555555555556,\"#d8576b\"],[0.6666666666666666,\"#ed7953\"],[0.7777777777777778,\"#fb9f3a\"],[0.8888888888888888,\"#fdca26\"],[1.0,\"#f0f921\"]],\"type\":\"histogram2dcontour\"}],\"mesh3d\":[{\"colorbar\":{\"outlinewidth\":0,\"ticks\":\"\"},\"type\":\"mesh3d\"}],\"parcoords\":[{\"line\":{\"colorbar\":{\"outlinewidth\":0,\"ticks\":\"\"}},\"type\":\"parcoords\"}],\"pie\":[{\"automargin\":true,\"type\":\"pie\"}],\"scatter\":[{\"marker\":{\"colorbar\":{\"outlinewidth\":0,\"ticks\":\"\"}},\"type\":\"scatter\"}],\"scatter3d\":[{\"line\":{\"colorbar\":{\"outlinewidth\":0,\"ticks\":\"\"}},\"marker\":{\"colorbar\":{\"outlinewidth\":0,\"ticks\":\"\"}},\"type\":\"scatter3d\"}],\"scattercarpet\":[{\"marker\":{\"colorbar\":{\"outlinewidth\":0,\"ticks\":\"\"}},\"type\":\"scattercarpet\"}],\"scattergeo\":[{\"marker\":{\"colorbar\":{\"outlinewidth\":0,\"ticks\":\"\"}},\"type\":\"scattergeo\"}],\"scattergl\":[{\"marker\":{\"colorbar\":{\"outlinewidth\":0,\"ticks\":\"\"}},\"type\":\"scattergl\"}],\"scattermapbox\":[{\"marker\":{\"colorbar\":{\"outlinewidth\":0,\"ticks\":\"\"}},\"type\":\"scattermapbox\"}],\"scatterpolar\":[{\"marker\":{\"colorbar\":{\"outlinewidth\":0,\"ticks\":\"\"}},\"type\":\"scatterpolar\"}],\"scatterpolargl\":[{\"marker\":{\"colorbar\":{\"outlinewidth\":0,\"ticks\":\"\"}},\"type\":\"scatterpolargl\"}],\"scatterternary\":[{\"marker\":{\"colorbar\":{\"outlinewidth\":0,\"ticks\":\"\"}},\"type\":\"scatterternary\"}],\"surface\":[{\"colorbar\":{\"outlinewidth\":0,\"ticks\":\"\"},\"colorscale\":[[0.0,\"#0d0887\"],[0.1111111111111111,\"#46039f\"],[0.2222222222222222,\"#7201a8\"],[0.3333333333333333,\"#9c179e\"],[0.4444444444444444,\"#bd3786\"],[0.5555555555555556,\"#d8576b\"],[0.6666666666666666,\"#ed7953\"],[0.7777777777777778,\"#fb9f3a\"],[0.8888888888888888,\"#fdca26\"],[1.0,\"#f0f921\"]],\"type\":\"surface\"}],\"table\":[{\"cells\":{\"fill\":{\"color\":\"#EBF0F8\"},\"line\":{\"color\":\"white\"}},\"header\":{\"fill\":{\"color\":\"#C8D4E3\"},\"line\":{\"color\":\"white\"}},\"type\":\"table\"}]},\"layout\":{\"annotationdefaults\":{\"arrowcolor\":\"#2a3f5f\",\"arrowhead\":0,\"arrowwidth\":1},\"autotypenumbers\":\"strict\",\"coloraxis\":{\"colorbar\":{\"outlinewidth\":0,\"ticks\":\"\"}},\"colorscale\":{\"diverging\":[[0,\"#8e0152\"],[0.1,\"#c51b7d\"],[0.2,\"#de77ae\"],[0.3,\"#f1b6da\"],[0.4,\"#fde0ef\"],[0.5,\"#f7f7f7\"],[0.6,\"#e6f5d0\"],[0.7,\"#b8e186\"],[0.8,\"#7fbc41\"],[0.9,\"#4d9221\"],[1,\"#276419\"]],\"sequential\":[[0.0,\"#0d0887\"],[0.1111111111111111,\"#46039f\"],[0.2222222222222222,\"#7201a8\"],[0.3333333333333333,\"#9c179e\"],[0.4444444444444444,\"#bd3786\"],[0.5555555555555556,\"#d8576b\"],[0.6666666666666666,\"#ed7953\"],[0.7777777777777778,\"#fb9f3a\"],[0.8888888888888888,\"#fdca26\"],[1.0,\"#f0f921\"]],\"sequentialminus\":[[0.0,\"#0d0887\"],[0.1111111111111111,\"#46039f\"],[0.2222222222222222,\"#7201a8\"],[0.3333333333333333,\"#9c179e\"],[0.4444444444444444,\"#bd3786\"],[0.5555555555555556,\"#d8576b\"],[0.6666666666666666,\"#ed7953\"],[0.7777777777777778,\"#fb9f3a\"],[0.8888888888888888,\"#fdca26\"],[1.0,\"#f0f921\"]]},\"colorway\":[\"#636efa\",\"#EF553B\",\"#00cc96\",\"#ab63fa\",\"#FFA15A\",\"#19d3f3\",\"#FF6692\",\"#B6E880\",\"#FF97FF\",\"#FECB52\"],\"font\":{\"color\":\"#2a3f5f\"},\"geo\":{\"bgcolor\":\"white\",\"lakecolor\":\"white\",\"landcolor\":\"#E5ECF6\",\"showlakes\":true,\"showland\":true,\"subunitcolor\":\"white\"},\"hoverlabel\":{\"align\":\"left\"},\"hovermode\":\"closest\",\"mapbox\":{\"style\":\"light\"},\"paper_bgcolor\":\"white\",\"plot_bgcolor\":\"#E5ECF6\",\"polar\":{\"angularaxis\":{\"gridcolor\":\"white\",\"linecolor\":\"white\",\"ticks\":\"\"},\"bgcolor\":\"#E5ECF6\",\"radialaxis\":{\"gridcolor\":\"white\",\"linecolor\":\"white\",\"ticks\":\"\"}},\"scene\":{\"xaxis\":{\"backgroundcolor\":\"#E5ECF6\",\"gridcolor\":\"white\",\"gridwidth\":2,\"linecolor\":\"white\",\"showbackground\":true,\"ticks\":\"\",\"zerolinecolor\":\"white\"},\"yaxis\":{\"backgroundcolor\":\"#E5ECF6\",\"gridcolor\":\"white\",\"gridwidth\":2,\"linecolor\":\"white\",\"showbackground\":true,\"ticks\":\"\",\"zerolinecolor\":\"white\"},\"zaxis\":{\"backgroundcolor\":\"#E5ECF6\",\"gridcolor\":\"white\",\"gridwidth\":2,\"linecolor\":\"white\",\"showbackground\":true,\"ticks\":\"\",\"zerolinecolor\":\"white\"}},\"shapedefaults\":{\"line\":{\"color\":\"#2a3f5f\"}},\"ternary\":{\"aaxis\":{\"gridcolor\":\"white\",\"linecolor\":\"white\",\"ticks\":\"\"},\"baxis\":{\"gridcolor\":\"white\",\"linecolor\":\"white\",\"ticks\":\"\"},\"bgcolor\":\"#E5ECF6\",\"caxis\":{\"gridcolor\":\"white\",\"linecolor\":\"white\",\"ticks\":\"\"}},\"title\":{\"x\":0.05},\"xaxis\":{\"automargin\":true,\"gridcolor\":\"white\",\"linecolor\":\"white\",\"ticks\":\"\",\"title\":{\"standoff\":15},\"zerolinecolor\":\"white\",\"zerolinewidth\":2},\"yaxis\":{\"automargin\":true,\"gridcolor\":\"white\",\"linecolor\":\"white\",\"ticks\":\"\",\"title\":{\"standoff\":15},\"zerolinecolor\":\"white\",\"zerolinewidth\":2}}},\"xaxis\":{\"anchor\":\"y\",\"domain\":[0.0,1.0],\"title\":{\"text\":\"Year\"},\"range\":[1990,2020]},\"yaxis\":{\"anchor\":\"x\",\"domain\":[0.0,1.0],\"title\":{\"text\":\"Square kilometers\"},\"range\":[0,700000]},\"legend\":{\"title\":{\"text\":\"\"},\"tracegroupgap\":0},\"title\":{\"text\":\"Land use (Square kilometers)\"}},                        {\"responsive\": true}                    ).then(function(){\n",
              "                            \n",
              "var gd = document.getElementById('9f8674e7-df62-4b07-8071-b9ae00781aac');\n",
              "var x = new MutationObserver(function (mutations, observer) {{\n",
              "        var display = window.getComputedStyle(gd).display;\n",
              "        if (!display || display === 'none') {{\n",
              "            console.log([gd, 'removed!']);\n",
              "            Plotly.purge(gd);\n",
              "            observer.disconnect();\n",
              "        }}\n",
              "}});\n",
              "\n",
              "// Listen for the removal of the full notebook cells\n",
              "var notebookContainer = gd.closest('#notebook-container');\n",
              "if (notebookContainer) {{\n",
              "    x.observe(notebookContainer, {childList: true});\n",
              "}}\n",
              "\n",
              "// Listen for the clearing of the current output cell\n",
              "var outputEl = gd.closest('.output');\n",
              "if (outputEl) {{\n",
              "    x.observe(outputEl, {childList: true});\n",
              "}}\n",
              "\n",
              "                        })                };                            </script>        </div>\n",
              "</body>\n",
              "</html>"
            ]
          },
          "metadata": {}
        }
      ]
    },
    {
      "cell_type": "code",
      "source": [
        "# Population\n",
        "fig = px.bar(df, \n",
        "             x = \"Year\",\n",
        "             y = [\"Urban population\", \"Rural population\"],\n",
        "             title = 'Population',\n",
        "             labels={\"variable\": \"\"\n",
        "                    }\n",
        "             )\n",
        "fig.add_trace(\n",
        "    go.Scatter(x=df[\"Year\"], y=df[\"population\"], name=\"Total population\",hoveron='points'),\n",
        "    \n",
        ")\n",
        "\n",
        "# Set x-axis title and range\n",
        "fig.update_xaxes(title_text=\"Year\")\n",
        "fig.update_xaxes(range=(1990,2020))\n",
        "\n",
        "# Set y-axes titles\n",
        "fig.update_yaxes(title_text=\"Number of inhabitants\")\n",
        "\n",
        "\n",
        "fig.show()"
      ],
      "metadata": {
        "colab": {
          "base_uri": "https://localhost:8080/",
          "height": 542
        },
        "id": "9De-kmE0h_y4",
        "outputId": "c8e9433c-de16-4aed-8594-cba5fa4aacdd"
      },
      "execution_count": null,
      "outputs": [
        {
          "output_type": "display_data",
          "data": {
            "text/html": [
              "<html>\n",
              "<head><meta charset=\"utf-8\" /></head>\n",
              "<body>\n",
              "    <div>            <script src=\"https://cdnjs.cloudflare.com/ajax/libs/mathjax/2.7.5/MathJax.js?config=TeX-AMS-MML_SVG\"></script><script type=\"text/javascript\">if (window.MathJax) {MathJax.Hub.Config({SVG: {font: \"STIX-Web\"}});}</script>                <script type=\"text/javascript\">window.PlotlyConfig = {MathJaxConfig: 'local'};</script>\n",
              "        <script src=\"https://cdn.plot.ly/plotly-2.8.3.min.js\"></script>                <div id=\"750f2c3e-dba4-481e-88bb-354509526c4e\" class=\"plotly-graph-div\" style=\"height:525px; width:100%;\"></div>            <script type=\"text/javascript\">                                    window.PLOTLYENV=window.PLOTLYENV || {};                                    if (document.getElementById(\"750f2c3e-dba4-481e-88bb-354509526c4e\")) {                    Plotly.newPlot(                        \"750f2c3e-dba4-481e-88bb-354509526c4e\",                        [{\"alignmentgroup\":\"True\",\"hovertemplate\":\"=Urban population<br>Year=%{x}<br>value=%{y}<extra></extra>\",\"legendgroup\":\"Urban population\",\"marker\":{\"color\":\"#636efa\",\"pattern\":{\"shape\":\"\"}},\"name\":\"Urban population\",\"offsetgroup\":\"Urban population\",\"orientation\":\"v\",\"showlegend\":true,\"textposition\":\"auto\",\"x\":[1990,1991,1992,1993,1994,1995,1996,1997,1998,1999,2000,2001,2002,2003,2004,2005,2006,2007,2008,2009,2010,2011,2012,2013,2014,2015,2016,2017,2018,2019],\"xaxis\":\"x\",\"y\":[22999996,23613613,24238651,24870588,25506164,26142216,26777679,27410870,28043541,28676309,29309133,29941978,30573545,31200435,31817836,32422511,33015425,33597407,34166609,34720224,35257425,35769913,36262053,36759801,37299404,37904385,38592067,39346013,40115208,40827302],\"yaxis\":\"y\",\"type\":\"bar\"},{\"alignmentgroup\":\"True\",\"hovertemplate\":\"=Rural population<br>Year=%{x}<br>value=%{y}<extra></extra>\",\"legendgroup\":\"Rural population\",\"marker\":{\"color\":\"#EF553B\",\"pattern\":{\"shape\":\"\"}},\"name\":\"Rural population\",\"offsetgroup\":\"Rural population\",\"orientation\":\"v\",\"showlegend\":true,\"textposition\":\"auto\",\"x\":[1990,1991,1992,1993,1994,1995,1996,1997,1998,1999,2000,2001,2002,2003,2004,2005,2006,2007,2008,2009,2010,2011,2012,2013,2014,2015,2016,2017,2018,2019],\"xaxis\":\"x\",\"y\":[10102573,10144715,10183917,10220684,10252814,10279222,10298708,10312933,10320766,10323159,10320832,10313978,10301818,10283437,10258117,10225220,10185476,10140105,10088363,10029830,9965274,9892834,9813668,9735691,9668302,9616282,9582981,9563831,9545848,9512141],\"yaxis\":\"y\",\"type\":\"bar\"},{\"hoveron\":\"points\",\"name\":\"Total population\",\"x\":[1990,1991,1992,1993,1994,1995,1996,1997,1998,1999,2000,2001,2002,2003,2004,2005,2006,2007,2008,2009,2010,2011,2012,2013,2014,2015,2016,2017,2018,2019],\"y\":[33103000,33758000,34423000,35091000,35759000,36421000,37076000,37724000,38364000,38999000,39630000,40256000,40875000,41484000,42076000,42648000,43201000,43738000,44255000,44750000,45223000,45663000,46076000,46495000,46968000,47521000,48175000,48910000,49661000,50339000],\"type\":\"scatter\"}],                        {\"template\":{\"data\":{\"bar\":[{\"error_x\":{\"color\":\"#2a3f5f\"},\"error_y\":{\"color\":\"#2a3f5f\"},\"marker\":{\"line\":{\"color\":\"#E5ECF6\",\"width\":0.5},\"pattern\":{\"fillmode\":\"overlay\",\"size\":10,\"solidity\":0.2}},\"type\":\"bar\"}],\"barpolar\":[{\"marker\":{\"line\":{\"color\":\"#E5ECF6\",\"width\":0.5},\"pattern\":{\"fillmode\":\"overlay\",\"size\":10,\"solidity\":0.2}},\"type\":\"barpolar\"}],\"carpet\":[{\"aaxis\":{\"endlinecolor\":\"#2a3f5f\",\"gridcolor\":\"white\",\"linecolor\":\"white\",\"minorgridcolor\":\"white\",\"startlinecolor\":\"#2a3f5f\"},\"baxis\":{\"endlinecolor\":\"#2a3f5f\",\"gridcolor\":\"white\",\"linecolor\":\"white\",\"minorgridcolor\":\"white\",\"startlinecolor\":\"#2a3f5f\"},\"type\":\"carpet\"}],\"choropleth\":[{\"colorbar\":{\"outlinewidth\":0,\"ticks\":\"\"},\"type\":\"choropleth\"}],\"contour\":[{\"colorbar\":{\"outlinewidth\":0,\"ticks\":\"\"},\"colorscale\":[[0.0,\"#0d0887\"],[0.1111111111111111,\"#46039f\"],[0.2222222222222222,\"#7201a8\"],[0.3333333333333333,\"#9c179e\"],[0.4444444444444444,\"#bd3786\"],[0.5555555555555556,\"#d8576b\"],[0.6666666666666666,\"#ed7953\"],[0.7777777777777778,\"#fb9f3a\"],[0.8888888888888888,\"#fdca26\"],[1.0,\"#f0f921\"]],\"type\":\"contour\"}],\"contourcarpet\":[{\"colorbar\":{\"outlinewidth\":0,\"ticks\":\"\"},\"type\":\"contourcarpet\"}],\"heatmap\":[{\"colorbar\":{\"outlinewidth\":0,\"ticks\":\"\"},\"colorscale\":[[0.0,\"#0d0887\"],[0.1111111111111111,\"#46039f\"],[0.2222222222222222,\"#7201a8\"],[0.3333333333333333,\"#9c179e\"],[0.4444444444444444,\"#bd3786\"],[0.5555555555555556,\"#d8576b\"],[0.6666666666666666,\"#ed7953\"],[0.7777777777777778,\"#fb9f3a\"],[0.8888888888888888,\"#fdca26\"],[1.0,\"#f0f921\"]],\"type\":\"heatmap\"}],\"heatmapgl\":[{\"colorbar\":{\"outlinewidth\":0,\"ticks\":\"\"},\"colorscale\":[[0.0,\"#0d0887\"],[0.1111111111111111,\"#46039f\"],[0.2222222222222222,\"#7201a8\"],[0.3333333333333333,\"#9c179e\"],[0.4444444444444444,\"#bd3786\"],[0.5555555555555556,\"#d8576b\"],[0.6666666666666666,\"#ed7953\"],[0.7777777777777778,\"#fb9f3a\"],[0.8888888888888888,\"#fdca26\"],[1.0,\"#f0f921\"]],\"type\":\"heatmapgl\"}],\"histogram\":[{\"marker\":{\"pattern\":{\"fillmode\":\"overlay\",\"size\":10,\"solidity\":0.2}},\"type\":\"histogram\"}],\"histogram2d\":[{\"colorbar\":{\"outlinewidth\":0,\"ticks\":\"\"},\"colorscale\":[[0.0,\"#0d0887\"],[0.1111111111111111,\"#46039f\"],[0.2222222222222222,\"#7201a8\"],[0.3333333333333333,\"#9c179e\"],[0.4444444444444444,\"#bd3786\"],[0.5555555555555556,\"#d8576b\"],[0.6666666666666666,\"#ed7953\"],[0.7777777777777778,\"#fb9f3a\"],[0.8888888888888888,\"#fdca26\"],[1.0,\"#f0f921\"]],\"type\":\"histogram2d\"}],\"histogram2dcontour\":[{\"colorbar\":{\"outlinewidth\":0,\"ticks\":\"\"},\"colorscale\":[[0.0,\"#0d0887\"],[0.1111111111111111,\"#46039f\"],[0.2222222222222222,\"#7201a8\"],[0.3333333333333333,\"#9c179e\"],[0.4444444444444444,\"#bd3786\"],[0.5555555555555556,\"#d8576b\"],[0.6666666666666666,\"#ed7953\"],[0.7777777777777778,\"#fb9f3a\"],[0.8888888888888888,\"#fdca26\"],[1.0,\"#f0f921\"]],\"type\":\"histogram2dcontour\"}],\"mesh3d\":[{\"colorbar\":{\"outlinewidth\":0,\"ticks\":\"\"},\"type\":\"mesh3d\"}],\"parcoords\":[{\"line\":{\"colorbar\":{\"outlinewidth\":0,\"ticks\":\"\"}},\"type\":\"parcoords\"}],\"pie\":[{\"automargin\":true,\"type\":\"pie\"}],\"scatter\":[{\"marker\":{\"colorbar\":{\"outlinewidth\":0,\"ticks\":\"\"}},\"type\":\"scatter\"}],\"scatter3d\":[{\"line\":{\"colorbar\":{\"outlinewidth\":0,\"ticks\":\"\"}},\"marker\":{\"colorbar\":{\"outlinewidth\":0,\"ticks\":\"\"}},\"type\":\"scatter3d\"}],\"scattercarpet\":[{\"marker\":{\"colorbar\":{\"outlinewidth\":0,\"ticks\":\"\"}},\"type\":\"scattercarpet\"}],\"scattergeo\":[{\"marker\":{\"colorbar\":{\"outlinewidth\":0,\"ticks\":\"\"}},\"type\":\"scattergeo\"}],\"scattergl\":[{\"marker\":{\"colorbar\":{\"outlinewidth\":0,\"ticks\":\"\"}},\"type\":\"scattergl\"}],\"scattermapbox\":[{\"marker\":{\"colorbar\":{\"outlinewidth\":0,\"ticks\":\"\"}},\"type\":\"scattermapbox\"}],\"scatterpolar\":[{\"marker\":{\"colorbar\":{\"outlinewidth\":0,\"ticks\":\"\"}},\"type\":\"scatterpolar\"}],\"scatterpolargl\":[{\"marker\":{\"colorbar\":{\"outlinewidth\":0,\"ticks\":\"\"}},\"type\":\"scatterpolargl\"}],\"scatterternary\":[{\"marker\":{\"colorbar\":{\"outlinewidth\":0,\"ticks\":\"\"}},\"type\":\"scatterternary\"}],\"surface\":[{\"colorbar\":{\"outlinewidth\":0,\"ticks\":\"\"},\"colorscale\":[[0.0,\"#0d0887\"],[0.1111111111111111,\"#46039f\"],[0.2222222222222222,\"#7201a8\"],[0.3333333333333333,\"#9c179e\"],[0.4444444444444444,\"#bd3786\"],[0.5555555555555556,\"#d8576b\"],[0.6666666666666666,\"#ed7953\"],[0.7777777777777778,\"#fb9f3a\"],[0.8888888888888888,\"#fdca26\"],[1.0,\"#f0f921\"]],\"type\":\"surface\"}],\"table\":[{\"cells\":{\"fill\":{\"color\":\"#EBF0F8\"},\"line\":{\"color\":\"white\"}},\"header\":{\"fill\":{\"color\":\"#C8D4E3\"},\"line\":{\"color\":\"white\"}},\"type\":\"table\"}]},\"layout\":{\"annotationdefaults\":{\"arrowcolor\":\"#2a3f5f\",\"arrowhead\":0,\"arrowwidth\":1},\"autotypenumbers\":\"strict\",\"coloraxis\":{\"colorbar\":{\"outlinewidth\":0,\"ticks\":\"\"}},\"colorscale\":{\"diverging\":[[0,\"#8e0152\"],[0.1,\"#c51b7d\"],[0.2,\"#de77ae\"],[0.3,\"#f1b6da\"],[0.4,\"#fde0ef\"],[0.5,\"#f7f7f7\"],[0.6,\"#e6f5d0\"],[0.7,\"#b8e186\"],[0.8,\"#7fbc41\"],[0.9,\"#4d9221\"],[1,\"#276419\"]],\"sequential\":[[0.0,\"#0d0887\"],[0.1111111111111111,\"#46039f\"],[0.2222222222222222,\"#7201a8\"],[0.3333333333333333,\"#9c179e\"],[0.4444444444444444,\"#bd3786\"],[0.5555555555555556,\"#d8576b\"],[0.6666666666666666,\"#ed7953\"],[0.7777777777777778,\"#fb9f3a\"],[0.8888888888888888,\"#fdca26\"],[1.0,\"#f0f921\"]],\"sequentialminus\":[[0.0,\"#0d0887\"],[0.1111111111111111,\"#46039f\"],[0.2222222222222222,\"#7201a8\"],[0.3333333333333333,\"#9c179e\"],[0.4444444444444444,\"#bd3786\"],[0.5555555555555556,\"#d8576b\"],[0.6666666666666666,\"#ed7953\"],[0.7777777777777778,\"#fb9f3a\"],[0.8888888888888888,\"#fdca26\"],[1.0,\"#f0f921\"]]},\"colorway\":[\"#636efa\",\"#EF553B\",\"#00cc96\",\"#ab63fa\",\"#FFA15A\",\"#19d3f3\",\"#FF6692\",\"#B6E880\",\"#FF97FF\",\"#FECB52\"],\"font\":{\"color\":\"#2a3f5f\"},\"geo\":{\"bgcolor\":\"white\",\"lakecolor\":\"white\",\"landcolor\":\"#E5ECF6\",\"showlakes\":true,\"showland\":true,\"subunitcolor\":\"white\"},\"hoverlabel\":{\"align\":\"left\"},\"hovermode\":\"closest\",\"mapbox\":{\"style\":\"light\"},\"paper_bgcolor\":\"white\",\"plot_bgcolor\":\"#E5ECF6\",\"polar\":{\"angularaxis\":{\"gridcolor\":\"white\",\"linecolor\":\"white\",\"ticks\":\"\"},\"bgcolor\":\"#E5ECF6\",\"radialaxis\":{\"gridcolor\":\"white\",\"linecolor\":\"white\",\"ticks\":\"\"}},\"scene\":{\"xaxis\":{\"backgroundcolor\":\"#E5ECF6\",\"gridcolor\":\"white\",\"gridwidth\":2,\"linecolor\":\"white\",\"showbackground\":true,\"ticks\":\"\",\"zerolinecolor\":\"white\"},\"yaxis\":{\"backgroundcolor\":\"#E5ECF6\",\"gridcolor\":\"white\",\"gridwidth\":2,\"linecolor\":\"white\",\"showbackground\":true,\"ticks\":\"\",\"zerolinecolor\":\"white\"},\"zaxis\":{\"backgroundcolor\":\"#E5ECF6\",\"gridcolor\":\"white\",\"gridwidth\":2,\"linecolor\":\"white\",\"showbackground\":true,\"ticks\":\"\",\"zerolinecolor\":\"white\"}},\"shapedefaults\":{\"line\":{\"color\":\"#2a3f5f\"}},\"ternary\":{\"aaxis\":{\"gridcolor\":\"white\",\"linecolor\":\"white\",\"ticks\":\"\"},\"baxis\":{\"gridcolor\":\"white\",\"linecolor\":\"white\",\"ticks\":\"\"},\"bgcolor\":\"#E5ECF6\",\"caxis\":{\"gridcolor\":\"white\",\"linecolor\":\"white\",\"ticks\":\"\"}},\"title\":{\"x\":0.05},\"xaxis\":{\"automargin\":true,\"gridcolor\":\"white\",\"linecolor\":\"white\",\"ticks\":\"\",\"title\":{\"standoff\":15},\"zerolinecolor\":\"white\",\"zerolinewidth\":2},\"yaxis\":{\"automargin\":true,\"gridcolor\":\"white\",\"linecolor\":\"white\",\"ticks\":\"\",\"title\":{\"standoff\":15},\"zerolinecolor\":\"white\",\"zerolinewidth\":2}}},\"xaxis\":{\"anchor\":\"y\",\"domain\":[0.0,1.0],\"title\":{\"text\":\"Year\"},\"range\":[1990,2020]},\"yaxis\":{\"anchor\":\"x\",\"domain\":[0.0,1.0],\"title\":{\"text\":\"Number of inhabitants\"}},\"legend\":{\"title\":{\"text\":\"\"},\"tracegroupgap\":0},\"title\":{\"text\":\"Population\"},\"barmode\":\"relative\"},                        {\"responsive\": true}                    ).then(function(){\n",
              "                            \n",
              "var gd = document.getElementById('750f2c3e-dba4-481e-88bb-354509526c4e');\n",
              "var x = new MutationObserver(function (mutations, observer) {{\n",
              "        var display = window.getComputedStyle(gd).display;\n",
              "        if (!display || display === 'none') {{\n",
              "            console.log([gd, 'removed!']);\n",
              "            Plotly.purge(gd);\n",
              "            observer.disconnect();\n",
              "        }}\n",
              "}});\n",
              "\n",
              "// Listen for the removal of the full notebook cells\n",
              "var notebookContainer = gd.closest('#notebook-container');\n",
              "if (notebookContainer) {{\n",
              "    x.observe(notebookContainer, {childList: true});\n",
              "}}\n",
              "\n",
              "// Listen for the clearing of the current output cell\n",
              "var outputEl = gd.closest('.output');\n",
              "if (outputEl) {{\n",
              "    x.observe(outputEl, {childList: true});\n",
              "}}\n",
              "\n",
              "                        })                };                            </script>        </div>\n",
              "</body>\n",
              "</html>"
            ]
          },
          "metadata": {}
        }
      ]
    },
    {
      "cell_type": "code",
      "source": [
        "# Renewable and Hydro energy consumption\n",
        "fig=px.line(df,x=df[\"Year\"],y=[\"hydro_consumption\", \"renewables_consumption\"],\n",
        "                  labels={\n",
        "                     \"value\": \"Consumption of hydroelectric and renewable energy (tWh)\",\n",
        "                     \"variable\": \"\"\n",
        "                    })\n",
        "fig.update_layout(yaxis_range=[0,160])\n",
        "\n",
        "# Set x-axis title and range\n",
        "fig.update_xaxes(title_text=\"Year\")\n",
        "fig.update_xaxes(range=(1990,2020))\n",
        "# Set y-axes titles\n",
        "fig.update_yaxes(title_text=\"Energy consumption (tWh)\")\n",
        "\n",
        "\n",
        "\n",
        "fig.update_traces(line_width=5)\n",
        "\n",
        "\n",
        "fig.show()"
      ],
      "metadata": {
        "colab": {
          "base_uri": "https://localhost:8080/",
          "height": 542
        },
        "id": "VOHxb-x2iN6t",
        "outputId": "9cc90193-4956-4ef1-f7b9-940083360a83"
      },
      "execution_count": null,
      "outputs": [
        {
          "output_type": "display_data",
          "data": {
            "text/html": [
              "<html>\n",
              "<head><meta charset=\"utf-8\" /></head>\n",
              "<body>\n",
              "    <div>            <script src=\"https://cdnjs.cloudflare.com/ajax/libs/mathjax/2.7.5/MathJax.js?config=TeX-AMS-MML_SVG\"></script><script type=\"text/javascript\">if (window.MathJax) {MathJax.Hub.Config({SVG: {font: \"STIX-Web\"}});}</script>                <script type=\"text/javascript\">window.PlotlyConfig = {MathJaxConfig: 'local'};</script>\n",
              "        <script src=\"https://cdn.plot.ly/plotly-2.8.3.min.js\"></script>                <div id=\"e753942b-60dc-416f-9acc-d57b5b671560\" class=\"plotly-graph-div\" style=\"height:525px; width:100%;\"></div>            <script type=\"text/javascript\">                                    window.PLOTLYENV=window.PLOTLYENV || {};                                    if (document.getElementById(\"e753942b-60dc-416f-9acc-d57b5b671560\")) {                    Plotly.newPlot(                        \"e753942b-60dc-416f-9acc-d57b5b671560\",                        [{\"hovertemplate\":\"=hydro_consumption<br>Year=%{x}<br>Consumo de energ\\u00eda de hidroel\\u00e9ctricas y de renovables (tWh)=%{y}<extra></extra>\",\"legendgroup\":\"hydro_consumption\",\"line\":{\"color\":\"#636efa\",\"dash\":\"solid\",\"width\":5},\"marker\":{\"symbol\":\"circle\"},\"mode\":\"lines\",\"name\":\"hydro_consumption\",\"orientation\":\"v\",\"showlegend\":true,\"x\":[1990,1991,1992,1993,1994,1995,1996,1997,1998,1999,2000,2001,2002,2003,2004,2005,2006,2007,2008,2009,2010,2011,2012,2013,2014,2015,2016,2017,2018,2019],\"xaxis\":\"x\",\"y\":[76.377,77.017,61.891,77.379,89.051,88.86,98.021,87.433,85.505,93.613,85.599,87.298,93.138,98.557,103.76,105.499,113.755,117.518,121.853,107.135,105.748,125.498,122.559,113.58,113.864,113.035,117.662,143.355,140.789,127.63],\"yaxis\":\"y\",\"type\":\"scatter\"},{\"hovertemplate\":\"=renewables_consumption<br>Year=%{x}<br>Consumo de energ\\u00eda de hidroel\\u00e9ctricas y de renovables (tWh)=%{y}<extra></extra>\",\"legendgroup\":\"renewables_consumption\",\"line\":{\"color\":\"#EF553B\",\"dash\":\"solid\",\"width\":5},\"marker\":{\"symbol\":\"circle\"},\"mode\":\"lines\",\"name\":\"renewables_consumption\",\"orientation\":\"v\",\"showlegend\":true,\"x\":[1990,1991,1992,1993,1994,1995,1996,1997,1998,1999,2000,2001,2002,2003,2004,2005,2006,2007,2008,2009,2010,2011,2012,2013,2014,2015,2016,2017,2018,2019],\"xaxis\":\"x\",\"y\":[77.139,77.764,62.835,78.459,90.284,90.185,99.399,88.774,86.983,94.882,86.982,88.674,94.497,99.923,105.186,107.019,115.39,119.09,123.472,110.103,109.036,129.541,126.874,117.559,118.838,118.24,123.199,148.726,146.614,133.554],\"yaxis\":\"y\",\"type\":\"scatter\"}],                        {\"template\":{\"data\":{\"bar\":[{\"error_x\":{\"color\":\"#2a3f5f\"},\"error_y\":{\"color\":\"#2a3f5f\"},\"marker\":{\"line\":{\"color\":\"#E5ECF6\",\"width\":0.5},\"pattern\":{\"fillmode\":\"overlay\",\"size\":10,\"solidity\":0.2}},\"type\":\"bar\"}],\"barpolar\":[{\"marker\":{\"line\":{\"color\":\"#E5ECF6\",\"width\":0.5},\"pattern\":{\"fillmode\":\"overlay\",\"size\":10,\"solidity\":0.2}},\"type\":\"barpolar\"}],\"carpet\":[{\"aaxis\":{\"endlinecolor\":\"#2a3f5f\",\"gridcolor\":\"white\",\"linecolor\":\"white\",\"minorgridcolor\":\"white\",\"startlinecolor\":\"#2a3f5f\"},\"baxis\":{\"endlinecolor\":\"#2a3f5f\",\"gridcolor\":\"white\",\"linecolor\":\"white\",\"minorgridcolor\":\"white\",\"startlinecolor\":\"#2a3f5f\"},\"type\":\"carpet\"}],\"choropleth\":[{\"colorbar\":{\"outlinewidth\":0,\"ticks\":\"\"},\"type\":\"choropleth\"}],\"contour\":[{\"colorbar\":{\"outlinewidth\":0,\"ticks\":\"\"},\"colorscale\":[[0.0,\"#0d0887\"],[0.1111111111111111,\"#46039f\"],[0.2222222222222222,\"#7201a8\"],[0.3333333333333333,\"#9c179e\"],[0.4444444444444444,\"#bd3786\"],[0.5555555555555556,\"#d8576b\"],[0.6666666666666666,\"#ed7953\"],[0.7777777777777778,\"#fb9f3a\"],[0.8888888888888888,\"#fdca26\"],[1.0,\"#f0f921\"]],\"type\":\"contour\"}],\"contourcarpet\":[{\"colorbar\":{\"outlinewidth\":0,\"ticks\":\"\"},\"type\":\"contourcarpet\"}],\"heatmap\":[{\"colorbar\":{\"outlinewidth\":0,\"ticks\":\"\"},\"colorscale\":[[0.0,\"#0d0887\"],[0.1111111111111111,\"#46039f\"],[0.2222222222222222,\"#7201a8\"],[0.3333333333333333,\"#9c179e\"],[0.4444444444444444,\"#bd3786\"],[0.5555555555555556,\"#d8576b\"],[0.6666666666666666,\"#ed7953\"],[0.7777777777777778,\"#fb9f3a\"],[0.8888888888888888,\"#fdca26\"],[1.0,\"#f0f921\"]],\"type\":\"heatmap\"}],\"heatmapgl\":[{\"colorbar\":{\"outlinewidth\":0,\"ticks\":\"\"},\"colorscale\":[[0.0,\"#0d0887\"],[0.1111111111111111,\"#46039f\"],[0.2222222222222222,\"#7201a8\"],[0.3333333333333333,\"#9c179e\"],[0.4444444444444444,\"#bd3786\"],[0.5555555555555556,\"#d8576b\"],[0.6666666666666666,\"#ed7953\"],[0.7777777777777778,\"#fb9f3a\"],[0.8888888888888888,\"#fdca26\"],[1.0,\"#f0f921\"]],\"type\":\"heatmapgl\"}],\"histogram\":[{\"marker\":{\"pattern\":{\"fillmode\":\"overlay\",\"size\":10,\"solidity\":0.2}},\"type\":\"histogram\"}],\"histogram2d\":[{\"colorbar\":{\"outlinewidth\":0,\"ticks\":\"\"},\"colorscale\":[[0.0,\"#0d0887\"],[0.1111111111111111,\"#46039f\"],[0.2222222222222222,\"#7201a8\"],[0.3333333333333333,\"#9c179e\"],[0.4444444444444444,\"#bd3786\"],[0.5555555555555556,\"#d8576b\"],[0.6666666666666666,\"#ed7953\"],[0.7777777777777778,\"#fb9f3a\"],[0.8888888888888888,\"#fdca26\"],[1.0,\"#f0f921\"]],\"type\":\"histogram2d\"}],\"histogram2dcontour\":[{\"colorbar\":{\"outlinewidth\":0,\"ticks\":\"\"},\"colorscale\":[[0.0,\"#0d0887\"],[0.1111111111111111,\"#46039f\"],[0.2222222222222222,\"#7201a8\"],[0.3333333333333333,\"#9c179e\"],[0.4444444444444444,\"#bd3786\"],[0.5555555555555556,\"#d8576b\"],[0.6666666666666666,\"#ed7953\"],[0.7777777777777778,\"#fb9f3a\"],[0.8888888888888888,\"#fdca26\"],[1.0,\"#f0f921\"]],\"type\":\"histogram2dcontour\"}],\"mesh3d\":[{\"colorbar\":{\"outlinewidth\":0,\"ticks\":\"\"},\"type\":\"mesh3d\"}],\"parcoords\":[{\"line\":{\"colorbar\":{\"outlinewidth\":0,\"ticks\":\"\"}},\"type\":\"parcoords\"}],\"pie\":[{\"automargin\":true,\"type\":\"pie\"}],\"scatter\":[{\"marker\":{\"colorbar\":{\"outlinewidth\":0,\"ticks\":\"\"}},\"type\":\"scatter\"}],\"scatter3d\":[{\"line\":{\"colorbar\":{\"outlinewidth\":0,\"ticks\":\"\"}},\"marker\":{\"colorbar\":{\"outlinewidth\":0,\"ticks\":\"\"}},\"type\":\"scatter3d\"}],\"scattercarpet\":[{\"marker\":{\"colorbar\":{\"outlinewidth\":0,\"ticks\":\"\"}},\"type\":\"scattercarpet\"}],\"scattergeo\":[{\"marker\":{\"colorbar\":{\"outlinewidth\":0,\"ticks\":\"\"}},\"type\":\"scattergeo\"}],\"scattergl\":[{\"marker\":{\"colorbar\":{\"outlinewidth\":0,\"ticks\":\"\"}},\"type\":\"scattergl\"}],\"scattermapbox\":[{\"marker\":{\"colorbar\":{\"outlinewidth\":0,\"ticks\":\"\"}},\"type\":\"scattermapbox\"}],\"scatterpolar\":[{\"marker\":{\"colorbar\":{\"outlinewidth\":0,\"ticks\":\"\"}},\"type\":\"scatterpolar\"}],\"scatterpolargl\":[{\"marker\":{\"colorbar\":{\"outlinewidth\":0,\"ticks\":\"\"}},\"type\":\"scatterpolargl\"}],\"scatterternary\":[{\"marker\":{\"colorbar\":{\"outlinewidth\":0,\"ticks\":\"\"}},\"type\":\"scatterternary\"}],\"surface\":[{\"colorbar\":{\"outlinewidth\":0,\"ticks\":\"\"},\"colorscale\":[[0.0,\"#0d0887\"],[0.1111111111111111,\"#46039f\"],[0.2222222222222222,\"#7201a8\"],[0.3333333333333333,\"#9c179e\"],[0.4444444444444444,\"#bd3786\"],[0.5555555555555556,\"#d8576b\"],[0.6666666666666666,\"#ed7953\"],[0.7777777777777778,\"#fb9f3a\"],[0.8888888888888888,\"#fdca26\"],[1.0,\"#f0f921\"]],\"type\":\"surface\"}],\"table\":[{\"cells\":{\"fill\":{\"color\":\"#EBF0F8\"},\"line\":{\"color\":\"white\"}},\"header\":{\"fill\":{\"color\":\"#C8D4E3\"},\"line\":{\"color\":\"white\"}},\"type\":\"table\"}]},\"layout\":{\"annotationdefaults\":{\"arrowcolor\":\"#2a3f5f\",\"arrowhead\":0,\"arrowwidth\":1},\"autotypenumbers\":\"strict\",\"coloraxis\":{\"colorbar\":{\"outlinewidth\":0,\"ticks\":\"\"}},\"colorscale\":{\"diverging\":[[0,\"#8e0152\"],[0.1,\"#c51b7d\"],[0.2,\"#de77ae\"],[0.3,\"#f1b6da\"],[0.4,\"#fde0ef\"],[0.5,\"#f7f7f7\"],[0.6,\"#e6f5d0\"],[0.7,\"#b8e186\"],[0.8,\"#7fbc41\"],[0.9,\"#4d9221\"],[1,\"#276419\"]],\"sequential\":[[0.0,\"#0d0887\"],[0.1111111111111111,\"#46039f\"],[0.2222222222222222,\"#7201a8\"],[0.3333333333333333,\"#9c179e\"],[0.4444444444444444,\"#bd3786\"],[0.5555555555555556,\"#d8576b\"],[0.6666666666666666,\"#ed7953\"],[0.7777777777777778,\"#fb9f3a\"],[0.8888888888888888,\"#fdca26\"],[1.0,\"#f0f921\"]],\"sequentialminus\":[[0.0,\"#0d0887\"],[0.1111111111111111,\"#46039f\"],[0.2222222222222222,\"#7201a8\"],[0.3333333333333333,\"#9c179e\"],[0.4444444444444444,\"#bd3786\"],[0.5555555555555556,\"#d8576b\"],[0.6666666666666666,\"#ed7953\"],[0.7777777777777778,\"#fb9f3a\"],[0.8888888888888888,\"#fdca26\"],[1.0,\"#f0f921\"]]},\"colorway\":[\"#636efa\",\"#EF553B\",\"#00cc96\",\"#ab63fa\",\"#FFA15A\",\"#19d3f3\",\"#FF6692\",\"#B6E880\",\"#FF97FF\",\"#FECB52\"],\"font\":{\"color\":\"#2a3f5f\"},\"geo\":{\"bgcolor\":\"white\",\"lakecolor\":\"white\",\"landcolor\":\"#E5ECF6\",\"showlakes\":true,\"showland\":true,\"subunitcolor\":\"white\"},\"hoverlabel\":{\"align\":\"left\"},\"hovermode\":\"closest\",\"mapbox\":{\"style\":\"light\"},\"paper_bgcolor\":\"white\",\"plot_bgcolor\":\"#E5ECF6\",\"polar\":{\"angularaxis\":{\"gridcolor\":\"white\",\"linecolor\":\"white\",\"ticks\":\"\"},\"bgcolor\":\"#E5ECF6\",\"radialaxis\":{\"gridcolor\":\"white\",\"linecolor\":\"white\",\"ticks\":\"\"}},\"scene\":{\"xaxis\":{\"backgroundcolor\":\"#E5ECF6\",\"gridcolor\":\"white\",\"gridwidth\":2,\"linecolor\":\"white\",\"showbackground\":true,\"ticks\":\"\",\"zerolinecolor\":\"white\"},\"yaxis\":{\"backgroundcolor\":\"#E5ECF6\",\"gridcolor\":\"white\",\"gridwidth\":2,\"linecolor\":\"white\",\"showbackground\":true,\"ticks\":\"\",\"zerolinecolor\":\"white\"},\"zaxis\":{\"backgroundcolor\":\"#E5ECF6\",\"gridcolor\":\"white\",\"gridwidth\":2,\"linecolor\":\"white\",\"showbackground\":true,\"ticks\":\"\",\"zerolinecolor\":\"white\"}},\"shapedefaults\":{\"line\":{\"color\":\"#2a3f5f\"}},\"ternary\":{\"aaxis\":{\"gridcolor\":\"white\",\"linecolor\":\"white\",\"ticks\":\"\"},\"baxis\":{\"gridcolor\":\"white\",\"linecolor\":\"white\",\"ticks\":\"\"},\"bgcolor\":\"#E5ECF6\",\"caxis\":{\"gridcolor\":\"white\",\"linecolor\":\"white\",\"ticks\":\"\"}},\"title\":{\"x\":0.05},\"xaxis\":{\"automargin\":true,\"gridcolor\":\"white\",\"linecolor\":\"white\",\"ticks\":\"\",\"title\":{\"standoff\":15},\"zerolinecolor\":\"white\",\"zerolinewidth\":2},\"yaxis\":{\"automargin\":true,\"gridcolor\":\"white\",\"linecolor\":\"white\",\"ticks\":\"\",\"title\":{\"standoff\":15},\"zerolinecolor\":\"white\",\"zerolinewidth\":2}}},\"xaxis\":{\"anchor\":\"y\",\"domain\":[0.0,1.0],\"title\":{\"text\":\"A\\u00f1o\"},\"range\":[1990,2020]},\"yaxis\":{\"anchor\":\"x\",\"domain\":[0.0,1.0],\"title\":{\"text\":\"Consumo de energ\\u00eda (tWh)\"},\"range\":[0,160]},\"legend\":{\"title\":{\"text\":\"\"},\"tracegroupgap\":0},\"margin\":{\"t\":60}},                        {\"responsive\": true}                    ).then(function(){\n",
              "                            \n",
              "var gd = document.getElementById('e753942b-60dc-416f-9acc-d57b5b671560');\n",
              "var x = new MutationObserver(function (mutations, observer) {{\n",
              "        var display = window.getComputedStyle(gd).display;\n",
              "        if (!display || display === 'none') {{\n",
              "            console.log([gd, 'removed!']);\n",
              "            Plotly.purge(gd);\n",
              "            observer.disconnect();\n",
              "        }}\n",
              "}});\n",
              "\n",
              "// Listen for the removal of the full notebook cells\n",
              "var notebookContainer = gd.closest('#notebook-container');\n",
              "if (notebookContainer) {{\n",
              "    x.observe(notebookContainer, {childList: true});\n",
              "}}\n",
              "\n",
              "// Listen for the clearing of the current output cell\n",
              "var outputEl = gd.closest('.output');\n",
              "if (outputEl) {{\n",
              "    x.observe(outputEl, {childList: true});\n",
              "}}\n",
              "\n",
              "                        })                };                            </script>        </div>\n",
              "</body>\n",
              "</html>"
            ]
          },
          "metadata": {}
        }
      ]
    },
    {
      "cell_type": "markdown",
      "source": [
        "Until approximately 2007, renewable energy was based mainly on energy from hydroelectric plants. As of 2007, the other renewable sources, such as solar and wind energy, increased their production. In 2014, Law 1715 promoting renewable energy comes out. And in 2016 Colombia joined the International Renewable Energy Agency, IRENA, another incentive for the implementation of these sources in the country."
      ],
      "metadata": {
        "id": "LoBSky80iruA"
      }
    },
    {
      "cell_type": "code",
      "source": [
        "# Energy consumption filtered\n",
        "fig = px.bar(df, \n",
        "             x = \"Year\",\n",
        "             y = [\"coal_consumption\", \"gas_consumption\",\"oil_consumption\", \"renewables_consumption\"],\n",
        "             title = 'Energy consumption', \n",
        "             labels={\n",
        "                     \"value\": \"Energy consumption: hydroelectric and renewable (tWh)\",\n",
        "                     \"variable\": \"\"\n",
        "                    },\n",
        "             )\n",
        "fig.add_trace(\n",
        "    go.Scatter(x=df[\"Year\"], y=df[\"primary_energy_consumption\"], name=\"Primary energy consumption\",hoveron='points'),\n",
        ")\n",
        "\n",
        "fig.update_layout(yaxis_range=[0,600])\n",
        "\n",
        "# Set x-axis title\n",
        "fig.update_xaxes(title_text=\"Year\")\n",
        "fig.update_xaxes(range=(1990,2020))\n",
        "# Set y-axes titles\n",
        "fig.update_yaxes(title_text=\"Energy consumption (tWh)\")\n",
        "\n",
        "fig.show()"
      ],
      "metadata": {
        "colab": {
          "base_uri": "https://localhost:8080/",
          "height": 542
        },
        "id": "3HERvATHisUV",
        "outputId": "823ccd86-caaa-49d4-93e7-7517a409e1b5"
      },
      "execution_count": null,
      "outputs": [
        {
          "output_type": "display_data",
          "data": {
            "text/html": [
              "<html>\n",
              "<head><meta charset=\"utf-8\" /></head>\n",
              "<body>\n",
              "    <div>            <script src=\"https://cdnjs.cloudflare.com/ajax/libs/mathjax/2.7.5/MathJax.js?config=TeX-AMS-MML_SVG\"></script><script type=\"text/javascript\">if (window.MathJax) {MathJax.Hub.Config({SVG: {font: \"STIX-Web\"}});}</script>                <script type=\"text/javascript\">window.PlotlyConfig = {MathJaxConfig: 'local'};</script>\n",
              "        <script src=\"https://cdn.plot.ly/plotly-2.8.3.min.js\"></script>                <div id=\"1ecd3156-a436-44f9-8093-278a49efe8ec\" class=\"plotly-graph-div\" style=\"height:525px; width:100%;\"></div>            <script type=\"text/javascript\">                                    window.PLOTLYENV=window.PLOTLYENV || {};                                    if (document.getElementById(\"1ecd3156-a436-44f9-8093-278a49efe8ec\")) {                    Plotly.newPlot(                        \"1ecd3156-a436-44f9-8093-278a49efe8ec\",                        [{\"alignmentgroup\":\"True\",\"hovertemplate\":\"=coal_consumption<br>Year=%{x}<br>Energy consumption: hydroelectric and renewable (tWh)=%{y}<extra></extra>\",\"legendgroup\":\"coal_consumption\",\"marker\":{\"color\":\"#636efa\",\"pattern\":{\"shape\":\"\"}},\"name\":\"coal_consumption\",\"offsetgroup\":\"coal_consumption\",\"orientation\":\"v\",\"showlegend\":true,\"textposition\":\"auto\",\"x\":[1990,1991,1992,1993,1994,1995,1996,1997,1998,1999,2000,2001,2002,2003,2004,2005,2006,2007,2008,2009,2010,2011,2012,2013,2014,2015,2016,2017,2018,2019],\"xaxis\":\"x\",\"y\":[18.582,23.369,39.087,40.982,46.909,41.977,32.541,38.541,36.653,29.272,31.438,30.958,25.461,28.225,24.699,15.562,44.33,39.032,51.642,47.501,55.907,45.266,54.56,58.69,62.167,57.78,63.547,48.428,43.906,71.585],\"yaxis\":\"y\",\"type\":\"bar\"},{\"alignmentgroup\":\"True\",\"hovertemplate\":\"=gas_consumption<br>Year=%{x}<br>Energy consumption: hydroelectric and renewable (tWh)=%{y}<extra></extra>\",\"legendgroup\":\"gas_consumption\",\"marker\":{\"color\":\"#EF553B\",\"pattern\":{\"shape\":\"\"}},\"name\":\"gas_consumption\",\"offsetgroup\":\"gas_consumption\",\"orientation\":\"v\",\"showlegend\":true,\"textposition\":\"auto\",\"x\":[1990,1991,1992,1993,1994,1995,1996,1997,1998,1999,2000,2001,2002,2003,2004,2005,2006,2007,2008,2009,2010,2011,2012,2013,2014,2015,2016,2017,2018,2019],\"xaxis\":\"x\",\"y\":[37.42,38.583,37.966,39.417,38.997,41.473,45.103,56.74,65.886,56.909,57.358,59.39,59.987,57.5,61.348,64.463,67.647,71.616,72.751,83.793,87.451,85.15,94.659,104.773,113.841,112.117,120.966,123.66,132.101,134.465],\"yaxis\":\"y\",\"type\":\"bar\"},{\"alignmentgroup\":\"True\",\"hovertemplate\":\"=oil_consumption<br>Year=%{x}<br>Energy consumption: hydroelectric and renewable (tWh)=%{y}<extra></extra>\",\"legendgroup\":\"oil_consumption\",\"marker\":{\"color\":\"#00cc96\",\"pattern\":{\"shape\":\"\"}},\"name\":\"oil_consumption\",\"offsetgroup\":\"oil_consumption\",\"orientation\":\"v\",\"showlegend\":true,\"textposition\":\"auto\",\"x\":[1990,1991,1992,1993,1994,1995,1996,1997,1998,1999,2000,2001,2002,2003,2004,2005,2006,2007,2008,2009,2010,2011,2012,2013,2014,2015,2016,2017,2018,2019],\"xaxis\":\"x\",\"y\":[113.588,116.545,128.149,136.242,140.648,148.12,152.966,155.604,152.116,134.942,132.17,123.978,121.931,126.865,126.793,131.625,129.87,128.746,139.348,127.935,142.919,153.426,166.273,167.461,177.987,187.428,194.211,190.074,191.925,194.908],\"yaxis\":\"y\",\"type\":\"bar\"},{\"alignmentgroup\":\"True\",\"hovertemplate\":\"=renewables_consumption<br>Year=%{x}<br>Energy consumption: hydroelectric and renewable (tWh)=%{y}<extra></extra>\",\"legendgroup\":\"renewables_consumption\",\"marker\":{\"color\":\"#ab63fa\",\"pattern\":{\"shape\":\"\"}},\"name\":\"renewables_consumption\",\"offsetgroup\":\"renewables_consumption\",\"orientation\":\"v\",\"showlegend\":true,\"textposition\":\"auto\",\"x\":[1990,1991,1992,1993,1994,1995,1996,1997,1998,1999,2000,2001,2002,2003,2004,2005,2006,2007,2008,2009,2010,2011,2012,2013,2014,2015,2016,2017,2018,2019],\"xaxis\":\"x\",\"y\":[77.139,77.764,62.835,78.459,90.284,90.185,99.399,88.774,86.983,94.882,86.982,88.674,94.497,99.923,105.186,107.019,115.39,119.09,123.472,110.103,109.036,129.541,126.874,117.559,118.838,118.24,123.199,148.726,146.614,133.554],\"yaxis\":\"y\",\"type\":\"bar\"},{\"hoveron\":\"points\",\"name\":\"Primary energy consumption\",\"x\":[1990,1991,1992,1993,1994,1995,1996,1997,1998,1999,2000,2001,2002,2003,2004,2005,2006,2007,2008,2009,2010,2011,2012,2013,2014,2015,2016,2017,2018,2019],\"y\":[246.728,256.26,268.037,295.1,316.837,321.754,330.009,339.659,341.638,316.005,307.949,303.001,301.876,312.514,318.026,318.67,357.237,358.484,387.213,369.333,395.314,413.383,442.367,448.483,472.832,475.565,501.923,510.889,514.546,534.511],\"type\":\"scatter\"}],                        {\"template\":{\"data\":{\"bar\":[{\"error_x\":{\"color\":\"#2a3f5f\"},\"error_y\":{\"color\":\"#2a3f5f\"},\"marker\":{\"line\":{\"color\":\"#E5ECF6\",\"width\":0.5},\"pattern\":{\"fillmode\":\"overlay\",\"size\":10,\"solidity\":0.2}},\"type\":\"bar\"}],\"barpolar\":[{\"marker\":{\"line\":{\"color\":\"#E5ECF6\",\"width\":0.5},\"pattern\":{\"fillmode\":\"overlay\",\"size\":10,\"solidity\":0.2}},\"type\":\"barpolar\"}],\"carpet\":[{\"aaxis\":{\"endlinecolor\":\"#2a3f5f\",\"gridcolor\":\"white\",\"linecolor\":\"white\",\"minorgridcolor\":\"white\",\"startlinecolor\":\"#2a3f5f\"},\"baxis\":{\"endlinecolor\":\"#2a3f5f\",\"gridcolor\":\"white\",\"linecolor\":\"white\",\"minorgridcolor\":\"white\",\"startlinecolor\":\"#2a3f5f\"},\"type\":\"carpet\"}],\"choropleth\":[{\"colorbar\":{\"outlinewidth\":0,\"ticks\":\"\"},\"type\":\"choropleth\"}],\"contour\":[{\"colorbar\":{\"outlinewidth\":0,\"ticks\":\"\"},\"colorscale\":[[0.0,\"#0d0887\"],[0.1111111111111111,\"#46039f\"],[0.2222222222222222,\"#7201a8\"],[0.3333333333333333,\"#9c179e\"],[0.4444444444444444,\"#bd3786\"],[0.5555555555555556,\"#d8576b\"],[0.6666666666666666,\"#ed7953\"],[0.7777777777777778,\"#fb9f3a\"],[0.8888888888888888,\"#fdca26\"],[1.0,\"#f0f921\"]],\"type\":\"contour\"}],\"contourcarpet\":[{\"colorbar\":{\"outlinewidth\":0,\"ticks\":\"\"},\"type\":\"contourcarpet\"}],\"heatmap\":[{\"colorbar\":{\"outlinewidth\":0,\"ticks\":\"\"},\"colorscale\":[[0.0,\"#0d0887\"],[0.1111111111111111,\"#46039f\"],[0.2222222222222222,\"#7201a8\"],[0.3333333333333333,\"#9c179e\"],[0.4444444444444444,\"#bd3786\"],[0.5555555555555556,\"#d8576b\"],[0.6666666666666666,\"#ed7953\"],[0.7777777777777778,\"#fb9f3a\"],[0.8888888888888888,\"#fdca26\"],[1.0,\"#f0f921\"]],\"type\":\"heatmap\"}],\"heatmapgl\":[{\"colorbar\":{\"outlinewidth\":0,\"ticks\":\"\"},\"colorscale\":[[0.0,\"#0d0887\"],[0.1111111111111111,\"#46039f\"],[0.2222222222222222,\"#7201a8\"],[0.3333333333333333,\"#9c179e\"],[0.4444444444444444,\"#bd3786\"],[0.5555555555555556,\"#d8576b\"],[0.6666666666666666,\"#ed7953\"],[0.7777777777777778,\"#fb9f3a\"],[0.8888888888888888,\"#fdca26\"],[1.0,\"#f0f921\"]],\"type\":\"heatmapgl\"}],\"histogram\":[{\"marker\":{\"pattern\":{\"fillmode\":\"overlay\",\"size\":10,\"solidity\":0.2}},\"type\":\"histogram\"}],\"histogram2d\":[{\"colorbar\":{\"outlinewidth\":0,\"ticks\":\"\"},\"colorscale\":[[0.0,\"#0d0887\"],[0.1111111111111111,\"#46039f\"],[0.2222222222222222,\"#7201a8\"],[0.3333333333333333,\"#9c179e\"],[0.4444444444444444,\"#bd3786\"],[0.5555555555555556,\"#d8576b\"],[0.6666666666666666,\"#ed7953\"],[0.7777777777777778,\"#fb9f3a\"],[0.8888888888888888,\"#fdca26\"],[1.0,\"#f0f921\"]],\"type\":\"histogram2d\"}],\"histogram2dcontour\":[{\"colorbar\":{\"outlinewidth\":0,\"ticks\":\"\"},\"colorscale\":[[0.0,\"#0d0887\"],[0.1111111111111111,\"#46039f\"],[0.2222222222222222,\"#7201a8\"],[0.3333333333333333,\"#9c179e\"],[0.4444444444444444,\"#bd3786\"],[0.5555555555555556,\"#d8576b\"],[0.6666666666666666,\"#ed7953\"],[0.7777777777777778,\"#fb9f3a\"],[0.8888888888888888,\"#fdca26\"],[1.0,\"#f0f921\"]],\"type\":\"histogram2dcontour\"}],\"mesh3d\":[{\"colorbar\":{\"outlinewidth\":0,\"ticks\":\"\"},\"type\":\"mesh3d\"}],\"parcoords\":[{\"line\":{\"colorbar\":{\"outlinewidth\":0,\"ticks\":\"\"}},\"type\":\"parcoords\"}],\"pie\":[{\"automargin\":true,\"type\":\"pie\"}],\"scatter\":[{\"marker\":{\"colorbar\":{\"outlinewidth\":0,\"ticks\":\"\"}},\"type\":\"scatter\"}],\"scatter3d\":[{\"line\":{\"colorbar\":{\"outlinewidth\":0,\"ticks\":\"\"}},\"marker\":{\"colorbar\":{\"outlinewidth\":0,\"ticks\":\"\"}},\"type\":\"scatter3d\"}],\"scattercarpet\":[{\"marker\":{\"colorbar\":{\"outlinewidth\":0,\"ticks\":\"\"}},\"type\":\"scattercarpet\"}],\"scattergeo\":[{\"marker\":{\"colorbar\":{\"outlinewidth\":0,\"ticks\":\"\"}},\"type\":\"scattergeo\"}],\"scattergl\":[{\"marker\":{\"colorbar\":{\"outlinewidth\":0,\"ticks\":\"\"}},\"type\":\"scattergl\"}],\"scattermapbox\":[{\"marker\":{\"colorbar\":{\"outlinewidth\":0,\"ticks\":\"\"}},\"type\":\"scattermapbox\"}],\"scatterpolar\":[{\"marker\":{\"colorbar\":{\"outlinewidth\":0,\"ticks\":\"\"}},\"type\":\"scatterpolar\"}],\"scatterpolargl\":[{\"marker\":{\"colorbar\":{\"outlinewidth\":0,\"ticks\":\"\"}},\"type\":\"scatterpolargl\"}],\"scatterternary\":[{\"marker\":{\"colorbar\":{\"outlinewidth\":0,\"ticks\":\"\"}},\"type\":\"scatterternary\"}],\"surface\":[{\"colorbar\":{\"outlinewidth\":0,\"ticks\":\"\"},\"colorscale\":[[0.0,\"#0d0887\"],[0.1111111111111111,\"#46039f\"],[0.2222222222222222,\"#7201a8\"],[0.3333333333333333,\"#9c179e\"],[0.4444444444444444,\"#bd3786\"],[0.5555555555555556,\"#d8576b\"],[0.6666666666666666,\"#ed7953\"],[0.7777777777777778,\"#fb9f3a\"],[0.8888888888888888,\"#fdca26\"],[1.0,\"#f0f921\"]],\"type\":\"surface\"}],\"table\":[{\"cells\":{\"fill\":{\"color\":\"#EBF0F8\"},\"line\":{\"color\":\"white\"}},\"header\":{\"fill\":{\"color\":\"#C8D4E3\"},\"line\":{\"color\":\"white\"}},\"type\":\"table\"}]},\"layout\":{\"annotationdefaults\":{\"arrowcolor\":\"#2a3f5f\",\"arrowhead\":0,\"arrowwidth\":1},\"autotypenumbers\":\"strict\",\"coloraxis\":{\"colorbar\":{\"outlinewidth\":0,\"ticks\":\"\"}},\"colorscale\":{\"diverging\":[[0,\"#8e0152\"],[0.1,\"#c51b7d\"],[0.2,\"#de77ae\"],[0.3,\"#f1b6da\"],[0.4,\"#fde0ef\"],[0.5,\"#f7f7f7\"],[0.6,\"#e6f5d0\"],[0.7,\"#b8e186\"],[0.8,\"#7fbc41\"],[0.9,\"#4d9221\"],[1,\"#276419\"]],\"sequential\":[[0.0,\"#0d0887\"],[0.1111111111111111,\"#46039f\"],[0.2222222222222222,\"#7201a8\"],[0.3333333333333333,\"#9c179e\"],[0.4444444444444444,\"#bd3786\"],[0.5555555555555556,\"#d8576b\"],[0.6666666666666666,\"#ed7953\"],[0.7777777777777778,\"#fb9f3a\"],[0.8888888888888888,\"#fdca26\"],[1.0,\"#f0f921\"]],\"sequentialminus\":[[0.0,\"#0d0887\"],[0.1111111111111111,\"#46039f\"],[0.2222222222222222,\"#7201a8\"],[0.3333333333333333,\"#9c179e\"],[0.4444444444444444,\"#bd3786\"],[0.5555555555555556,\"#d8576b\"],[0.6666666666666666,\"#ed7953\"],[0.7777777777777778,\"#fb9f3a\"],[0.8888888888888888,\"#fdca26\"],[1.0,\"#f0f921\"]]},\"colorway\":[\"#636efa\",\"#EF553B\",\"#00cc96\",\"#ab63fa\",\"#FFA15A\",\"#19d3f3\",\"#FF6692\",\"#B6E880\",\"#FF97FF\",\"#FECB52\"],\"font\":{\"color\":\"#2a3f5f\"},\"geo\":{\"bgcolor\":\"white\",\"lakecolor\":\"white\",\"landcolor\":\"#E5ECF6\",\"showlakes\":true,\"showland\":true,\"subunitcolor\":\"white\"},\"hoverlabel\":{\"align\":\"left\"},\"hovermode\":\"closest\",\"mapbox\":{\"style\":\"light\"},\"paper_bgcolor\":\"white\",\"plot_bgcolor\":\"#E5ECF6\",\"polar\":{\"angularaxis\":{\"gridcolor\":\"white\",\"linecolor\":\"white\",\"ticks\":\"\"},\"bgcolor\":\"#E5ECF6\",\"radialaxis\":{\"gridcolor\":\"white\",\"linecolor\":\"white\",\"ticks\":\"\"}},\"scene\":{\"xaxis\":{\"backgroundcolor\":\"#E5ECF6\",\"gridcolor\":\"white\",\"gridwidth\":2,\"linecolor\":\"white\",\"showbackground\":true,\"ticks\":\"\",\"zerolinecolor\":\"white\"},\"yaxis\":{\"backgroundcolor\":\"#E5ECF6\",\"gridcolor\":\"white\",\"gridwidth\":2,\"linecolor\":\"white\",\"showbackground\":true,\"ticks\":\"\",\"zerolinecolor\":\"white\"},\"zaxis\":{\"backgroundcolor\":\"#E5ECF6\",\"gridcolor\":\"white\",\"gridwidth\":2,\"linecolor\":\"white\",\"showbackground\":true,\"ticks\":\"\",\"zerolinecolor\":\"white\"}},\"shapedefaults\":{\"line\":{\"color\":\"#2a3f5f\"}},\"ternary\":{\"aaxis\":{\"gridcolor\":\"white\",\"linecolor\":\"white\",\"ticks\":\"\"},\"baxis\":{\"gridcolor\":\"white\",\"linecolor\":\"white\",\"ticks\":\"\"},\"bgcolor\":\"#E5ECF6\",\"caxis\":{\"gridcolor\":\"white\",\"linecolor\":\"white\",\"ticks\":\"\"}},\"title\":{\"x\":0.05},\"xaxis\":{\"automargin\":true,\"gridcolor\":\"white\",\"linecolor\":\"white\",\"ticks\":\"\",\"title\":{\"standoff\":15},\"zerolinecolor\":\"white\",\"zerolinewidth\":2},\"yaxis\":{\"automargin\":true,\"gridcolor\":\"white\",\"linecolor\":\"white\",\"ticks\":\"\",\"title\":{\"standoff\":15},\"zerolinecolor\":\"white\",\"zerolinewidth\":2}}},\"xaxis\":{\"anchor\":\"y\",\"domain\":[0.0,1.0],\"title\":{\"text\":\"Year\"},\"range\":[1990,2020]},\"yaxis\":{\"anchor\":\"x\",\"domain\":[0.0,1.0],\"title\":{\"text\":\"Energy consumption (tWh)\"},\"range\":[0,600]},\"legend\":{\"title\":{\"text\":\"\"},\"tracegroupgap\":0},\"title\":{\"text\":\"Energy consumption\"},\"barmode\":\"relative\"},                        {\"responsive\": true}                    ).then(function(){\n",
              "                            \n",
              "var gd = document.getElementById('1ecd3156-a436-44f9-8093-278a49efe8ec');\n",
              "var x = new MutationObserver(function (mutations, observer) {{\n",
              "        var display = window.getComputedStyle(gd).display;\n",
              "        if (!display || display === 'none') {{\n",
              "            console.log([gd, 'removed!']);\n",
              "            Plotly.purge(gd);\n",
              "            observer.disconnect();\n",
              "        }}\n",
              "}});\n",
              "\n",
              "// Listen for the removal of the full notebook cells\n",
              "var notebookContainer = gd.closest('#notebook-container');\n",
              "if (notebookContainer) {{\n",
              "    x.observe(notebookContainer, {childList: true});\n",
              "}}\n",
              "\n",
              "// Listen for the clearing of the current output cell\n",
              "var outputEl = gd.closest('.output');\n",
              "if (outputEl) {{\n",
              "    x.observe(outputEl, {childList: true});\n",
              "}}\n",
              "\n",
              "                        })                };                            </script>        </div>\n",
              "</body>\n",
              "</html>"
            ]
          },
          "metadata": {}
        }
      ]
    },
    {
      "cell_type": "markdown",
      "source": [
        "Over the years in Colombia energy consumption increases. The most consumed source of energy is oil. In 1990 this was the main source of energy, because it represented more than 50% of primary energy consumption (A primary energy source is any form of energy available in nature before being converted or transformed. Taken from Wikipedia). By 2019, oil represents less than a third of the energy consumed, however the net amount that is consumed is almost double what was consumed in 1990. The energy source that has had the greatest growth is gas, given the gasification of important services, mainly public services. This gasification to date, 2022, continues to have government incentives, so it is expected to continue growing. Energy consumption will continue to increase over time, given population growth, population migration from rural to urban, among other factors."
      ],
      "metadata": {
        "id": "Fa2LB-zWjo_y"
      }
    },
    {
      "cell_type": "code",
      "source": [
        "# Gas emissions\n",
        "fig = px.bar(df, \n",
        "             x = \"Year\",\n",
        "             y = [\"co2\", \"methane\", \"nitrous_oxide\"],\n",
        "             title = 'Greenhouse gas emission',  \n",
        "             )\n",
        "fig.add_trace(\n",
        "    go.Scatter(x=df[\"Year\"], y=df[\"total_ghg\"], name=\"Total greenhouse gases\",hoveron='points'),\n",
        ")\n",
        "\n",
        "# Set x-axis title and range\n",
        "fig.update_xaxes(title_text=\"Year\")\n",
        "fig.update_xaxes(range=(1990,2020))\n",
        "# Set y-axes titles\n",
        "fig.update_yaxes(title_text=\"Gas emission (kilotonnes)\")\n",
        "\n",
        "fig.update_layout(yaxis_range=[0,300])\n",
        "\n",
        "\n",
        "\n",
        "fig.show()"
      ],
      "metadata": {
        "colab": {
          "base_uri": "https://localhost:8080/",
          "height": 542
        },
        "id": "XAdK9mzRjh4E",
        "outputId": "f3953c2c-70d8-4a00-8aca-e7e66099755d"
      },
      "execution_count": null,
      "outputs": [
        {
          "output_type": "display_data",
          "data": {
            "text/html": [
              "<html>\n",
              "<head><meta charset=\"utf-8\" /></head>\n",
              "<body>\n",
              "    <div>            <script src=\"https://cdnjs.cloudflare.com/ajax/libs/mathjax/2.7.5/MathJax.js?config=TeX-AMS-MML_SVG\"></script><script type=\"text/javascript\">if (window.MathJax) {MathJax.Hub.Config({SVG: {font: \"STIX-Web\"}});}</script>                <script type=\"text/javascript\">window.PlotlyConfig = {MathJaxConfig: 'local'};</script>\n",
              "        <script src=\"https://cdn.plot.ly/plotly-2.8.3.min.js\"></script>                <div id=\"54afa2c5-56ee-488f-86da-92d6a7b7869e\" class=\"plotly-graph-div\" style=\"height:525px; width:100%;\"></div>            <script type=\"text/javascript\">                                    window.PLOTLYENV=window.PLOTLYENV || {};                                    if (document.getElementById(\"54afa2c5-56ee-488f-86da-92d6a7b7869e\")) {                    Plotly.newPlot(                        \"54afa2c5-56ee-488f-86da-92d6a7b7869e\",                        [{\"alignmentgroup\":\"True\",\"hovertemplate\":\"variable=co2<br>Year=%{x}<br>value=%{y}<extra></extra>\",\"legendgroup\":\"co2\",\"marker\":{\"color\":\"#636efa\",\"pattern\":{\"shape\":\"\"}},\"name\":\"co2\",\"offsetgroup\":\"co2\",\"orientation\":\"v\",\"showlegend\":true,\"textposition\":\"auto\",\"x\":[1990,1991,1992,1993,1994,1995,1996,1997,1998,1999,2000,2001,2002,2003,2004,2005,2006,2007,2008,2009,2010,2011,2012,2013,2014,2015,2016,2017,2018,2019],\"xaxis\":\"x\",\"y\":[56.898,56.654,61.495,63.338,66.791,58.775,59.771,64.497,65.158,54.761,56.259,55.939,55.43,57.094,54.569,60.06,62.005,60.179,66.65,72.557,76.278,76.08,79.727,87.428,88.699,91.965,93.242,86.296,84.881,90.419],\"yaxis\":\"y\",\"type\":\"bar\"},{\"alignmentgroup\":\"True\",\"hovertemplate\":\"variable=methane<br>Year=%{x}<br>value=%{y}<extra></extra>\",\"legendgroup\":\"methane\",\"marker\":{\"color\":\"#EF553B\",\"pattern\":{\"shape\":\"\"}},\"name\":\"methane\",\"offsetgroup\":\"methane\",\"orientation\":\"v\",\"showlegend\":true,\"textposition\":\"auto\",\"x\":[1990,1991,1992,1993,1994,1995,1996,1997,1998,1999,2000,2001,2002,2003,2004,2005,2006,2007,2008,2009,2010,2011,2012,2013,2014,2015,2016,2017,2018,2019],\"xaxis\":\"x\",\"y\":[57.47,57.51,58.54,59.64,60.77,61.18,62.14,62.2,62.96,61.46,62.58,63.52,64.18,65.81,67.25,67.46,68.23,70.6,71.53,72.25,74.23,71.94,70.07,70.33,70.65,71.34,72.06,74.63,77.12,77.12],\"yaxis\":\"y\",\"type\":\"bar\"},{\"alignmentgroup\":\"True\",\"hovertemplate\":\"variable=nitrous_oxide<br>Year=%{x}<br>value=%{y}<extra></extra>\",\"legendgroup\":\"nitrous_oxide\",\"marker\":{\"color\":\"#00cc96\",\"pattern\":{\"shape\":\"\"}},\"name\":\"nitrous_oxide\",\"offsetgroup\":\"nitrous_oxide\",\"orientation\":\"v\",\"showlegend\":true,\"textposition\":\"auto\",\"x\":[1990,1991,1992,1993,1994,1995,1996,1997,1998,1999,2000,2001,2002,2003,2004,2005,2006,2007,2008,2009,2010,2011,2012,2013,2014,2015,2016,2017,2018,2019],\"xaxis\":\"x\",\"y\":[18.06,18.06,18.05,18.38,18.67,18.65,18.32,18.43,18.77,18.06,18.64,19.01,19.27,20.07,20.57,20.61,21.12,22.89,21.83,21.99,22.49,21.75,21.29,19.84,20.47,19.94,20.05,21.17,22.18,22.18],\"yaxis\":\"y\",\"type\":\"bar\"},{\"hoveron\":\"points\",\"name\":\"Total greenhouse gases\",\"x\":[1990,1991,1992,1993,1994,1995,1996,1997,1998,1999,2000,2001,2002,2003,2004,2005,2006,2007,2008,2009,2010,2011,2012,2013,2014,2015,2016,2017,2018,2019],\"y\":[217.08,218.85,222.51,226.53,228.62,231.69,232.23,237.26,239.0,228.71,233.07,222.71,221.71,223.94,226.33,228.35,229.66,235.52,236.44,240.51,244.95,223.5,221.94,228.65,232.02,233.78,264.21,260.61,267.95,267.95],\"type\":\"scatter\"}],                        {\"template\":{\"data\":{\"bar\":[{\"error_x\":{\"color\":\"#2a3f5f\"},\"error_y\":{\"color\":\"#2a3f5f\"},\"marker\":{\"line\":{\"color\":\"#E5ECF6\",\"width\":0.5},\"pattern\":{\"fillmode\":\"overlay\",\"size\":10,\"solidity\":0.2}},\"type\":\"bar\"}],\"barpolar\":[{\"marker\":{\"line\":{\"color\":\"#E5ECF6\",\"width\":0.5},\"pattern\":{\"fillmode\":\"overlay\",\"size\":10,\"solidity\":0.2}},\"type\":\"barpolar\"}],\"carpet\":[{\"aaxis\":{\"endlinecolor\":\"#2a3f5f\",\"gridcolor\":\"white\",\"linecolor\":\"white\",\"minorgridcolor\":\"white\",\"startlinecolor\":\"#2a3f5f\"},\"baxis\":{\"endlinecolor\":\"#2a3f5f\",\"gridcolor\":\"white\",\"linecolor\":\"white\",\"minorgridcolor\":\"white\",\"startlinecolor\":\"#2a3f5f\"},\"type\":\"carpet\"}],\"choropleth\":[{\"colorbar\":{\"outlinewidth\":0,\"ticks\":\"\"},\"type\":\"choropleth\"}],\"contour\":[{\"colorbar\":{\"outlinewidth\":0,\"ticks\":\"\"},\"colorscale\":[[0.0,\"#0d0887\"],[0.1111111111111111,\"#46039f\"],[0.2222222222222222,\"#7201a8\"],[0.3333333333333333,\"#9c179e\"],[0.4444444444444444,\"#bd3786\"],[0.5555555555555556,\"#d8576b\"],[0.6666666666666666,\"#ed7953\"],[0.7777777777777778,\"#fb9f3a\"],[0.8888888888888888,\"#fdca26\"],[1.0,\"#f0f921\"]],\"type\":\"contour\"}],\"contourcarpet\":[{\"colorbar\":{\"outlinewidth\":0,\"ticks\":\"\"},\"type\":\"contourcarpet\"}],\"heatmap\":[{\"colorbar\":{\"outlinewidth\":0,\"ticks\":\"\"},\"colorscale\":[[0.0,\"#0d0887\"],[0.1111111111111111,\"#46039f\"],[0.2222222222222222,\"#7201a8\"],[0.3333333333333333,\"#9c179e\"],[0.4444444444444444,\"#bd3786\"],[0.5555555555555556,\"#d8576b\"],[0.6666666666666666,\"#ed7953\"],[0.7777777777777778,\"#fb9f3a\"],[0.8888888888888888,\"#fdca26\"],[1.0,\"#f0f921\"]],\"type\":\"heatmap\"}],\"heatmapgl\":[{\"colorbar\":{\"outlinewidth\":0,\"ticks\":\"\"},\"colorscale\":[[0.0,\"#0d0887\"],[0.1111111111111111,\"#46039f\"],[0.2222222222222222,\"#7201a8\"],[0.3333333333333333,\"#9c179e\"],[0.4444444444444444,\"#bd3786\"],[0.5555555555555556,\"#d8576b\"],[0.6666666666666666,\"#ed7953\"],[0.7777777777777778,\"#fb9f3a\"],[0.8888888888888888,\"#fdca26\"],[1.0,\"#f0f921\"]],\"type\":\"heatmapgl\"}],\"histogram\":[{\"marker\":{\"pattern\":{\"fillmode\":\"overlay\",\"size\":10,\"solidity\":0.2}},\"type\":\"histogram\"}],\"histogram2d\":[{\"colorbar\":{\"outlinewidth\":0,\"ticks\":\"\"},\"colorscale\":[[0.0,\"#0d0887\"],[0.1111111111111111,\"#46039f\"],[0.2222222222222222,\"#7201a8\"],[0.3333333333333333,\"#9c179e\"],[0.4444444444444444,\"#bd3786\"],[0.5555555555555556,\"#d8576b\"],[0.6666666666666666,\"#ed7953\"],[0.7777777777777778,\"#fb9f3a\"],[0.8888888888888888,\"#fdca26\"],[1.0,\"#f0f921\"]],\"type\":\"histogram2d\"}],\"histogram2dcontour\":[{\"colorbar\":{\"outlinewidth\":0,\"ticks\":\"\"},\"colorscale\":[[0.0,\"#0d0887\"],[0.1111111111111111,\"#46039f\"],[0.2222222222222222,\"#7201a8\"],[0.3333333333333333,\"#9c179e\"],[0.4444444444444444,\"#bd3786\"],[0.5555555555555556,\"#d8576b\"],[0.6666666666666666,\"#ed7953\"],[0.7777777777777778,\"#fb9f3a\"],[0.8888888888888888,\"#fdca26\"],[1.0,\"#f0f921\"]],\"type\":\"histogram2dcontour\"}],\"mesh3d\":[{\"colorbar\":{\"outlinewidth\":0,\"ticks\":\"\"},\"type\":\"mesh3d\"}],\"parcoords\":[{\"line\":{\"colorbar\":{\"outlinewidth\":0,\"ticks\":\"\"}},\"type\":\"parcoords\"}],\"pie\":[{\"automargin\":true,\"type\":\"pie\"}],\"scatter\":[{\"marker\":{\"colorbar\":{\"outlinewidth\":0,\"ticks\":\"\"}},\"type\":\"scatter\"}],\"scatter3d\":[{\"line\":{\"colorbar\":{\"outlinewidth\":0,\"ticks\":\"\"}},\"marker\":{\"colorbar\":{\"outlinewidth\":0,\"ticks\":\"\"}},\"type\":\"scatter3d\"}],\"scattercarpet\":[{\"marker\":{\"colorbar\":{\"outlinewidth\":0,\"ticks\":\"\"}},\"type\":\"scattercarpet\"}],\"scattergeo\":[{\"marker\":{\"colorbar\":{\"outlinewidth\":0,\"ticks\":\"\"}},\"type\":\"scattergeo\"}],\"scattergl\":[{\"marker\":{\"colorbar\":{\"outlinewidth\":0,\"ticks\":\"\"}},\"type\":\"scattergl\"}],\"scattermapbox\":[{\"marker\":{\"colorbar\":{\"outlinewidth\":0,\"ticks\":\"\"}},\"type\":\"scattermapbox\"}],\"scatterpolar\":[{\"marker\":{\"colorbar\":{\"outlinewidth\":0,\"ticks\":\"\"}},\"type\":\"scatterpolar\"}],\"scatterpolargl\":[{\"marker\":{\"colorbar\":{\"outlinewidth\":0,\"ticks\":\"\"}},\"type\":\"scatterpolargl\"}],\"scatterternary\":[{\"marker\":{\"colorbar\":{\"outlinewidth\":0,\"ticks\":\"\"}},\"type\":\"scatterternary\"}],\"surface\":[{\"colorbar\":{\"outlinewidth\":0,\"ticks\":\"\"},\"colorscale\":[[0.0,\"#0d0887\"],[0.1111111111111111,\"#46039f\"],[0.2222222222222222,\"#7201a8\"],[0.3333333333333333,\"#9c179e\"],[0.4444444444444444,\"#bd3786\"],[0.5555555555555556,\"#d8576b\"],[0.6666666666666666,\"#ed7953\"],[0.7777777777777778,\"#fb9f3a\"],[0.8888888888888888,\"#fdca26\"],[1.0,\"#f0f921\"]],\"type\":\"surface\"}],\"table\":[{\"cells\":{\"fill\":{\"color\":\"#EBF0F8\"},\"line\":{\"color\":\"white\"}},\"header\":{\"fill\":{\"color\":\"#C8D4E3\"},\"line\":{\"color\":\"white\"}},\"type\":\"table\"}]},\"layout\":{\"annotationdefaults\":{\"arrowcolor\":\"#2a3f5f\",\"arrowhead\":0,\"arrowwidth\":1},\"autotypenumbers\":\"strict\",\"coloraxis\":{\"colorbar\":{\"outlinewidth\":0,\"ticks\":\"\"}},\"colorscale\":{\"diverging\":[[0,\"#8e0152\"],[0.1,\"#c51b7d\"],[0.2,\"#de77ae\"],[0.3,\"#f1b6da\"],[0.4,\"#fde0ef\"],[0.5,\"#f7f7f7\"],[0.6,\"#e6f5d0\"],[0.7,\"#b8e186\"],[0.8,\"#7fbc41\"],[0.9,\"#4d9221\"],[1,\"#276419\"]],\"sequential\":[[0.0,\"#0d0887\"],[0.1111111111111111,\"#46039f\"],[0.2222222222222222,\"#7201a8\"],[0.3333333333333333,\"#9c179e\"],[0.4444444444444444,\"#bd3786\"],[0.5555555555555556,\"#d8576b\"],[0.6666666666666666,\"#ed7953\"],[0.7777777777777778,\"#fb9f3a\"],[0.8888888888888888,\"#fdca26\"],[1.0,\"#f0f921\"]],\"sequentialminus\":[[0.0,\"#0d0887\"],[0.1111111111111111,\"#46039f\"],[0.2222222222222222,\"#7201a8\"],[0.3333333333333333,\"#9c179e\"],[0.4444444444444444,\"#bd3786\"],[0.5555555555555556,\"#d8576b\"],[0.6666666666666666,\"#ed7953\"],[0.7777777777777778,\"#fb9f3a\"],[0.8888888888888888,\"#fdca26\"],[1.0,\"#f0f921\"]]},\"colorway\":[\"#636efa\",\"#EF553B\",\"#00cc96\",\"#ab63fa\",\"#FFA15A\",\"#19d3f3\",\"#FF6692\",\"#B6E880\",\"#FF97FF\",\"#FECB52\"],\"font\":{\"color\":\"#2a3f5f\"},\"geo\":{\"bgcolor\":\"white\",\"lakecolor\":\"white\",\"landcolor\":\"#E5ECF6\",\"showlakes\":true,\"showland\":true,\"subunitcolor\":\"white\"},\"hoverlabel\":{\"align\":\"left\"},\"hovermode\":\"closest\",\"mapbox\":{\"style\":\"light\"},\"paper_bgcolor\":\"white\",\"plot_bgcolor\":\"#E5ECF6\",\"polar\":{\"angularaxis\":{\"gridcolor\":\"white\",\"linecolor\":\"white\",\"ticks\":\"\"},\"bgcolor\":\"#E5ECF6\",\"radialaxis\":{\"gridcolor\":\"white\",\"linecolor\":\"white\",\"ticks\":\"\"}},\"scene\":{\"xaxis\":{\"backgroundcolor\":\"#E5ECF6\",\"gridcolor\":\"white\",\"gridwidth\":2,\"linecolor\":\"white\",\"showbackground\":true,\"ticks\":\"\",\"zerolinecolor\":\"white\"},\"yaxis\":{\"backgroundcolor\":\"#E5ECF6\",\"gridcolor\":\"white\",\"gridwidth\":2,\"linecolor\":\"white\",\"showbackground\":true,\"ticks\":\"\",\"zerolinecolor\":\"white\"},\"zaxis\":{\"backgroundcolor\":\"#E5ECF6\",\"gridcolor\":\"white\",\"gridwidth\":2,\"linecolor\":\"white\",\"showbackground\":true,\"ticks\":\"\",\"zerolinecolor\":\"white\"}},\"shapedefaults\":{\"line\":{\"color\":\"#2a3f5f\"}},\"ternary\":{\"aaxis\":{\"gridcolor\":\"white\",\"linecolor\":\"white\",\"ticks\":\"\"},\"baxis\":{\"gridcolor\":\"white\",\"linecolor\":\"white\",\"ticks\":\"\"},\"bgcolor\":\"#E5ECF6\",\"caxis\":{\"gridcolor\":\"white\",\"linecolor\":\"white\",\"ticks\":\"\"}},\"title\":{\"x\":0.05},\"xaxis\":{\"automargin\":true,\"gridcolor\":\"white\",\"linecolor\":\"white\",\"ticks\":\"\",\"title\":{\"standoff\":15},\"zerolinecolor\":\"white\",\"zerolinewidth\":2},\"yaxis\":{\"automargin\":true,\"gridcolor\":\"white\",\"linecolor\":\"white\",\"ticks\":\"\",\"title\":{\"standoff\":15},\"zerolinecolor\":\"white\",\"zerolinewidth\":2}}},\"xaxis\":{\"anchor\":\"y\",\"domain\":[0.0,1.0],\"title\":{\"text\":\"Year\"},\"range\":[1990,2020]},\"yaxis\":{\"anchor\":\"x\",\"domain\":[0.0,1.0],\"title\":{\"text\":\"Gas emission (kilotonnes)\"},\"range\":[0,300]},\"legend\":{\"title\":{\"text\":\"variable\"},\"tracegroupgap\":0},\"title\":{\"text\":\"Greenhouse gas emission\"},\"barmode\":\"relative\"},                        {\"responsive\": true}                    ).then(function(){\n",
              "                            \n",
              "var gd = document.getElementById('54afa2c5-56ee-488f-86da-92d6a7b7869e');\n",
              "var x = new MutationObserver(function (mutations, observer) {{\n",
              "        var display = window.getComputedStyle(gd).display;\n",
              "        if (!display || display === 'none') {{\n",
              "            console.log([gd, 'removed!']);\n",
              "            Plotly.purge(gd);\n",
              "            observer.disconnect();\n",
              "        }}\n",
              "}});\n",
              "\n",
              "// Listen for the removal of the full notebook cells\n",
              "var notebookContainer = gd.closest('#notebook-container');\n",
              "if (notebookContainer) {{\n",
              "    x.observe(notebookContainer, {childList: true});\n",
              "}}\n",
              "\n",
              "// Listen for the clearing of the current output cell\n",
              "var outputEl = gd.closest('.output');\n",
              "if (outputEl) {{\n",
              "    x.observe(outputEl, {childList: true});\n",
              "}}\n",
              "\n",
              "                        })                };                            </script>        </div>\n",
              "</body>\n",
              "</html>"
            ]
          },
          "metadata": {}
        }
      ]
    },
    {
      "cell_type": "markdown",
      "source": [
        "Just as energy consumption increases over the years, so does the emission of greenhouse gases, such as carbon dioxide (CO2), Methane (CH4), Nitrous Oxide (N2O), Hydrofluorocarbons (HFC), Hexafluoride sulfur (SF6) and Perfluorocarbons (PFC). These gases contribute to increasing the temperature of the planet, because they absorb and send infrared radiation from the earth's surface. Furthermore, they remain in the atmosphere for years, decades, or even centuries. Are produced\n",
        "in many human activities such as industrial activities, transportation, agricultural production, deforestation, disposal of solid and liquid waste, conversion of moors and wetlands into farmland or mining activities, among others (www.siac.gov.co). Until the maximum date of the data of this study, 2019, the gas that is emitted the most is carbon dioxide, followed by methane and nitrous oxide."
      ],
      "metadata": {
        "id": "XSt7jIcEkXCT"
      }
    },
    {
      "cell_type": "code",
      "source": [
        "# Cattle and Agricultural Methane emissions\n",
        "# Create figure with secondary y-axis\n",
        "fig = make_subplots(specs=[[{\"secondary_y\": True}]])\n",
        "\n",
        "# Add traces\n",
        "fig.add_trace(\n",
        "    go.Scatter(x=df[\"Year\"], y=df[\"Cattle\"], name=\"Cattle\"),\n",
        "    secondary_y=False, \n",
        ")\n",
        "\n",
        "fig.add_trace(\n",
        "    go.Scatter(x=df[\"Year\"], y=df[\"Agricultural methane emissions kT\"], name=\"Agricultural methane emissions\"),\n",
        "    secondary_y=True, \n",
        ")\n",
        "\n",
        "# Add figure title\n",
        "fig.update_layout(\n",
        "    title_text=\"Cattle and Agricultural methane emissions\"\n",
        ")\n",
        "\n",
        "# Set x-axis title and range\n",
        "fig.update_xaxes(title_text=\"Year\")\n",
        "fig.update_xaxes(range=(1990,2020))\n",
        "\n",
        "# Set y-axes titles\n",
        "fig.update_yaxes(title_text=\"Cattle\", secondary_y=False)\n",
        "fig.update_yaxes(title_text=\"Agricultural methane emissions (kilotonnes)\", secondary_y=True)\n",
        "\n",
        "\n",
        "\n",
        "fig.update_traces(line_width=5)\n",
        "\n",
        "fig.show()"
      ],
      "metadata": {
        "colab": {
          "base_uri": "https://localhost:8080/",
          "height": 542
        },
        "id": "BHehOAg3kHWB",
        "outputId": "ff461084-17dc-4714-d171-d7441392bbd1"
      },
      "execution_count": null,
      "outputs": [
        {
          "output_type": "display_data",
          "data": {
            "text/html": [
              "<html>\n",
              "<head><meta charset=\"utf-8\" /></head>\n",
              "<body>\n",
              "    <div>            <script src=\"https://cdnjs.cloudflare.com/ajax/libs/mathjax/2.7.5/MathJax.js?config=TeX-AMS-MML_SVG\"></script><script type=\"text/javascript\">if (window.MathJax) {MathJax.Hub.Config({SVG: {font: \"STIX-Web\"}});}</script>                <script type=\"text/javascript\">window.PlotlyConfig = {MathJaxConfig: 'local'};</script>\n",
              "        <script src=\"https://cdn.plot.ly/plotly-2.8.3.min.js\"></script>                <div id=\"0d7aaaa3-2e3d-4f89-a9dd-17f4cc38b5d9\" class=\"plotly-graph-div\" style=\"height:525px; width:100%;\"></div>            <script type=\"text/javascript\">                                    window.PLOTLYENV=window.PLOTLYENV || {};                                    if (document.getElementById(\"0d7aaaa3-2e3d-4f89-a9dd-17f4cc38b5d9\")) {                    Plotly.newPlot(                        \"0d7aaaa3-2e3d-4f89-a9dd-17f4cc38b5d9\",                        [{\"name\":\"Cattle\",\"x\":[1990,1991,1992,1993,1994,1995,1996,1997,1998,1999,2000,2001,2002,2003,2004,2005,2006,2007,2008,2009,2010,2011,2012,2013,2014,2015,2016,2017,2018,2019],\"y\":[24383504,24350208,24772496,25324000,25634000,25551400,26088000,25672700,25763700,24363000,24363700,24510400,24765300,24799260,24921742,25699400,26129020,26703160,26877824,26431640,27329066,25156068,23642960,23008251,22574780,22527783,22555549,24328158,26021034,27239767],\"type\":\"scatter\",\"xaxis\":\"x\",\"yaxis\":\"y\",\"line\":{\"width\":5}},{\"name\":\"Agricultural methane emissions\",\"x\":[1990,1991,1992,1993,1994,1995,1996,1997,1998,1999,2000,2001,2002,2003,2004,2005,2006,2007,2008,2009,2010,2011,2012,2013,2014,2015,2016,2017,2018,2019],\"y\":[41.85,41.44,42.03,42.69,43.38,43.39,43.91,43.25,43.55,41.79,42.19,42.96,42.97,43.82,44.35,44.49,44.23,45.38,45.53,45.29,46.28,43.1,40.34,39.7,39.07,38.88,39.46,41.96,43.99,43.99],\"type\":\"scatter\",\"xaxis\":\"x\",\"yaxis\":\"y2\",\"line\":{\"width\":5}}],                        {\"template\":{\"data\":{\"bar\":[{\"error_x\":{\"color\":\"#2a3f5f\"},\"error_y\":{\"color\":\"#2a3f5f\"},\"marker\":{\"line\":{\"color\":\"#E5ECF6\",\"width\":0.5},\"pattern\":{\"fillmode\":\"overlay\",\"size\":10,\"solidity\":0.2}},\"type\":\"bar\"}],\"barpolar\":[{\"marker\":{\"line\":{\"color\":\"#E5ECF6\",\"width\":0.5},\"pattern\":{\"fillmode\":\"overlay\",\"size\":10,\"solidity\":0.2}},\"type\":\"barpolar\"}],\"carpet\":[{\"aaxis\":{\"endlinecolor\":\"#2a3f5f\",\"gridcolor\":\"white\",\"linecolor\":\"white\",\"minorgridcolor\":\"white\",\"startlinecolor\":\"#2a3f5f\"},\"baxis\":{\"endlinecolor\":\"#2a3f5f\",\"gridcolor\":\"white\",\"linecolor\":\"white\",\"minorgridcolor\":\"white\",\"startlinecolor\":\"#2a3f5f\"},\"type\":\"carpet\"}],\"choropleth\":[{\"colorbar\":{\"outlinewidth\":0,\"ticks\":\"\"},\"type\":\"choropleth\"}],\"contour\":[{\"colorbar\":{\"outlinewidth\":0,\"ticks\":\"\"},\"colorscale\":[[0.0,\"#0d0887\"],[0.1111111111111111,\"#46039f\"],[0.2222222222222222,\"#7201a8\"],[0.3333333333333333,\"#9c179e\"],[0.4444444444444444,\"#bd3786\"],[0.5555555555555556,\"#d8576b\"],[0.6666666666666666,\"#ed7953\"],[0.7777777777777778,\"#fb9f3a\"],[0.8888888888888888,\"#fdca26\"],[1.0,\"#f0f921\"]],\"type\":\"contour\"}],\"contourcarpet\":[{\"colorbar\":{\"outlinewidth\":0,\"ticks\":\"\"},\"type\":\"contourcarpet\"}],\"heatmap\":[{\"colorbar\":{\"outlinewidth\":0,\"ticks\":\"\"},\"colorscale\":[[0.0,\"#0d0887\"],[0.1111111111111111,\"#46039f\"],[0.2222222222222222,\"#7201a8\"],[0.3333333333333333,\"#9c179e\"],[0.4444444444444444,\"#bd3786\"],[0.5555555555555556,\"#d8576b\"],[0.6666666666666666,\"#ed7953\"],[0.7777777777777778,\"#fb9f3a\"],[0.8888888888888888,\"#fdca26\"],[1.0,\"#f0f921\"]],\"type\":\"heatmap\"}],\"heatmapgl\":[{\"colorbar\":{\"outlinewidth\":0,\"ticks\":\"\"},\"colorscale\":[[0.0,\"#0d0887\"],[0.1111111111111111,\"#46039f\"],[0.2222222222222222,\"#7201a8\"],[0.3333333333333333,\"#9c179e\"],[0.4444444444444444,\"#bd3786\"],[0.5555555555555556,\"#d8576b\"],[0.6666666666666666,\"#ed7953\"],[0.7777777777777778,\"#fb9f3a\"],[0.8888888888888888,\"#fdca26\"],[1.0,\"#f0f921\"]],\"type\":\"heatmapgl\"}],\"histogram\":[{\"marker\":{\"pattern\":{\"fillmode\":\"overlay\",\"size\":10,\"solidity\":0.2}},\"type\":\"histogram\"}],\"histogram2d\":[{\"colorbar\":{\"outlinewidth\":0,\"ticks\":\"\"},\"colorscale\":[[0.0,\"#0d0887\"],[0.1111111111111111,\"#46039f\"],[0.2222222222222222,\"#7201a8\"],[0.3333333333333333,\"#9c179e\"],[0.4444444444444444,\"#bd3786\"],[0.5555555555555556,\"#d8576b\"],[0.6666666666666666,\"#ed7953\"],[0.7777777777777778,\"#fb9f3a\"],[0.8888888888888888,\"#fdca26\"],[1.0,\"#f0f921\"]],\"type\":\"histogram2d\"}],\"histogram2dcontour\":[{\"colorbar\":{\"outlinewidth\":0,\"ticks\":\"\"},\"colorscale\":[[0.0,\"#0d0887\"],[0.1111111111111111,\"#46039f\"],[0.2222222222222222,\"#7201a8\"],[0.3333333333333333,\"#9c179e\"],[0.4444444444444444,\"#bd3786\"],[0.5555555555555556,\"#d8576b\"],[0.6666666666666666,\"#ed7953\"],[0.7777777777777778,\"#fb9f3a\"],[0.8888888888888888,\"#fdca26\"],[1.0,\"#f0f921\"]],\"type\":\"histogram2dcontour\"}],\"mesh3d\":[{\"colorbar\":{\"outlinewidth\":0,\"ticks\":\"\"},\"type\":\"mesh3d\"}],\"parcoords\":[{\"line\":{\"colorbar\":{\"outlinewidth\":0,\"ticks\":\"\"}},\"type\":\"parcoords\"}],\"pie\":[{\"automargin\":true,\"type\":\"pie\"}],\"scatter\":[{\"marker\":{\"colorbar\":{\"outlinewidth\":0,\"ticks\":\"\"}},\"type\":\"scatter\"}],\"scatter3d\":[{\"line\":{\"colorbar\":{\"outlinewidth\":0,\"ticks\":\"\"}},\"marker\":{\"colorbar\":{\"outlinewidth\":0,\"ticks\":\"\"}},\"type\":\"scatter3d\"}],\"scattercarpet\":[{\"marker\":{\"colorbar\":{\"outlinewidth\":0,\"ticks\":\"\"}},\"type\":\"scattercarpet\"}],\"scattergeo\":[{\"marker\":{\"colorbar\":{\"outlinewidth\":0,\"ticks\":\"\"}},\"type\":\"scattergeo\"}],\"scattergl\":[{\"marker\":{\"colorbar\":{\"outlinewidth\":0,\"ticks\":\"\"}},\"type\":\"scattergl\"}],\"scattermapbox\":[{\"marker\":{\"colorbar\":{\"outlinewidth\":0,\"ticks\":\"\"}},\"type\":\"scattermapbox\"}],\"scatterpolar\":[{\"marker\":{\"colorbar\":{\"outlinewidth\":0,\"ticks\":\"\"}},\"type\":\"scatterpolar\"}],\"scatterpolargl\":[{\"marker\":{\"colorbar\":{\"outlinewidth\":0,\"ticks\":\"\"}},\"type\":\"scatterpolargl\"}],\"scatterternary\":[{\"marker\":{\"colorbar\":{\"outlinewidth\":0,\"ticks\":\"\"}},\"type\":\"scatterternary\"}],\"surface\":[{\"colorbar\":{\"outlinewidth\":0,\"ticks\":\"\"},\"colorscale\":[[0.0,\"#0d0887\"],[0.1111111111111111,\"#46039f\"],[0.2222222222222222,\"#7201a8\"],[0.3333333333333333,\"#9c179e\"],[0.4444444444444444,\"#bd3786\"],[0.5555555555555556,\"#d8576b\"],[0.6666666666666666,\"#ed7953\"],[0.7777777777777778,\"#fb9f3a\"],[0.8888888888888888,\"#fdca26\"],[1.0,\"#f0f921\"]],\"type\":\"surface\"}],\"table\":[{\"cells\":{\"fill\":{\"color\":\"#EBF0F8\"},\"line\":{\"color\":\"white\"}},\"header\":{\"fill\":{\"color\":\"#C8D4E3\"},\"line\":{\"color\":\"white\"}},\"type\":\"table\"}]},\"layout\":{\"annotationdefaults\":{\"arrowcolor\":\"#2a3f5f\",\"arrowhead\":0,\"arrowwidth\":1},\"autotypenumbers\":\"strict\",\"coloraxis\":{\"colorbar\":{\"outlinewidth\":0,\"ticks\":\"\"}},\"colorscale\":{\"diverging\":[[0,\"#8e0152\"],[0.1,\"#c51b7d\"],[0.2,\"#de77ae\"],[0.3,\"#f1b6da\"],[0.4,\"#fde0ef\"],[0.5,\"#f7f7f7\"],[0.6,\"#e6f5d0\"],[0.7,\"#b8e186\"],[0.8,\"#7fbc41\"],[0.9,\"#4d9221\"],[1,\"#276419\"]],\"sequential\":[[0.0,\"#0d0887\"],[0.1111111111111111,\"#46039f\"],[0.2222222222222222,\"#7201a8\"],[0.3333333333333333,\"#9c179e\"],[0.4444444444444444,\"#bd3786\"],[0.5555555555555556,\"#d8576b\"],[0.6666666666666666,\"#ed7953\"],[0.7777777777777778,\"#fb9f3a\"],[0.8888888888888888,\"#fdca26\"],[1.0,\"#f0f921\"]],\"sequentialminus\":[[0.0,\"#0d0887\"],[0.1111111111111111,\"#46039f\"],[0.2222222222222222,\"#7201a8\"],[0.3333333333333333,\"#9c179e\"],[0.4444444444444444,\"#bd3786\"],[0.5555555555555556,\"#d8576b\"],[0.6666666666666666,\"#ed7953\"],[0.7777777777777778,\"#fb9f3a\"],[0.8888888888888888,\"#fdca26\"],[1.0,\"#f0f921\"]]},\"colorway\":[\"#636efa\",\"#EF553B\",\"#00cc96\",\"#ab63fa\",\"#FFA15A\",\"#19d3f3\",\"#FF6692\",\"#B6E880\",\"#FF97FF\",\"#FECB52\"],\"font\":{\"color\":\"#2a3f5f\"},\"geo\":{\"bgcolor\":\"white\",\"lakecolor\":\"white\",\"landcolor\":\"#E5ECF6\",\"showlakes\":true,\"showland\":true,\"subunitcolor\":\"white\"},\"hoverlabel\":{\"align\":\"left\"},\"hovermode\":\"closest\",\"mapbox\":{\"style\":\"light\"},\"paper_bgcolor\":\"white\",\"plot_bgcolor\":\"#E5ECF6\",\"polar\":{\"angularaxis\":{\"gridcolor\":\"white\",\"linecolor\":\"white\",\"ticks\":\"\"},\"bgcolor\":\"#E5ECF6\",\"radialaxis\":{\"gridcolor\":\"white\",\"linecolor\":\"white\",\"ticks\":\"\"}},\"scene\":{\"xaxis\":{\"backgroundcolor\":\"#E5ECF6\",\"gridcolor\":\"white\",\"gridwidth\":2,\"linecolor\":\"white\",\"showbackground\":true,\"ticks\":\"\",\"zerolinecolor\":\"white\"},\"yaxis\":{\"backgroundcolor\":\"#E5ECF6\",\"gridcolor\":\"white\",\"gridwidth\":2,\"linecolor\":\"white\",\"showbackground\":true,\"ticks\":\"\",\"zerolinecolor\":\"white\"},\"zaxis\":{\"backgroundcolor\":\"#E5ECF6\",\"gridcolor\":\"white\",\"gridwidth\":2,\"linecolor\":\"white\",\"showbackground\":true,\"ticks\":\"\",\"zerolinecolor\":\"white\"}},\"shapedefaults\":{\"line\":{\"color\":\"#2a3f5f\"}},\"ternary\":{\"aaxis\":{\"gridcolor\":\"white\",\"linecolor\":\"white\",\"ticks\":\"\"},\"baxis\":{\"gridcolor\":\"white\",\"linecolor\":\"white\",\"ticks\":\"\"},\"bgcolor\":\"#E5ECF6\",\"caxis\":{\"gridcolor\":\"white\",\"linecolor\":\"white\",\"ticks\":\"\"}},\"title\":{\"x\":0.05},\"xaxis\":{\"automargin\":true,\"gridcolor\":\"white\",\"linecolor\":\"white\",\"ticks\":\"\",\"title\":{\"standoff\":15},\"zerolinecolor\":\"white\",\"zerolinewidth\":2},\"yaxis\":{\"automargin\":true,\"gridcolor\":\"white\",\"linecolor\":\"white\",\"ticks\":\"\",\"title\":{\"standoff\":15},\"zerolinecolor\":\"white\",\"zerolinewidth\":2}}},\"xaxis\":{\"anchor\":\"y\",\"domain\":[0.0,0.94],\"title\":{\"text\":\"Year\"},\"range\":[1990,2020]},\"yaxis\":{\"anchor\":\"x\",\"domain\":[0.0,1.0],\"title\":{\"text\":\"Cattle\"}},\"yaxis2\":{\"anchor\":\"x\",\"overlaying\":\"y\",\"side\":\"right\",\"title\":{\"text\":\"Agricultural methane emissions (kilotonnes)\"}},\"title\":{\"text\":\"Cattle y Agricultural methane emissions\"}},                        {\"responsive\": true}                    ).then(function(){\n",
              "                            \n",
              "var gd = document.getElementById('0d7aaaa3-2e3d-4f89-a9dd-17f4cc38b5d9');\n",
              "var x = new MutationObserver(function (mutations, observer) {{\n",
              "        var display = window.getComputedStyle(gd).display;\n",
              "        if (!display || display === 'none') {{\n",
              "            console.log([gd, 'removed!']);\n",
              "            Plotly.purge(gd);\n",
              "            observer.disconnect();\n",
              "        }}\n",
              "}});\n",
              "\n",
              "// Listen for the removal of the full notebook cells\n",
              "var notebookContainer = gd.closest('#notebook-container');\n",
              "if (notebookContainer) {{\n",
              "    x.observe(notebookContainer, {childList: true});\n",
              "}}\n",
              "\n",
              "// Listen for the clearing of the current output cell\n",
              "var outputEl = gd.closest('.output');\n",
              "if (outputEl) {{\n",
              "    x.observe(outputEl, {childList: true});\n",
              "}}\n",
              "\n",
              "                        })                };                            </script>        </div>\n",
              "</body>\n",
              "</html>"
            ]
          },
          "metadata": {}
        }
      ]
    },
    {
      "cell_type": "markdown",
      "source": [
        "Methane emissions from agriculture and livestock numbers follow a similar trend over time. This can be explained because methane gas is one of the products of cattle digestion and some countries such as Mexico and New Zealand study the effect of methane gas from cows as part of greenhouse gases."
      ],
      "metadata": {
        "id": "56NG8OD5keJi"
      }
    },
    {
      "cell_type": "code",
      "source": [
        "fig = px.line(df, \n",
        "             x = \"Year\",\n",
        "             y = [\"methane\", \"Agricultural methane emissions kT\", \"nitrous_oxide\",\"Agricultural nitrous oxide emissions kT\"],\n",
        "              labels={\n",
        "                     \"variable\": \"\"\n",
        "                    },\n",
        "             )\n",
        "\n",
        "\n",
        "\n",
        "fig.update_traces(line_width=5)\n",
        "\n",
        "# Set x-axis title and range\n",
        "fig.update_xaxes(title_text=\"Year\")\n",
        "fig.update_xaxes(range=(1990,2020))\n",
        "\n",
        "# Set y-axes titles\n",
        "fig.update_yaxes(title_text=\"kilotonnes\")\n",
        "\n",
        "fig.show()\n"
      ],
      "metadata": {
        "colab": {
          "base_uri": "https://localhost:8080/",
          "height": 542
        },
        "id": "YBmh4ys1kdJB",
        "outputId": "ff277a14-f087-4570-9217-d7389f337ec9"
      },
      "execution_count": null,
      "outputs": [
        {
          "output_type": "display_data",
          "data": {
            "text/html": [
              "<html>\n",
              "<head><meta charset=\"utf-8\" /></head>\n",
              "<body>\n",
              "    <div>            <script src=\"https://cdnjs.cloudflare.com/ajax/libs/mathjax/2.7.5/MathJax.js?config=TeX-AMS-MML_SVG\"></script><script type=\"text/javascript\">if (window.MathJax) {MathJax.Hub.Config({SVG: {font: \"STIX-Web\"}});}</script>                <script type=\"text/javascript\">window.PlotlyConfig = {MathJaxConfig: 'local'};</script>\n",
              "        <script src=\"https://cdn.plot.ly/plotly-2.8.3.min.js\"></script>                <div id=\"919dac71-118c-4dfe-95fa-eb6a08e31454\" class=\"plotly-graph-div\" style=\"height:525px; width:100%;\"></div>            <script type=\"text/javascript\">                                    window.PLOTLYENV=window.PLOTLYENV || {};                                    if (document.getElementById(\"919dac71-118c-4dfe-95fa-eb6a08e31454\")) {                    Plotly.newPlot(                        \"919dac71-118c-4dfe-95fa-eb6a08e31454\",                        [{\"hovertemplate\":\"=methane<br>Year=%{x}<br>value=%{y}<extra></extra>\",\"legendgroup\":\"methane\",\"line\":{\"color\":\"#636efa\",\"dash\":\"solid\",\"width\":5},\"marker\":{\"symbol\":\"circle\"},\"mode\":\"lines\",\"name\":\"methane\",\"orientation\":\"v\",\"showlegend\":true,\"x\":[1990,1991,1992,1993,1994,1995,1996,1997,1998,1999,2000,2001,2002,2003,2004,2005,2006,2007,2008,2009,2010,2011,2012,2013,2014,2015,2016,2017,2018,2019],\"xaxis\":\"x\",\"y\":[57.47,57.51,58.54,59.64,60.77,61.18,62.14,62.2,62.96,61.46,62.58,63.52,64.18,65.81,67.25,67.46,68.23,70.6,71.53,72.25,74.23,71.94,70.07,70.33,70.65,71.34,72.06,74.63,77.12,77.12],\"yaxis\":\"y\",\"type\":\"scatter\"},{\"hovertemplate\":\"=Agricultural methane emissions kT<br>Year=%{x}<br>value=%{y}<extra></extra>\",\"legendgroup\":\"Agricultural methane emissions kT\",\"line\":{\"color\":\"#EF553B\",\"dash\":\"solid\",\"width\":5},\"marker\":{\"symbol\":\"circle\"},\"mode\":\"lines\",\"name\":\"Agricultural methane emissions kT\",\"orientation\":\"v\",\"showlegend\":true,\"x\":[1990,1991,1992,1993,1994,1995,1996,1997,1998,1999,2000,2001,2002,2003,2004,2005,2006,2007,2008,2009,2010,2011,2012,2013,2014,2015,2016,2017,2018,2019],\"xaxis\":\"x\",\"y\":[41.85,41.44,42.03,42.69,43.38,43.39,43.91,43.25,43.55,41.79,42.19,42.96,42.97,43.82,44.35,44.49,44.23,45.38,45.53,45.29,46.28,43.1,40.34,39.7,39.07,38.88,39.46,41.96,43.99,43.99],\"yaxis\":\"y\",\"type\":\"scatter\"},{\"hovertemplate\":\"=nitrous_oxide<br>Year=%{x}<br>value=%{y}<extra></extra>\",\"legendgroup\":\"nitrous_oxide\",\"line\":{\"color\":\"#00cc96\",\"dash\":\"solid\",\"width\":5},\"marker\":{\"symbol\":\"circle\"},\"mode\":\"lines\",\"name\":\"nitrous_oxide\",\"orientation\":\"v\",\"showlegend\":true,\"x\":[1990,1991,1992,1993,1994,1995,1996,1997,1998,1999,2000,2001,2002,2003,2004,2005,2006,2007,2008,2009,2010,2011,2012,2013,2014,2015,2016,2017,2018,2019],\"xaxis\":\"x\",\"y\":[18.06,18.06,18.05,18.38,18.67,18.65,18.32,18.43,18.77,18.06,18.64,19.01,19.27,20.07,20.57,20.61,21.12,22.89,21.83,21.99,22.49,21.75,21.29,19.84,20.47,19.94,20.05,21.17,22.18,22.18],\"yaxis\":\"y\",\"type\":\"scatter\"},{\"hovertemplate\":\"=Agricultural nitrous oxide emissions kT<br>Year=%{x}<br>value=%{y}<extra></extra>\",\"legendgroup\":\"Agricultural nitrous oxide emissions kT\",\"line\":{\"color\":\"#ab63fa\",\"dash\":\"solid\",\"width\":5},\"marker\":{\"symbol\":\"circle\"},\"mode\":\"lines\",\"name\":\"Agricultural nitrous oxide emissions kT\",\"orientation\":\"v\",\"showlegend\":true,\"x\":[1990,1991,1992,1993,1994,1995,1996,1997,1998,1999,2000,2001,2002,2003,2004,2005,2006,2007,2008,2009,2010,2011,2012,2013,2014,2015,2016,2017,2018,2019],\"xaxis\":\"x\",\"y\":[16.29,16.24,16.18,16.46,16.7,16.65,16.36,16.34,16.64,15.96,16.41,16.88,17.14,17.8,18.0,18.43,18.8,20.21,19.29,19.4,19.81,19.05,18.59,17.12,17.67,17.14,17.23,18.41,19.03,19.03],\"yaxis\":\"y\",\"type\":\"scatter\"}],                        {\"template\":{\"data\":{\"bar\":[{\"error_x\":{\"color\":\"#2a3f5f\"},\"error_y\":{\"color\":\"#2a3f5f\"},\"marker\":{\"line\":{\"color\":\"#E5ECF6\",\"width\":0.5},\"pattern\":{\"fillmode\":\"overlay\",\"size\":10,\"solidity\":0.2}},\"type\":\"bar\"}],\"barpolar\":[{\"marker\":{\"line\":{\"color\":\"#E5ECF6\",\"width\":0.5},\"pattern\":{\"fillmode\":\"overlay\",\"size\":10,\"solidity\":0.2}},\"type\":\"barpolar\"}],\"carpet\":[{\"aaxis\":{\"endlinecolor\":\"#2a3f5f\",\"gridcolor\":\"white\",\"linecolor\":\"white\",\"minorgridcolor\":\"white\",\"startlinecolor\":\"#2a3f5f\"},\"baxis\":{\"endlinecolor\":\"#2a3f5f\",\"gridcolor\":\"white\",\"linecolor\":\"white\",\"minorgridcolor\":\"white\",\"startlinecolor\":\"#2a3f5f\"},\"type\":\"carpet\"}],\"choropleth\":[{\"colorbar\":{\"outlinewidth\":0,\"ticks\":\"\"},\"type\":\"choropleth\"}],\"contour\":[{\"colorbar\":{\"outlinewidth\":0,\"ticks\":\"\"},\"colorscale\":[[0.0,\"#0d0887\"],[0.1111111111111111,\"#46039f\"],[0.2222222222222222,\"#7201a8\"],[0.3333333333333333,\"#9c179e\"],[0.4444444444444444,\"#bd3786\"],[0.5555555555555556,\"#d8576b\"],[0.6666666666666666,\"#ed7953\"],[0.7777777777777778,\"#fb9f3a\"],[0.8888888888888888,\"#fdca26\"],[1.0,\"#f0f921\"]],\"type\":\"contour\"}],\"contourcarpet\":[{\"colorbar\":{\"outlinewidth\":0,\"ticks\":\"\"},\"type\":\"contourcarpet\"}],\"heatmap\":[{\"colorbar\":{\"outlinewidth\":0,\"ticks\":\"\"},\"colorscale\":[[0.0,\"#0d0887\"],[0.1111111111111111,\"#46039f\"],[0.2222222222222222,\"#7201a8\"],[0.3333333333333333,\"#9c179e\"],[0.4444444444444444,\"#bd3786\"],[0.5555555555555556,\"#d8576b\"],[0.6666666666666666,\"#ed7953\"],[0.7777777777777778,\"#fb9f3a\"],[0.8888888888888888,\"#fdca26\"],[1.0,\"#f0f921\"]],\"type\":\"heatmap\"}],\"heatmapgl\":[{\"colorbar\":{\"outlinewidth\":0,\"ticks\":\"\"},\"colorscale\":[[0.0,\"#0d0887\"],[0.1111111111111111,\"#46039f\"],[0.2222222222222222,\"#7201a8\"],[0.3333333333333333,\"#9c179e\"],[0.4444444444444444,\"#bd3786\"],[0.5555555555555556,\"#d8576b\"],[0.6666666666666666,\"#ed7953\"],[0.7777777777777778,\"#fb9f3a\"],[0.8888888888888888,\"#fdca26\"],[1.0,\"#f0f921\"]],\"type\":\"heatmapgl\"}],\"histogram\":[{\"marker\":{\"pattern\":{\"fillmode\":\"overlay\",\"size\":10,\"solidity\":0.2}},\"type\":\"histogram\"}],\"histogram2d\":[{\"colorbar\":{\"outlinewidth\":0,\"ticks\":\"\"},\"colorscale\":[[0.0,\"#0d0887\"],[0.1111111111111111,\"#46039f\"],[0.2222222222222222,\"#7201a8\"],[0.3333333333333333,\"#9c179e\"],[0.4444444444444444,\"#bd3786\"],[0.5555555555555556,\"#d8576b\"],[0.6666666666666666,\"#ed7953\"],[0.7777777777777778,\"#fb9f3a\"],[0.8888888888888888,\"#fdca26\"],[1.0,\"#f0f921\"]],\"type\":\"histogram2d\"}],\"histogram2dcontour\":[{\"colorbar\":{\"outlinewidth\":0,\"ticks\":\"\"},\"colorscale\":[[0.0,\"#0d0887\"],[0.1111111111111111,\"#46039f\"],[0.2222222222222222,\"#7201a8\"],[0.3333333333333333,\"#9c179e\"],[0.4444444444444444,\"#bd3786\"],[0.5555555555555556,\"#d8576b\"],[0.6666666666666666,\"#ed7953\"],[0.7777777777777778,\"#fb9f3a\"],[0.8888888888888888,\"#fdca26\"],[1.0,\"#f0f921\"]],\"type\":\"histogram2dcontour\"}],\"mesh3d\":[{\"colorbar\":{\"outlinewidth\":0,\"ticks\":\"\"},\"type\":\"mesh3d\"}],\"parcoords\":[{\"line\":{\"colorbar\":{\"outlinewidth\":0,\"ticks\":\"\"}},\"type\":\"parcoords\"}],\"pie\":[{\"automargin\":true,\"type\":\"pie\"}],\"scatter\":[{\"marker\":{\"colorbar\":{\"outlinewidth\":0,\"ticks\":\"\"}},\"type\":\"scatter\"}],\"scatter3d\":[{\"line\":{\"colorbar\":{\"outlinewidth\":0,\"ticks\":\"\"}},\"marker\":{\"colorbar\":{\"outlinewidth\":0,\"ticks\":\"\"}},\"type\":\"scatter3d\"}],\"scattercarpet\":[{\"marker\":{\"colorbar\":{\"outlinewidth\":0,\"ticks\":\"\"}},\"type\":\"scattercarpet\"}],\"scattergeo\":[{\"marker\":{\"colorbar\":{\"outlinewidth\":0,\"ticks\":\"\"}},\"type\":\"scattergeo\"}],\"scattergl\":[{\"marker\":{\"colorbar\":{\"outlinewidth\":0,\"ticks\":\"\"}},\"type\":\"scattergl\"}],\"scattermapbox\":[{\"marker\":{\"colorbar\":{\"outlinewidth\":0,\"ticks\":\"\"}},\"type\":\"scattermapbox\"}],\"scatterpolar\":[{\"marker\":{\"colorbar\":{\"outlinewidth\":0,\"ticks\":\"\"}},\"type\":\"scatterpolar\"}],\"scatterpolargl\":[{\"marker\":{\"colorbar\":{\"outlinewidth\":0,\"ticks\":\"\"}},\"type\":\"scatterpolargl\"}],\"scatterternary\":[{\"marker\":{\"colorbar\":{\"outlinewidth\":0,\"ticks\":\"\"}},\"type\":\"scatterternary\"}],\"surface\":[{\"colorbar\":{\"outlinewidth\":0,\"ticks\":\"\"},\"colorscale\":[[0.0,\"#0d0887\"],[0.1111111111111111,\"#46039f\"],[0.2222222222222222,\"#7201a8\"],[0.3333333333333333,\"#9c179e\"],[0.4444444444444444,\"#bd3786\"],[0.5555555555555556,\"#d8576b\"],[0.6666666666666666,\"#ed7953\"],[0.7777777777777778,\"#fb9f3a\"],[0.8888888888888888,\"#fdca26\"],[1.0,\"#f0f921\"]],\"type\":\"surface\"}],\"table\":[{\"cells\":{\"fill\":{\"color\":\"#EBF0F8\"},\"line\":{\"color\":\"white\"}},\"header\":{\"fill\":{\"color\":\"#C8D4E3\"},\"line\":{\"color\":\"white\"}},\"type\":\"table\"}]},\"layout\":{\"annotationdefaults\":{\"arrowcolor\":\"#2a3f5f\",\"arrowhead\":0,\"arrowwidth\":1},\"autotypenumbers\":\"strict\",\"coloraxis\":{\"colorbar\":{\"outlinewidth\":0,\"ticks\":\"\"}},\"colorscale\":{\"diverging\":[[0,\"#8e0152\"],[0.1,\"#c51b7d\"],[0.2,\"#de77ae\"],[0.3,\"#f1b6da\"],[0.4,\"#fde0ef\"],[0.5,\"#f7f7f7\"],[0.6,\"#e6f5d0\"],[0.7,\"#b8e186\"],[0.8,\"#7fbc41\"],[0.9,\"#4d9221\"],[1,\"#276419\"]],\"sequential\":[[0.0,\"#0d0887\"],[0.1111111111111111,\"#46039f\"],[0.2222222222222222,\"#7201a8\"],[0.3333333333333333,\"#9c179e\"],[0.4444444444444444,\"#bd3786\"],[0.5555555555555556,\"#d8576b\"],[0.6666666666666666,\"#ed7953\"],[0.7777777777777778,\"#fb9f3a\"],[0.8888888888888888,\"#fdca26\"],[1.0,\"#f0f921\"]],\"sequentialminus\":[[0.0,\"#0d0887\"],[0.1111111111111111,\"#46039f\"],[0.2222222222222222,\"#7201a8\"],[0.3333333333333333,\"#9c179e\"],[0.4444444444444444,\"#bd3786\"],[0.5555555555555556,\"#d8576b\"],[0.6666666666666666,\"#ed7953\"],[0.7777777777777778,\"#fb9f3a\"],[0.8888888888888888,\"#fdca26\"],[1.0,\"#f0f921\"]]},\"colorway\":[\"#636efa\",\"#EF553B\",\"#00cc96\",\"#ab63fa\",\"#FFA15A\",\"#19d3f3\",\"#FF6692\",\"#B6E880\",\"#FF97FF\",\"#FECB52\"],\"font\":{\"color\":\"#2a3f5f\"},\"geo\":{\"bgcolor\":\"white\",\"lakecolor\":\"white\",\"landcolor\":\"#E5ECF6\",\"showlakes\":true,\"showland\":true,\"subunitcolor\":\"white\"},\"hoverlabel\":{\"align\":\"left\"},\"hovermode\":\"closest\",\"mapbox\":{\"style\":\"light\"},\"paper_bgcolor\":\"white\",\"plot_bgcolor\":\"#E5ECF6\",\"polar\":{\"angularaxis\":{\"gridcolor\":\"white\",\"linecolor\":\"white\",\"ticks\":\"\"},\"bgcolor\":\"#E5ECF6\",\"radialaxis\":{\"gridcolor\":\"white\",\"linecolor\":\"white\",\"ticks\":\"\"}},\"scene\":{\"xaxis\":{\"backgroundcolor\":\"#E5ECF6\",\"gridcolor\":\"white\",\"gridwidth\":2,\"linecolor\":\"white\",\"showbackground\":true,\"ticks\":\"\",\"zerolinecolor\":\"white\"},\"yaxis\":{\"backgroundcolor\":\"#E5ECF6\",\"gridcolor\":\"white\",\"gridwidth\":2,\"linecolor\":\"white\",\"showbackground\":true,\"ticks\":\"\",\"zerolinecolor\":\"white\"},\"zaxis\":{\"backgroundcolor\":\"#E5ECF6\",\"gridcolor\":\"white\",\"gridwidth\":2,\"linecolor\":\"white\",\"showbackground\":true,\"ticks\":\"\",\"zerolinecolor\":\"white\"}},\"shapedefaults\":{\"line\":{\"color\":\"#2a3f5f\"}},\"ternary\":{\"aaxis\":{\"gridcolor\":\"white\",\"linecolor\":\"white\",\"ticks\":\"\"},\"baxis\":{\"gridcolor\":\"white\",\"linecolor\":\"white\",\"ticks\":\"\"},\"bgcolor\":\"#E5ECF6\",\"caxis\":{\"gridcolor\":\"white\",\"linecolor\":\"white\",\"ticks\":\"\"}},\"title\":{\"x\":0.05},\"xaxis\":{\"automargin\":true,\"gridcolor\":\"white\",\"linecolor\":\"white\",\"ticks\":\"\",\"title\":{\"standoff\":15},\"zerolinecolor\":\"white\",\"zerolinewidth\":2},\"yaxis\":{\"automargin\":true,\"gridcolor\":\"white\",\"linecolor\":\"white\",\"ticks\":\"\",\"title\":{\"standoff\":15},\"zerolinecolor\":\"white\",\"zerolinewidth\":2}}},\"xaxis\":{\"anchor\":\"y\",\"domain\":[0.0,1.0],\"title\":{\"text\":\"Year\"},\"range\":[1990,2020]},\"yaxis\":{\"anchor\":\"x\",\"domain\":[0.0,1.0],\"title\":{\"text\":\"kilotonnes\"}},\"legend\":{\"title\":{\"text\":\"\"},\"tracegroupgap\":0},\"margin\":{\"t\":60}},                        {\"responsive\": true}                    ).then(function(){\n",
              "                            \n",
              "var gd = document.getElementById('919dac71-118c-4dfe-95fa-eb6a08e31454');\n",
              "var x = new MutationObserver(function (mutations, observer) {{\n",
              "        var display = window.getComputedStyle(gd).display;\n",
              "        if (!display || display === 'none') {{\n",
              "            console.log([gd, 'removed!']);\n",
              "            Plotly.purge(gd);\n",
              "            observer.disconnect();\n",
              "        }}\n",
              "}});\n",
              "\n",
              "// Listen for the removal of the full notebook cells\n",
              "var notebookContainer = gd.closest('#notebook-container');\n",
              "if (notebookContainer) {{\n",
              "    x.observe(notebookContainer, {childList: true});\n",
              "}}\n",
              "\n",
              "// Listen for the clearing of the current output cell\n",
              "var outputEl = gd.closest('.output');\n",
              "if (outputEl) {{\n",
              "    x.observe(outputEl, {childList: true});\n",
              "}}\n",
              "\n",
              "                        })                };                            </script>        </div>\n",
              "</body>\n",
              "</html>"
            ]
          },
          "metadata": {}
        }
      ]
    },
    {
      "cell_type": "code",
      "source": [
        "# GDP and CO2\n",
        "\n",
        "#Create figure with secondary y-axis\n",
        "fig = make_subplots(specs=[[{\"secondary_y\": True}]])\n",
        "\n",
        "# Add traces\n",
        "fig.add_trace(\n",
        "    go.Scatter(x=df[\"Year\"], y=df[\"gdp\"], name=\"Gross domestic product (GDP)\"),\n",
        "    secondary_y=False,\n",
        ")\n",
        "\n",
        "fig.add_trace(\n",
        "    go.Scatter(x=df[\"Year\"], y=df[\"co2\"], name=\"CO2 emissions\"),\n",
        "    secondary_y=True,\n",
        ")\n",
        "\n",
        "# Add figure title\n",
        "fig.update_layout(\n",
        "    title_text=\"GDP and CO2 emissions\"\n",
        ")\n",
        "\n",
        "# Set x-axis title and range\n",
        "fig.update_xaxes(title_text=\"Year\")\n",
        "fig.update_xaxes(range=(1990,2020))\n",
        "\n",
        "# Set y-axes titles\n",
        "fig.update_yaxes(title_text=\"GDP (Billions of pesos)\", secondary_y=False)\n",
        "fig.update_yaxes(title_text=\"CO2 emissions (Kilotonnes)\", secondary_y=True)\n",
        "\n",
        "\n",
        "fig.update_traces(line_width=5)\n",
        "fig.show()"
      ],
      "metadata": {
        "colab": {
          "base_uri": "https://localhost:8080/",
          "height": 542
        },
        "id": "Kwof_pY7ky_t",
        "outputId": "ffe7e826-ff1a-48fa-b8dc-b013895af634"
      },
      "execution_count": null,
      "outputs": [
        {
          "output_type": "display_data",
          "data": {
            "text/html": [
              "<html>\n",
              "<head><meta charset=\"utf-8\" /></head>\n",
              "<body>\n",
              "    <div>            <script src=\"https://cdnjs.cloudflare.com/ajax/libs/mathjax/2.7.5/MathJax.js?config=TeX-AMS-MML_SVG\"></script><script type=\"text/javascript\">if (window.MathJax) {MathJax.Hub.Config({SVG: {font: \"STIX-Web\"}});}</script>                <script type=\"text/javascript\">window.PlotlyConfig = {MathJaxConfig: 'local'};</script>\n",
              "        <script src=\"https://cdn.plot.ly/plotly-2.8.3.min.js\"></script>                <div id=\"1ecc71b4-169b-4b8b-910b-fd67e0a20a45\" class=\"plotly-graph-div\" style=\"height:525px; width:100%;\"></div>            <script type=\"text/javascript\">                                    window.PLOTLYENV=window.PLOTLYENV || {};                                    if (document.getElementById(\"1ecc71b4-169b-4b8b-910b-fd67e0a20a45\")) {                    Plotly.newPlot(                        \"1ecc71b4-169b-4b8b-910b-fd67e0a20a45\",                        [{\"name\":\"Gross domestic product (GDP)\",\"x\":[1990,1991,1992,1993,1994,1995,1996,1997,1998,1999,2000,2001,2002,2003,2004,2005,2006,2007,2008,2009,2010,2011,2012,2013,2014,2015,2016,2017,2018,2019],\"y\":[26371,34170,44200,58932,77147,96403,117184,141383,163598,177038,200762,219063,237506,268144,302515,337958,381604,428506,476554,501574,544060,619023,666507,714093,762903,804692,863782,920471,987791,1060068],\"type\":\"scatter\",\"xaxis\":\"x\",\"yaxis\":\"y\",\"line\":{\"width\":5}},{\"name\":\"CO2 emissions\",\"x\":[1990,1991,1992,1993,1994,1995,1996,1997,1998,1999,2000,2001,2002,2003,2004,2005,2006,2007,2008,2009,2010,2011,2012,2013,2014,2015,2016,2017,2018,2019],\"y\":[56.898,56.654,61.495,63.338,66.791,58.775,59.771,64.497,65.158,54.761,56.259,55.939,55.43,57.094,54.569,60.06,62.005,60.179,66.65,72.557,76.278,76.08,79.727,87.428,88.699,91.965,93.242,86.296,84.881,90.419],\"type\":\"scatter\",\"xaxis\":\"x\",\"yaxis\":\"y2\",\"line\":{\"width\":5}}],                        {\"template\":{\"data\":{\"bar\":[{\"error_x\":{\"color\":\"#2a3f5f\"},\"error_y\":{\"color\":\"#2a3f5f\"},\"marker\":{\"line\":{\"color\":\"#E5ECF6\",\"width\":0.5},\"pattern\":{\"fillmode\":\"overlay\",\"size\":10,\"solidity\":0.2}},\"type\":\"bar\"}],\"barpolar\":[{\"marker\":{\"line\":{\"color\":\"#E5ECF6\",\"width\":0.5},\"pattern\":{\"fillmode\":\"overlay\",\"size\":10,\"solidity\":0.2}},\"type\":\"barpolar\"}],\"carpet\":[{\"aaxis\":{\"endlinecolor\":\"#2a3f5f\",\"gridcolor\":\"white\",\"linecolor\":\"white\",\"minorgridcolor\":\"white\",\"startlinecolor\":\"#2a3f5f\"},\"baxis\":{\"endlinecolor\":\"#2a3f5f\",\"gridcolor\":\"white\",\"linecolor\":\"white\",\"minorgridcolor\":\"white\",\"startlinecolor\":\"#2a3f5f\"},\"type\":\"carpet\"}],\"choropleth\":[{\"colorbar\":{\"outlinewidth\":0,\"ticks\":\"\"},\"type\":\"choropleth\"}],\"contour\":[{\"colorbar\":{\"outlinewidth\":0,\"ticks\":\"\"},\"colorscale\":[[0.0,\"#0d0887\"],[0.1111111111111111,\"#46039f\"],[0.2222222222222222,\"#7201a8\"],[0.3333333333333333,\"#9c179e\"],[0.4444444444444444,\"#bd3786\"],[0.5555555555555556,\"#d8576b\"],[0.6666666666666666,\"#ed7953\"],[0.7777777777777778,\"#fb9f3a\"],[0.8888888888888888,\"#fdca26\"],[1.0,\"#f0f921\"]],\"type\":\"contour\"}],\"contourcarpet\":[{\"colorbar\":{\"outlinewidth\":0,\"ticks\":\"\"},\"type\":\"contourcarpet\"}],\"heatmap\":[{\"colorbar\":{\"outlinewidth\":0,\"ticks\":\"\"},\"colorscale\":[[0.0,\"#0d0887\"],[0.1111111111111111,\"#46039f\"],[0.2222222222222222,\"#7201a8\"],[0.3333333333333333,\"#9c179e\"],[0.4444444444444444,\"#bd3786\"],[0.5555555555555556,\"#d8576b\"],[0.6666666666666666,\"#ed7953\"],[0.7777777777777778,\"#fb9f3a\"],[0.8888888888888888,\"#fdca26\"],[1.0,\"#f0f921\"]],\"type\":\"heatmap\"}],\"heatmapgl\":[{\"colorbar\":{\"outlinewidth\":0,\"ticks\":\"\"},\"colorscale\":[[0.0,\"#0d0887\"],[0.1111111111111111,\"#46039f\"],[0.2222222222222222,\"#7201a8\"],[0.3333333333333333,\"#9c179e\"],[0.4444444444444444,\"#bd3786\"],[0.5555555555555556,\"#d8576b\"],[0.6666666666666666,\"#ed7953\"],[0.7777777777777778,\"#fb9f3a\"],[0.8888888888888888,\"#fdca26\"],[1.0,\"#f0f921\"]],\"type\":\"heatmapgl\"}],\"histogram\":[{\"marker\":{\"pattern\":{\"fillmode\":\"overlay\",\"size\":10,\"solidity\":0.2}},\"type\":\"histogram\"}],\"histogram2d\":[{\"colorbar\":{\"outlinewidth\":0,\"ticks\":\"\"},\"colorscale\":[[0.0,\"#0d0887\"],[0.1111111111111111,\"#46039f\"],[0.2222222222222222,\"#7201a8\"],[0.3333333333333333,\"#9c179e\"],[0.4444444444444444,\"#bd3786\"],[0.5555555555555556,\"#d8576b\"],[0.6666666666666666,\"#ed7953\"],[0.7777777777777778,\"#fb9f3a\"],[0.8888888888888888,\"#fdca26\"],[1.0,\"#f0f921\"]],\"type\":\"histogram2d\"}],\"histogram2dcontour\":[{\"colorbar\":{\"outlinewidth\":0,\"ticks\":\"\"},\"colorscale\":[[0.0,\"#0d0887\"],[0.1111111111111111,\"#46039f\"],[0.2222222222222222,\"#7201a8\"],[0.3333333333333333,\"#9c179e\"],[0.4444444444444444,\"#bd3786\"],[0.5555555555555556,\"#d8576b\"],[0.6666666666666666,\"#ed7953\"],[0.7777777777777778,\"#fb9f3a\"],[0.8888888888888888,\"#fdca26\"],[1.0,\"#f0f921\"]],\"type\":\"histogram2dcontour\"}],\"mesh3d\":[{\"colorbar\":{\"outlinewidth\":0,\"ticks\":\"\"},\"type\":\"mesh3d\"}],\"parcoords\":[{\"line\":{\"colorbar\":{\"outlinewidth\":0,\"ticks\":\"\"}},\"type\":\"parcoords\"}],\"pie\":[{\"automargin\":true,\"type\":\"pie\"}],\"scatter\":[{\"marker\":{\"colorbar\":{\"outlinewidth\":0,\"ticks\":\"\"}},\"type\":\"scatter\"}],\"scatter3d\":[{\"line\":{\"colorbar\":{\"outlinewidth\":0,\"ticks\":\"\"}},\"marker\":{\"colorbar\":{\"outlinewidth\":0,\"ticks\":\"\"}},\"type\":\"scatter3d\"}],\"scattercarpet\":[{\"marker\":{\"colorbar\":{\"outlinewidth\":0,\"ticks\":\"\"}},\"type\":\"scattercarpet\"}],\"scattergeo\":[{\"marker\":{\"colorbar\":{\"outlinewidth\":0,\"ticks\":\"\"}},\"type\":\"scattergeo\"}],\"scattergl\":[{\"marker\":{\"colorbar\":{\"outlinewidth\":0,\"ticks\":\"\"}},\"type\":\"scattergl\"}],\"scattermapbox\":[{\"marker\":{\"colorbar\":{\"outlinewidth\":0,\"ticks\":\"\"}},\"type\":\"scattermapbox\"}],\"scatterpolar\":[{\"marker\":{\"colorbar\":{\"outlinewidth\":0,\"ticks\":\"\"}},\"type\":\"scatterpolar\"}],\"scatterpolargl\":[{\"marker\":{\"colorbar\":{\"outlinewidth\":0,\"ticks\":\"\"}},\"type\":\"scatterpolargl\"}],\"scatterternary\":[{\"marker\":{\"colorbar\":{\"outlinewidth\":0,\"ticks\":\"\"}},\"type\":\"scatterternary\"}],\"surface\":[{\"colorbar\":{\"outlinewidth\":0,\"ticks\":\"\"},\"colorscale\":[[0.0,\"#0d0887\"],[0.1111111111111111,\"#46039f\"],[0.2222222222222222,\"#7201a8\"],[0.3333333333333333,\"#9c179e\"],[0.4444444444444444,\"#bd3786\"],[0.5555555555555556,\"#d8576b\"],[0.6666666666666666,\"#ed7953\"],[0.7777777777777778,\"#fb9f3a\"],[0.8888888888888888,\"#fdca26\"],[1.0,\"#f0f921\"]],\"type\":\"surface\"}],\"table\":[{\"cells\":{\"fill\":{\"color\":\"#EBF0F8\"},\"line\":{\"color\":\"white\"}},\"header\":{\"fill\":{\"color\":\"#C8D4E3\"},\"line\":{\"color\":\"white\"}},\"type\":\"table\"}]},\"layout\":{\"annotationdefaults\":{\"arrowcolor\":\"#2a3f5f\",\"arrowhead\":0,\"arrowwidth\":1},\"autotypenumbers\":\"strict\",\"coloraxis\":{\"colorbar\":{\"outlinewidth\":0,\"ticks\":\"\"}},\"colorscale\":{\"diverging\":[[0,\"#8e0152\"],[0.1,\"#c51b7d\"],[0.2,\"#de77ae\"],[0.3,\"#f1b6da\"],[0.4,\"#fde0ef\"],[0.5,\"#f7f7f7\"],[0.6,\"#e6f5d0\"],[0.7,\"#b8e186\"],[0.8,\"#7fbc41\"],[0.9,\"#4d9221\"],[1,\"#276419\"]],\"sequential\":[[0.0,\"#0d0887\"],[0.1111111111111111,\"#46039f\"],[0.2222222222222222,\"#7201a8\"],[0.3333333333333333,\"#9c179e\"],[0.4444444444444444,\"#bd3786\"],[0.5555555555555556,\"#d8576b\"],[0.6666666666666666,\"#ed7953\"],[0.7777777777777778,\"#fb9f3a\"],[0.8888888888888888,\"#fdca26\"],[1.0,\"#f0f921\"]],\"sequentialminus\":[[0.0,\"#0d0887\"],[0.1111111111111111,\"#46039f\"],[0.2222222222222222,\"#7201a8\"],[0.3333333333333333,\"#9c179e\"],[0.4444444444444444,\"#bd3786\"],[0.5555555555555556,\"#d8576b\"],[0.6666666666666666,\"#ed7953\"],[0.7777777777777778,\"#fb9f3a\"],[0.8888888888888888,\"#fdca26\"],[1.0,\"#f0f921\"]]},\"colorway\":[\"#636efa\",\"#EF553B\",\"#00cc96\",\"#ab63fa\",\"#FFA15A\",\"#19d3f3\",\"#FF6692\",\"#B6E880\",\"#FF97FF\",\"#FECB52\"],\"font\":{\"color\":\"#2a3f5f\"},\"geo\":{\"bgcolor\":\"white\",\"lakecolor\":\"white\",\"landcolor\":\"#E5ECF6\",\"showlakes\":true,\"showland\":true,\"subunitcolor\":\"white\"},\"hoverlabel\":{\"align\":\"left\"},\"hovermode\":\"closest\",\"mapbox\":{\"style\":\"light\"},\"paper_bgcolor\":\"white\",\"plot_bgcolor\":\"#E5ECF6\",\"polar\":{\"angularaxis\":{\"gridcolor\":\"white\",\"linecolor\":\"white\",\"ticks\":\"\"},\"bgcolor\":\"#E5ECF6\",\"radialaxis\":{\"gridcolor\":\"white\",\"linecolor\":\"white\",\"ticks\":\"\"}},\"scene\":{\"xaxis\":{\"backgroundcolor\":\"#E5ECF6\",\"gridcolor\":\"white\",\"gridwidth\":2,\"linecolor\":\"white\",\"showbackground\":true,\"ticks\":\"\",\"zerolinecolor\":\"white\"},\"yaxis\":{\"backgroundcolor\":\"#E5ECF6\",\"gridcolor\":\"white\",\"gridwidth\":2,\"linecolor\":\"white\",\"showbackground\":true,\"ticks\":\"\",\"zerolinecolor\":\"white\"},\"zaxis\":{\"backgroundcolor\":\"#E5ECF6\",\"gridcolor\":\"white\",\"gridwidth\":2,\"linecolor\":\"white\",\"showbackground\":true,\"ticks\":\"\",\"zerolinecolor\":\"white\"}},\"shapedefaults\":{\"line\":{\"color\":\"#2a3f5f\"}},\"ternary\":{\"aaxis\":{\"gridcolor\":\"white\",\"linecolor\":\"white\",\"ticks\":\"\"},\"baxis\":{\"gridcolor\":\"white\",\"linecolor\":\"white\",\"ticks\":\"\"},\"bgcolor\":\"#E5ECF6\",\"caxis\":{\"gridcolor\":\"white\",\"linecolor\":\"white\",\"ticks\":\"\"}},\"title\":{\"x\":0.05},\"xaxis\":{\"automargin\":true,\"gridcolor\":\"white\",\"linecolor\":\"white\",\"ticks\":\"\",\"title\":{\"standoff\":15},\"zerolinecolor\":\"white\",\"zerolinewidth\":2},\"yaxis\":{\"automargin\":true,\"gridcolor\":\"white\",\"linecolor\":\"white\",\"ticks\":\"\",\"title\":{\"standoff\":15},\"zerolinecolor\":\"white\",\"zerolinewidth\":2}}},\"xaxis\":{\"anchor\":\"y\",\"domain\":[0.0,0.94],\"title\":{\"text\":\"Year\"},\"range\":[1990,2020]},\"yaxis\":{\"anchor\":\"x\",\"domain\":[0.0,1.0],\"title\":{\"text\":\"GDP (Billions of pesos)\"}},\"yaxis2\":{\"anchor\":\"x\",\"overlaying\":\"y\",\"side\":\"right\",\"title\":{\"text\":\"CO2 emissions (Kilotonnes)\"}},\"title\":{\"text\":\"GDP y CO2 emissions\"}},                        {\"responsive\": true}                    ).then(function(){\n",
              "                            \n",
              "var gd = document.getElementById('1ecc71b4-169b-4b8b-910b-fd67e0a20a45');\n",
              "var x = new MutationObserver(function (mutations, observer) {{\n",
              "        var display = window.getComputedStyle(gd).display;\n",
              "        if (!display || display === 'none') {{\n",
              "            console.log([gd, 'removed!']);\n",
              "            Plotly.purge(gd);\n",
              "            observer.disconnect();\n",
              "        }}\n",
              "}});\n",
              "\n",
              "// Listen for the removal of the full notebook cells\n",
              "var notebookContainer = gd.closest('#notebook-container');\n",
              "if (notebookContainer) {{\n",
              "    x.observe(notebookContainer, {childList: true});\n",
              "}}\n",
              "\n",
              "// Listen for the clearing of the current output cell\n",
              "var outputEl = gd.closest('.output');\n",
              "if (outputEl) {{\n",
              "    x.observe(outputEl, {childList: true});\n",
              "}}\n",
              "\n",
              "                        })                };                            </script>        </div>\n",
              "</body>\n",
              "</html>"
            ]
          },
          "metadata": {}
        }
      ]
    },
    {
      "cell_type": "code",
      "source": [
        "# TEMPERATURE and CO2\n",
        "\n",
        "#Create figure with secondary y-axis\n",
        "fig = make_subplots(specs=[[{\"secondary_y\": True}]])\n",
        "\n",
        "# Add traces\n",
        "fig.add_trace(\n",
        "    go.Scatter(x=df[\"Year\"], y=df[\"Temperature\"], name=\"Temperature\",line_color='#FF0000'),\n",
        "    secondary_y=False,\n",
        ")\n",
        "\n",
        "fig.add_trace(\n",
        "    go.Scatter(x=df[\"Year\"], y=df[\"co2\"], name=\"CO2 emissions\", line_color= '#00ff00'),\n",
        "    secondary_y=True,\n",
        ")\n",
        "\n",
        "# Add figure title\n",
        "fig.update_layout(\n",
        "    title_text=\"Temperature and CO2 emissions\"\n",
        ")\n",
        "\n",
        "# Set x-axis title and range\n",
        "fig.update_xaxes(title_text=\"Year\")\n",
        "fig.update_xaxes(range=(1990,2020))\n",
        "\n",
        "# Set y-axes titles\n",
        "fig.update_yaxes(title_text=\"Temperature (°C)\", secondary_y=False)\n",
        "fig.update_yaxes(title_text=\"CO2 emissions (kilotonnes)\", secondary_y=True)\n",
        "\n",
        "\n",
        "fig.update_traces(line_width=5)\n",
        "\n",
        "fig.show()"
      ],
      "metadata": {
        "colab": {
          "base_uri": "https://localhost:8080/",
          "height": 542
        },
        "id": "29oqu2T4lFaB",
        "outputId": "0a293762-cb92-497d-ff40-d4b8df962723"
      },
      "execution_count": null,
      "outputs": [
        {
          "output_type": "display_data",
          "data": {
            "text/html": [
              "<html>\n",
              "<head><meta charset=\"utf-8\" /></head>\n",
              "<body>\n",
              "    <div>            <script src=\"https://cdnjs.cloudflare.com/ajax/libs/mathjax/2.7.5/MathJax.js?config=TeX-AMS-MML_SVG\"></script><script type=\"text/javascript\">if (window.MathJax) {MathJax.Hub.Config({SVG: {font: \"STIX-Web\"}});}</script>                <script type=\"text/javascript\">window.PlotlyConfig = {MathJaxConfig: 'local'};</script>\n",
              "        <script src=\"https://cdn.plot.ly/plotly-2.8.3.min.js\"></script>                <div id=\"7dcd8aa2-901a-400e-8447-5813aa619179\" class=\"plotly-graph-div\" style=\"height:525px; width:100%;\"></div>            <script type=\"text/javascript\">                                    window.PLOTLYENV=window.PLOTLYENV || {};                                    if (document.getElementById(\"7dcd8aa2-901a-400e-8447-5813aa619179\")) {                    Plotly.newPlot(                        \"7dcd8aa2-901a-400e-8447-5813aa619179\",                        [{\"line\":{\"color\":\"#FF0000\",\"width\":5},\"name\":\"Temperature\",\"x\":[1990,1991,1992,1993,1994,1995,1996,1997,1998,1999,2000,2001,2002,2003,2004,2005,2006,2007,2008,2009,2010,2011,2012,2013,2014,2015,2016,2017,2018,2019],\"y\":[23.458,23.648,23.656,23.429,23.434,23.699,23.242,23.792,24.01,23.129,23.327,23.529,23.783,23.786,23.833,24.048,23.855,23.961,23.778,24.063,24.31,23.913,23.923,24.081,24.227,24.458,24.584,24.337,24.15,24.436],\"type\":\"scatter\",\"xaxis\":\"x\",\"yaxis\":\"y\"},{\"line\":{\"color\":\"#00ff00\",\"width\":5},\"name\":\"CO2 emissions\",\"x\":[1990,1991,1992,1993,1994,1995,1996,1997,1998,1999,2000,2001,2002,2003,2004,2005,2006,2007,2008,2009,2010,2011,2012,2013,2014,2015,2016,2017,2018,2019],\"y\":[56.898,56.654,61.495,63.338,66.791,58.775,59.771,64.497,65.158,54.761,56.259,55.939,55.43,57.094,54.569,60.06,62.005,60.179,66.65,72.557,76.278,76.08,79.727,87.428,88.699,91.965,93.242,86.296,84.881,90.419],\"type\":\"scatter\",\"xaxis\":\"x\",\"yaxis\":\"y2\"}],                        {\"template\":{\"data\":{\"bar\":[{\"error_x\":{\"color\":\"#2a3f5f\"},\"error_y\":{\"color\":\"#2a3f5f\"},\"marker\":{\"line\":{\"color\":\"#E5ECF6\",\"width\":0.5},\"pattern\":{\"fillmode\":\"overlay\",\"size\":10,\"solidity\":0.2}},\"type\":\"bar\"}],\"barpolar\":[{\"marker\":{\"line\":{\"color\":\"#E5ECF6\",\"width\":0.5},\"pattern\":{\"fillmode\":\"overlay\",\"size\":10,\"solidity\":0.2}},\"type\":\"barpolar\"}],\"carpet\":[{\"aaxis\":{\"endlinecolor\":\"#2a3f5f\",\"gridcolor\":\"white\",\"linecolor\":\"white\",\"minorgridcolor\":\"white\",\"startlinecolor\":\"#2a3f5f\"},\"baxis\":{\"endlinecolor\":\"#2a3f5f\",\"gridcolor\":\"white\",\"linecolor\":\"white\",\"minorgridcolor\":\"white\",\"startlinecolor\":\"#2a3f5f\"},\"type\":\"carpet\"}],\"choropleth\":[{\"colorbar\":{\"outlinewidth\":0,\"ticks\":\"\"},\"type\":\"choropleth\"}],\"contour\":[{\"colorbar\":{\"outlinewidth\":0,\"ticks\":\"\"},\"colorscale\":[[0.0,\"#0d0887\"],[0.1111111111111111,\"#46039f\"],[0.2222222222222222,\"#7201a8\"],[0.3333333333333333,\"#9c179e\"],[0.4444444444444444,\"#bd3786\"],[0.5555555555555556,\"#d8576b\"],[0.6666666666666666,\"#ed7953\"],[0.7777777777777778,\"#fb9f3a\"],[0.8888888888888888,\"#fdca26\"],[1.0,\"#f0f921\"]],\"type\":\"contour\"}],\"contourcarpet\":[{\"colorbar\":{\"outlinewidth\":0,\"ticks\":\"\"},\"type\":\"contourcarpet\"}],\"heatmap\":[{\"colorbar\":{\"outlinewidth\":0,\"ticks\":\"\"},\"colorscale\":[[0.0,\"#0d0887\"],[0.1111111111111111,\"#46039f\"],[0.2222222222222222,\"#7201a8\"],[0.3333333333333333,\"#9c179e\"],[0.4444444444444444,\"#bd3786\"],[0.5555555555555556,\"#d8576b\"],[0.6666666666666666,\"#ed7953\"],[0.7777777777777778,\"#fb9f3a\"],[0.8888888888888888,\"#fdca26\"],[1.0,\"#f0f921\"]],\"type\":\"heatmap\"}],\"heatmapgl\":[{\"colorbar\":{\"outlinewidth\":0,\"ticks\":\"\"},\"colorscale\":[[0.0,\"#0d0887\"],[0.1111111111111111,\"#46039f\"],[0.2222222222222222,\"#7201a8\"],[0.3333333333333333,\"#9c179e\"],[0.4444444444444444,\"#bd3786\"],[0.5555555555555556,\"#d8576b\"],[0.6666666666666666,\"#ed7953\"],[0.7777777777777778,\"#fb9f3a\"],[0.8888888888888888,\"#fdca26\"],[1.0,\"#f0f921\"]],\"type\":\"heatmapgl\"}],\"histogram\":[{\"marker\":{\"pattern\":{\"fillmode\":\"overlay\",\"size\":10,\"solidity\":0.2}},\"type\":\"histogram\"}],\"histogram2d\":[{\"colorbar\":{\"outlinewidth\":0,\"ticks\":\"\"},\"colorscale\":[[0.0,\"#0d0887\"],[0.1111111111111111,\"#46039f\"],[0.2222222222222222,\"#7201a8\"],[0.3333333333333333,\"#9c179e\"],[0.4444444444444444,\"#bd3786\"],[0.5555555555555556,\"#d8576b\"],[0.6666666666666666,\"#ed7953\"],[0.7777777777777778,\"#fb9f3a\"],[0.8888888888888888,\"#fdca26\"],[1.0,\"#f0f921\"]],\"type\":\"histogram2d\"}],\"histogram2dcontour\":[{\"colorbar\":{\"outlinewidth\":0,\"ticks\":\"\"},\"colorscale\":[[0.0,\"#0d0887\"],[0.1111111111111111,\"#46039f\"],[0.2222222222222222,\"#7201a8\"],[0.3333333333333333,\"#9c179e\"],[0.4444444444444444,\"#bd3786\"],[0.5555555555555556,\"#d8576b\"],[0.6666666666666666,\"#ed7953\"],[0.7777777777777778,\"#fb9f3a\"],[0.8888888888888888,\"#fdca26\"],[1.0,\"#f0f921\"]],\"type\":\"histogram2dcontour\"}],\"mesh3d\":[{\"colorbar\":{\"outlinewidth\":0,\"ticks\":\"\"},\"type\":\"mesh3d\"}],\"parcoords\":[{\"line\":{\"colorbar\":{\"outlinewidth\":0,\"ticks\":\"\"}},\"type\":\"parcoords\"}],\"pie\":[{\"automargin\":true,\"type\":\"pie\"}],\"scatter\":[{\"marker\":{\"colorbar\":{\"outlinewidth\":0,\"ticks\":\"\"}},\"type\":\"scatter\"}],\"scatter3d\":[{\"line\":{\"colorbar\":{\"outlinewidth\":0,\"ticks\":\"\"}},\"marker\":{\"colorbar\":{\"outlinewidth\":0,\"ticks\":\"\"}},\"type\":\"scatter3d\"}],\"scattercarpet\":[{\"marker\":{\"colorbar\":{\"outlinewidth\":0,\"ticks\":\"\"}},\"type\":\"scattercarpet\"}],\"scattergeo\":[{\"marker\":{\"colorbar\":{\"outlinewidth\":0,\"ticks\":\"\"}},\"type\":\"scattergeo\"}],\"scattergl\":[{\"marker\":{\"colorbar\":{\"outlinewidth\":0,\"ticks\":\"\"}},\"type\":\"scattergl\"}],\"scattermapbox\":[{\"marker\":{\"colorbar\":{\"outlinewidth\":0,\"ticks\":\"\"}},\"type\":\"scattermapbox\"}],\"scatterpolar\":[{\"marker\":{\"colorbar\":{\"outlinewidth\":0,\"ticks\":\"\"}},\"type\":\"scatterpolar\"}],\"scatterpolargl\":[{\"marker\":{\"colorbar\":{\"outlinewidth\":0,\"ticks\":\"\"}},\"type\":\"scatterpolargl\"}],\"scatterternary\":[{\"marker\":{\"colorbar\":{\"outlinewidth\":0,\"ticks\":\"\"}},\"type\":\"scatterternary\"}],\"surface\":[{\"colorbar\":{\"outlinewidth\":0,\"ticks\":\"\"},\"colorscale\":[[0.0,\"#0d0887\"],[0.1111111111111111,\"#46039f\"],[0.2222222222222222,\"#7201a8\"],[0.3333333333333333,\"#9c179e\"],[0.4444444444444444,\"#bd3786\"],[0.5555555555555556,\"#d8576b\"],[0.6666666666666666,\"#ed7953\"],[0.7777777777777778,\"#fb9f3a\"],[0.8888888888888888,\"#fdca26\"],[1.0,\"#f0f921\"]],\"type\":\"surface\"}],\"table\":[{\"cells\":{\"fill\":{\"color\":\"#EBF0F8\"},\"line\":{\"color\":\"white\"}},\"header\":{\"fill\":{\"color\":\"#C8D4E3\"},\"line\":{\"color\":\"white\"}},\"type\":\"table\"}]},\"layout\":{\"annotationdefaults\":{\"arrowcolor\":\"#2a3f5f\",\"arrowhead\":0,\"arrowwidth\":1},\"autotypenumbers\":\"strict\",\"coloraxis\":{\"colorbar\":{\"outlinewidth\":0,\"ticks\":\"\"}},\"colorscale\":{\"diverging\":[[0,\"#8e0152\"],[0.1,\"#c51b7d\"],[0.2,\"#de77ae\"],[0.3,\"#f1b6da\"],[0.4,\"#fde0ef\"],[0.5,\"#f7f7f7\"],[0.6,\"#e6f5d0\"],[0.7,\"#b8e186\"],[0.8,\"#7fbc41\"],[0.9,\"#4d9221\"],[1,\"#276419\"]],\"sequential\":[[0.0,\"#0d0887\"],[0.1111111111111111,\"#46039f\"],[0.2222222222222222,\"#7201a8\"],[0.3333333333333333,\"#9c179e\"],[0.4444444444444444,\"#bd3786\"],[0.5555555555555556,\"#d8576b\"],[0.6666666666666666,\"#ed7953\"],[0.7777777777777778,\"#fb9f3a\"],[0.8888888888888888,\"#fdca26\"],[1.0,\"#f0f921\"]],\"sequentialminus\":[[0.0,\"#0d0887\"],[0.1111111111111111,\"#46039f\"],[0.2222222222222222,\"#7201a8\"],[0.3333333333333333,\"#9c179e\"],[0.4444444444444444,\"#bd3786\"],[0.5555555555555556,\"#d8576b\"],[0.6666666666666666,\"#ed7953\"],[0.7777777777777778,\"#fb9f3a\"],[0.8888888888888888,\"#fdca26\"],[1.0,\"#f0f921\"]]},\"colorway\":[\"#636efa\",\"#EF553B\",\"#00cc96\",\"#ab63fa\",\"#FFA15A\",\"#19d3f3\",\"#FF6692\",\"#B6E880\",\"#FF97FF\",\"#FECB52\"],\"font\":{\"color\":\"#2a3f5f\"},\"geo\":{\"bgcolor\":\"white\",\"lakecolor\":\"white\",\"landcolor\":\"#E5ECF6\",\"showlakes\":true,\"showland\":true,\"subunitcolor\":\"white\"},\"hoverlabel\":{\"align\":\"left\"},\"hovermode\":\"closest\",\"mapbox\":{\"style\":\"light\"},\"paper_bgcolor\":\"white\",\"plot_bgcolor\":\"#E5ECF6\",\"polar\":{\"angularaxis\":{\"gridcolor\":\"white\",\"linecolor\":\"white\",\"ticks\":\"\"},\"bgcolor\":\"#E5ECF6\",\"radialaxis\":{\"gridcolor\":\"white\",\"linecolor\":\"white\",\"ticks\":\"\"}},\"scene\":{\"xaxis\":{\"backgroundcolor\":\"#E5ECF6\",\"gridcolor\":\"white\",\"gridwidth\":2,\"linecolor\":\"white\",\"showbackground\":true,\"ticks\":\"\",\"zerolinecolor\":\"white\"},\"yaxis\":{\"backgroundcolor\":\"#E5ECF6\",\"gridcolor\":\"white\",\"gridwidth\":2,\"linecolor\":\"white\",\"showbackground\":true,\"ticks\":\"\",\"zerolinecolor\":\"white\"},\"zaxis\":{\"backgroundcolor\":\"#E5ECF6\",\"gridcolor\":\"white\",\"gridwidth\":2,\"linecolor\":\"white\",\"showbackground\":true,\"ticks\":\"\",\"zerolinecolor\":\"white\"}},\"shapedefaults\":{\"line\":{\"color\":\"#2a3f5f\"}},\"ternary\":{\"aaxis\":{\"gridcolor\":\"white\",\"linecolor\":\"white\",\"ticks\":\"\"},\"baxis\":{\"gridcolor\":\"white\",\"linecolor\":\"white\",\"ticks\":\"\"},\"bgcolor\":\"#E5ECF6\",\"caxis\":{\"gridcolor\":\"white\",\"linecolor\":\"white\",\"ticks\":\"\"}},\"title\":{\"x\":0.05},\"xaxis\":{\"automargin\":true,\"gridcolor\":\"white\",\"linecolor\":\"white\",\"ticks\":\"\",\"title\":{\"standoff\":15},\"zerolinecolor\":\"white\",\"zerolinewidth\":2},\"yaxis\":{\"automargin\":true,\"gridcolor\":\"white\",\"linecolor\":\"white\",\"ticks\":\"\",\"title\":{\"standoff\":15},\"zerolinecolor\":\"white\",\"zerolinewidth\":2}}},\"xaxis\":{\"anchor\":\"y\",\"domain\":[0.0,0.94],\"title\":{\"text\":\"Year\"},\"range\":[1990,2020]},\"yaxis\":{\"anchor\":\"x\",\"domain\":[0.0,1.0],\"title\":{\"text\":\"Temperature (\\u00b0C)\"}},\"yaxis2\":{\"anchor\":\"x\",\"overlaying\":\"y\",\"side\":\"right\",\"title\":{\"text\":\"CO2 emissions (kilotonnes)\"}},\"title\":{\"text\":\"Temperature and CO2 emissions\"}},                        {\"responsive\": true}                    ).then(function(){\n",
              "                            \n",
              "var gd = document.getElementById('7dcd8aa2-901a-400e-8447-5813aa619179');\n",
              "var x = new MutationObserver(function (mutations, observer) {{\n",
              "        var display = window.getComputedStyle(gd).display;\n",
              "        if (!display || display === 'none') {{\n",
              "            console.log([gd, 'removed!']);\n",
              "            Plotly.purge(gd);\n",
              "            observer.disconnect();\n",
              "        }}\n",
              "}});\n",
              "\n",
              "// Listen for the removal of the full notebook cells\n",
              "var notebookContainer = gd.closest('#notebook-container');\n",
              "if (notebookContainer) {{\n",
              "    x.observe(notebookContainer, {childList: true});\n",
              "}}\n",
              "\n",
              "// Listen for the clearing of the current output cell\n",
              "var outputEl = gd.closest('.output');\n",
              "if (outputEl) {{\n",
              "    x.observe(outputEl, {childList: true});\n",
              "}}\n",
              "\n",
              "                        })                };                            </script>        </div>\n",
              "</body>\n",
              "</html>"
            ]
          },
          "metadata": {}
        }
      ]
    },
    {
      "cell_type": "markdown",
      "source": [
        "#### Data Selection"
      ],
      "metadata": {
        "id": "LwNvwsxXmwE6"
      }
    },
    {
      "cell_type": "markdown",
      "source": [
        "As we have a small dataset, choosing the right variables is very important for the accuracy of the model. \n",
        "\n",
        "In the datasets we found a strong relationship between:\n",
        "\n",
        "1. Population = Urban population + Rural population\n",
        "2. Agricultural methane emissions is contained in methane\n",
        "3. Agricultural nitrous oxide emissions is contained in nitrous_oxide\n",
        "4. Fossil_fuel_consumption = coal_consumption + gas_consumption + oil_consumption\n",
        "5. Renewables_consumption = hydro_consumption + others\n",
        "6. Total_ghg = co2 + methane + nitrous_oxide + others\n",
        "7. Cattle and Pigs are contained in methane since the animales produce that.\n",
        "\n",
        "Given this information, we decided to take the total variables to reduce model complexity."
      ],
      "metadata": {
        "id": "c3J3Y8VrRz2T"
      }
    },
    {
      "cell_type": "code",
      "source": [
        "df_final.columns"
      ],
      "metadata": {
        "id": "LRZkC4EPq61a",
        "colab": {
          "base_uri": "https://localhost:8080/"
        },
        "outputId": "5fd76a2e-7b78-41bb-c38d-2b9c15393bde"
      },
      "execution_count": null,
      "outputs": [
        {
          "output_type": "execute_result",
          "data": {
            "text/plain": [
              "Index(['Urban population', 'Rural population', 'Forest area',\n",
              "       'Agricultural land', 'Agricultural methane emissions',\n",
              "       'Agricultural nitrous oxide emissions', 'coal_consumption',\n",
              "       'fossil_fuel_consumption', 'gas_consumption', 'hydro_consumption',\n",
              "       'oil_consumption', 'other_renewable_consumption',\n",
              "       'primary_energy_consumption', 'renewables_consumption', 'population',\n",
              "       'Temperature', 'co2', 'total_ghg', 'methane', 'nitrous_oxide', 'gdp',\n",
              "       'Cattle', 'Pigs'],\n",
              "      dtype='object')"
            ]
          },
          "metadata": {},
          "execution_count": 283
        }
      ]
    },
    {
      "cell_type": "code",
      "source": [
        "df_final = df_final.drop(['Urban population', 'Rural population',\n",
        "       'Agricultural land', 'Agricultural methane emissions', 'hydro_consumption',\n",
        "       'Agricultural nitrous oxide emissions', 'other_renewable_consumption', \n",
        "       'primary_energy_consumption', 'co2', 'methane', 'nitrous_oxide', 'Cattle', 'Pigs'\n",
        "       , 'oil_consumption', 'coal_consumption', 'gas_consumption'], axis = 1)"
      ],
      "metadata": {
        "id": "GU-Xg-__vW5-"
      },
      "execution_count": null,
      "outputs": []
    },
    {
      "cell_type": "code",
      "source": [
        "#Distribution of the data\n",
        "\n",
        "fig = plt.figure(figsize = (20,25))\n",
        "ax = fig.gca()\n",
        "df_final.hist(ax = ax)\n",
        "plt.show()"
      ],
      "metadata": {
        "id": "AZwWx3jENd2N",
        "colab": {
          "base_uri": "https://localhost:8080/",
          "height": 1000
        },
        "outputId": "54c869b9-87d7-42c6-aeb7-06266e2b4c70"
      },
      "execution_count": null,
      "outputs": [
        {
          "output_type": "stream",
          "name": "stderr",
          "text": [
            "/usr/local/lib/python3.7/dist-packages/ipykernel_launcher.py:5: UserWarning:\n",
            "\n",
            "To output multiple subplots, the figure containing the passed axes is being cleared\n",
            "\n"
          ]
        },
        {
          "output_type": "display_data",
          "data": {
            "text/plain": [
              "<Figure size 1440x1800 with 9 Axes>"
            ],
            "image/png": "[encoded data removed]"
          },
          "metadata": {
            "needs_background": "light"
          }
        }
      ]
    },
    {
      "cell_type": "markdown",
      "source": [
        "##### Data normalization\n",
        "\n",
        "In this case, we are going to use **MinMaxScaler**, which transforms data by scaling features to a given range, usually [0,1]. It scales the values to a specific value range without changing the shape of the original distribution."
      ],
      "metadata": {
        "id": "d9PZRoaeO0rg"
      }
    },
    {
      "cell_type": "code",
      "source": [
        "scaler = MinMaxScaler(feature_range=(0.000001, 1),)\n",
        "data_scaler = df_final\n",
        "data_scaler = pd.DataFrame(data = scaler.fit_transform(data_scaler), columns = data_scaler.columns, index=data_scaler.index)\n",
        "\n",
        "#df_final-df_final.min()/(df_final.max()-df_final.min())"
      ],
      "metadata": {
        "id": "weTnJ52rOxsn"
      },
      "execution_count": null,
      "outputs": []
    },
    {
      "cell_type": "code",
      "source": [
        "data_scaler.head()"
      ],
      "metadata": {
        "id": "mVh7KADMPLIX",
        "colab": {
          "base_uri": "https://localhost:8080/",
          "height": 238
        },
        "outputId": "6af82778-bb03-408c-d7df-62fc50bf12ed"
      },
      "execution_count": null,
      "outputs": [
        {
          "output_type": "execute_result",
          "data": {
            "text/plain": [
              "      Forest area  fossil_fuel_consumption  renewables_consumption  \\\n",
              "Year                                                                 \n",
              "1990     1.000000                 0.000001                0.166537   \n",
              "1991     0.960430                 0.038498                0.173814   \n",
              "1992     0.920859                 0.153924                0.000001   \n",
              "1993     0.881289                 0.203365                0.181906   \n",
              "1994     0.841719                 0.246206                0.319580   \n",
              "\n",
              "        population  Temperature  total_ghg       gdp  \n",
              "Year                                                  \n",
              "1990  1.000000e-06     0.226118   0.000001  0.000001  \n",
              "1991  3.800282e-02     0.356702   0.034796  0.007546  \n",
              "1992  7.658482e-02     0.362200   0.106744  0.017249  \n",
              "1993  1.153409e-01     0.206186   0.185768  0.031501  \n",
              "1994  1.540969e-01     0.209623   0.226854  0.049122  "
            ],
            "text/html": [
              "\n",
              "  <div id=\"df-905d2586-245f-49c3-b969-2a7deab8ce4c\">\n",
              "    <div class=\"colab-df-container\">\n",
              "      <div>\n",
              "<style scoped>\n",
              "    .dataframe tbody tr th:only-of-type {\n",
              "        vertical-align: middle;\n",
              "    }\n",
              "\n",
              "    .dataframe tbody tr th {\n",
              "        vertical-align: top;\n",
              "    }\n",
              "\n",
              "    .dataframe thead th {\n",
              "        text-align: right;\n",
              "    }\n",
              "</style>\n",
              "<table border=\"1\" class=\"dataframe\">\n",
              "  <thead>\n",
              "    <tr style=\"text-align: right;\">\n",
              "      <th></th>\n",
              "      <th>Forest area</th>\n",
              "      <th>fossil_fuel_consumption</th>\n",
              "      <th>renewables_consumption</th>\n",
              "      <th>population</th>\n",
              "      <th>Temperature</th>\n",
              "      <th>total_ghg</th>\n",
              "      <th>gdp</th>\n",
              "    </tr>\n",
              "    <tr>\n",
              "      <th>Year</th>\n",
              "      <th></th>\n",
              "      <th></th>\n",
              "      <th></th>\n",
              "      <th></th>\n",
              "      <th></th>\n",
              "      <th></th>\n",
              "      <th></th>\n",
              "    </tr>\n",
              "  </thead>\n",
              "  <tbody>\n",
              "    <tr>\n",
              "      <th>1990</th>\n",
              "      <td>1.000000</td>\n",
              "      <td>0.000001</td>\n",
              "      <td>0.166537</td>\n",
              "      <td>1.000000e-06</td>\n",
              "      <td>0.226118</td>\n",
              "      <td>0.000001</td>\n",
              "      <td>0.000001</td>\n",
              "    </tr>\n",
              "    <tr>\n",
              "      <th>1991</th>\n",
              "      <td>0.960430</td>\n",
              "      <td>0.038498</td>\n",
              "      <td>0.173814</td>\n",
              "      <td>3.800282e-02</td>\n",
              "      <td>0.356702</td>\n",
              "      <td>0.034796</td>\n",
              "      <td>0.007546</td>\n",
              "    </tr>\n",
              "    <tr>\n",
              "      <th>1992</th>\n",
              "      <td>0.920859</td>\n",
              "      <td>0.153924</td>\n",
              "      <td>0.000001</td>\n",
              "      <td>7.658482e-02</td>\n",
              "      <td>0.362200</td>\n",
              "      <td>0.106744</td>\n",
              "      <td>0.017249</td>\n",
              "    </tr>\n",
              "    <tr>\n",
              "      <th>1993</th>\n",
              "      <td>0.881289</td>\n",
              "      <td>0.203365</td>\n",
              "      <td>0.181906</td>\n",
              "      <td>1.153409e-01</td>\n",
              "      <td>0.206186</td>\n",
              "      <td>0.185768</td>\n",
              "      <td>0.031501</td>\n",
              "    </tr>\n",
              "    <tr>\n",
              "      <th>1994</th>\n",
              "      <td>0.841719</td>\n",
              "      <td>0.246206</td>\n",
              "      <td>0.319580</td>\n",
              "      <td>1.540969e-01</td>\n",
              "      <td>0.209623</td>\n",
              "      <td>0.226854</td>\n",
              "      <td>0.049122</td>\n",
              "    </tr>\n",
              "  </tbody>\n",
              "</table>\n",
              "</div>\n",
              "      <button class=\"colab-df-convert\" onclick=\"convertToInteractive('df-905d2586-245f-49c3-b969-2a7deab8ce4c')\"\n",
              "              title=\"Convert this dataframe to an interactive table.\"\n",
              "              style=\"display:none;\">\n",
              "        \n",
              "  <svg xmlns=\"http://www.w3.org/2000/svg\" height=\"24px\"viewBox=\"0 0 24 24\"\n",
              "       width=\"24px\">\n",
              "    <path d=\"M0 0h24v24H0V0z\" fill=\"none\"/>\n",
              "    <path d=\"M18.56 5.44l.94 2.06.94-2.06 2.06-.94-2.06-.94-.94-2.06-.94 2.06-2.06.94zm-11 1L8.5 8.5l.94-2.06 2.06-.94-2.06-.94L8.5 2.5l-.94 2.06-2.06.94zm10 10l.94 2.06.94-2.06 2.06-.94-2.06-.94-.94-2.06-.94 2.06-2.06.94z\"/><path d=\"M17.41 7.96l-1.37-1.37c-.4-.4-.92-.59-1.43-.59-.52 0-1.04.2-1.43.59L10.3 9.45l-7.72 7.72c-.78.78-.78 2.05 0 2.83L4 21.41c.39.39.9.59 1.41.59.51 0 1.02-.2 1.41-.59l7.78-7.78 2.81-2.81c.8-.78.8-2.07 0-2.86zM5.41 20L4 18.59l7.72-7.72 1.47 1.35L5.41 20z\"/>\n",
              "  </svg>\n",
              "      </button>\n",
              "      \n",
              "  <style>\n",
              "    .colab-df-container {\n",
              "      display:flex;\n",
              "      flex-wrap:wrap;\n",
              "      gap: 12px;\n",
              "    }\n",
              "\n",
              "    .colab-df-convert {\n",
              "      background-color: #E8F0FE;\n",
              "      border: none;\n",
              "      border-radius: 50%;\n",
              "      cursor: pointer;\n",
              "      display: none;\n",
              "      fill: #1967D2;\n",
              "      height: 32px;\n",
              "      padding: 0 0 0 0;\n",
              "      width: 32px;\n",
              "    }\n",
              "\n",
              "    .colab-df-convert:hover {\n",
              "      background-color: #E2EBFA;\n",
              "      box-shadow: 0px 1px 2px rgba(60, 64, 67, 0.3), 0px 1px 3px 1px rgba(60, 64, 67, 0.15);\n",
              "      fill: #174EA6;\n",
              "    }\n",
              "\n",
              "    [theme=dark] .colab-df-convert {\n",
              "      background-color: #3B4455;\n",
              "      fill: #D2E3FC;\n",
              "    }\n",
              "\n",
              "    [theme=dark] .colab-df-convert:hover {\n",
              "      background-color: #434B5C;\n",
              "      box-shadow: 0px 1px 3px 1px rgba(0, 0, 0, 0.15);\n",
              "      filter: drop-shadow(0px 1px 2px rgba(0, 0, 0, 0.3));\n",
              "      fill: #FFFFFF;\n",
              "    }\n",
              "  </style>\n",
              "\n",
              "      <script>\n",
              "        const buttonEl =\n",
              "          document.querySelector('#df-905d2586-245f-49c3-b969-2a7deab8ce4c button.colab-df-convert');\n",
              "        buttonEl.style.display =\n",
              "          google.colab.kernel.accessAllowed ? 'block' : 'none';\n",
              "\n",
              "        async function convertToInteractive(key) {\n",
              "          const element = document.querySelector('#df-905d2586-245f-49c3-b969-2a7deab8ce4c');\n",
              "          const dataTable =\n",
              "            await google.colab.kernel.invokeFunction('convertToInteractive',\n",
              "                                                     [key], {});\n",
              "          if (!dataTable) return;\n",
              "\n",
              "          const docLinkHtml = 'Like what you see? Visit the ' +\n",
              "            '<a target=\"_blank\" href=https://colab.research.google.com/notebooks/data_table.ipynb>data table notebook</a>'\n",
              "            + ' to learn more about interactive tables.';\n",
              "          element.innerHTML = '';\n",
              "          dataTable['output_type'] = 'display_data';\n",
              "          await google.colab.output.renderOutput(dataTable, element);\n",
              "          const docLink = document.createElement('div');\n",
              "          docLink.innerHTML = docLinkHtml;\n",
              "          element.appendChild(docLink);\n",
              "        }\n",
              "      </script>\n",
              "    </div>\n",
              "  </div>\n",
              "  "
            ]
          },
          "metadata": {},
          "execution_count": 287
        }
      ]
    },
    {
      "cell_type": "code",
      "source": [
        "# Correlation between variables\n",
        "fig, ax = plt.subplots(figsize=(20,10))\n",
        "sns.heatmap(data_scaler.corr(), linewidths=.5, annot=True, ax=ax)"
      ],
      "metadata": {
        "id": "-xifknQhPyRi",
        "colab": {
          "base_uri": "https://localhost:8080/",
          "height": 505
        },
        "outputId": "58ca1c66-515d-4445-c6ad-f34d6ce385fa"
      },
      "execution_count": null,
      "outputs": [
        {
          "output_type": "execute_result",
          "data": {
            "text/plain": [
              "<matplotlib.axes._subplots.AxesSubplot at 0x7fa01b8dd210>"
            ]
          },
          "metadata": {},
          "execution_count": 288
        },
        {
          "output_type": "display_data",
          "data": {
            "text/plain": [
              "<Figure size 1440x720 with 2 Axes>"
            ],
            "image/png": "[encoded data removed]"
          },
          "metadata": {
            "needs_background": "light"
          }
        }
      ]
    },
    {
      "cell_type": "markdown",
      "source": [
        "### Departamental"
      ],
      "metadata": {
        "id": "RPS9ajKYdSUK"
      }
    },
    {
      "cell_type": "code",
      "source": [
        "temp_department=pd.read_csv(departament_temperature_CSV,encoding='unicode_escape', dtype = {'COD_DPTO': str})\n",
        "pib_department=pd.read_csv(departament_pib_CSV,encoding='unicode_escape', dtype = {'COD_DPTO': str})\n",
        "def_department=pd.read_csv(departament_def_CSV,encoding='unicode_escape', dtype = {'COD_DPTO': str})"
      ],
      "metadata": {
        "id": "lx_MDLwjdzdV"
      },
      "execution_count": null,
      "outputs": []
    },
    {
      "cell_type": "code",
      "source": [
        "#DATA CLEANING DE PIB\n",
        "pib_department=pib_department.dropna(axis='rows')\n",
        "pib_department=pib_department[pib_department['0']!='ARAUCA']\n",
        "pib_department=pib_department[pib_department['0']!='GUAVIARE']\n",
        "pib_department=pib_department[pib_department['0']!='AMAZONAS']\n",
        "pib_department=pib_department[pib_department['0']!='CASANARE']\n",
        "pib_department=pib_department[pib_department['0']!='GUAINIA']\n",
        "pib_department=pib_department[pib_department['0']!='VICHADA']\n",
        "pib_department=pib_department[pib_department['0']!='VAUPES']\n",
        "pib_department=pib_department[pib_department['0']!='PUTUMAYO']\n",
        "pib_department=pib_department[pib_department['0']!='ARCHIPIELAGO DE SAN ANDRES PROVIDENCIA Y SANTA CATALINA']\n",
        "#print(pib_department['0']!='SANTAFE DE BOGOTA D.C')"
      ],
      "metadata": {
        "id": "aPNzsLz8eU5o"
      },
      "execution_count": null,
      "outputs": []
    },
    {
      "cell_type": "code",
      "source": [
        "#DATA CLEANING DE DEFORESTACION\n",
        "for i in range(1990,2013):\n",
        "    l=str(i)\n",
        "    def_department[l]=def_department[l].str.replace(',','.').astype(float)\n",
        "\n",
        "LAT_CUN=temp_department[temp_department['DEPARTAMENTO']=='CUNDINAMARCA']['latitude']\n",
        "LON_CUN=temp_department[temp_department['DEPARTAMENTO']=='CUNDINAMARCA']['longitude']"
      ],
      "metadata": {
        "id": "lkW4H7C2eZ4r"
      },
      "execution_count": null,
      "outputs": []
    },
    {
      "cell_type": "code",
      "source": [
        "temp_department.columns\n",
        "df_temp_dep=temp_department[['Departamento', '1990', '1991', '1992', '1993', '1994',\n",
        "       '1995', '1996', '1997', '1998', '1999', '2000', '2001', '2002', '2003',\n",
        "       '2004', '2005', '2006', '2007', '2008', '2009', '2010', '2011', '2012',\n",
        "       '2013', '2014', '2015', '2016', '2017', '2018', '2019', '2020']]\n",
        "df_temp_dep=df_temp_dep.set_index('Departamento')\n",
        "df_temp_dep.index.names=['']\n",
        "df_temp_dep2=df_temp_dep.T"
      ],
      "metadata": {
        "id": "RLd4SD0xecTE"
      },
      "execution_count": null,
      "outputs": []
    },
    {
      "cell_type": "code",
      "source": [
        "def_department.columns\n",
        "def_dep=def_department[['DEPARTAMENTO', '1990', '1991', '1992', '1993', '1994', '1995', '1996', '1997', '1998', '1999', '2000', '2001', '2002', '2003', '2004',\n",
        "       '2005', '2006', '2007', '2008', '2009', '2010', '2011', '2012', '2013','2014', '2015', '2016', '2017', '2018', '2019', '2020']]\n",
        "def_dep=def_dep.set_index('DEPARTAMENTO')\n",
        "def_dep\n",
        "def_dep.index.names=['']\n",
        "def_dep2=def_dep.T"
      ],
      "metadata": {
        "id": "egIuYaFiegn5"
      },
      "execution_count": null,
      "outputs": []
    },
    {
      "cell_type": "code",
      "source": [
        "pib_department.columns\n",
        "df_pib_dep=pib_department[['DEPARTAMENTO', '1990', '1991', '1992', '1993', '1994',\n",
        "       '1995', '1996', '1997', '1998', '1999', '2000', '2001', '2002', '2003',\n",
        "       '2004', '2005', '2006', '2007', '2008', '2009', '2010', '2011', '2012',\n",
        "       '2013', '2014', '2015', '2016', '2017', '2018', '2019', '2020']]\n",
        "df_pib_dep=df_pib_dep.set_index('DEPARTAMENTO')\n",
        "df_pib_dep.index.names=['']\n",
        "df_pib_dep2=df_pib_dep.T"
      ],
      "metadata": {
        "id": "uYmduG6fekj4"
      },
      "execution_count": null,
      "outputs": []
    },
    {
      "cell_type": "code",
      "source": [
        "#TEMPERATURE and GDP for Antioquia\n",
        "\n",
        "#Create figure with secondary y-axis\n",
        "fig = make_subplots(specs=[[{\"secondary_y\": True}]])\n",
        "fig.add_trace(\n",
        "    go.Scatter(x=df_temp_dep2.index.values, y=df_temp_dep2['ANTIOQUIA'], name=\"Temperatura\",line_color='#FF0000'),\n",
        "    secondary_y=False,\n",
        ")\n",
        "fig.add_trace(\n",
        "    go.Scatter(x=df_pib_dep2.index.values, y=df_pib_dep2[\"ANTIOQUIA\"], name=\"PIB\", line_color= '#00ff00'),\n",
        "    secondary_y=True,\n",
        ")\n",
        "# Add figure title\n",
        "fig.update_layout(\n",
        "    title_text=\"Temperatura vs Otras variables\"\n",
        "    )\n",
        "\n",
        "# Set y-axes titles\n",
        "fig.update_yaxes(title_text=\"Temperatura (Grados Celsius)\", secondary_y=False)\n",
        "fig.update_yaxes(title_text=\"PIB (miles de millones)\", secondary_y=True)\n",
        "\n",
        "\n",
        "fig.update_traces(line_width=5)\n",
        "\n",
        "\n",
        "\n",
        "fig.show()"
      ],
      "metadata": {
        "colab": {
          "base_uri": "https://localhost:8080/",
          "height": 542
        },
        "id": "jxv-r4jqexn4",
        "outputId": "c3c9287e-b3d0-4af9-a320-abc1b1a49792"
      },
      "execution_count": null,
      "outputs": [
        {
          "output_type": "display_data",
          "data": {
            "text/html": [
              "<html>\n",
              "<head><meta charset=\"utf-8\" /></head>\n",
              "<body>\n",
              "    <div>            <script src=\"https://cdnjs.cloudflare.com/ajax/libs/mathjax/2.7.5/MathJax.js?config=TeX-AMS-MML_SVG\"></script><script type=\"text/javascript\">if (window.MathJax) {MathJax.Hub.Config({SVG: {font: \"STIX-Web\"}});}</script>                <script type=\"text/javascript\">window.PlotlyConfig = {MathJaxConfig: 'local'};</script>\n",
              "        <script src=\"https://cdn.plot.ly/plotly-2.8.3.min.js\"></script>                <div id=\"af5fbe04-449e-49ce-a028-dfed48c46d69\" class=\"plotly-graph-div\" style=\"height:525px; width:100%;\"></div>            <script type=\"text/javascript\">                                    window.PLOTLYENV=window.PLOTLYENV || {};                                    if (document.getElementById(\"af5fbe04-449e-49ce-a028-dfed48c46d69\")) {                    Plotly.newPlot(                        \"af5fbe04-449e-49ce-a028-dfed48c46d69\",                        [{\"line\":{\"color\":\"#FF0000\",\"width\":5},\"name\":\"Temperatura\",\"x\":[\"1990\",\"1991\",\"1992\",\"1993\",\"1994\",\"1995\",\"1996\",\"1997\",\"1998\",\"1999\",\"2000\",\"2001\",\"2002\",\"2003\",\"2004\",\"2005\",\"2006\",\"2007\",\"2008\",\"2009\",\"2010\",\"2011\",\"2012\",\"2013\",\"2014\",\"2015\",\"2016\",\"2017\",\"2018\",\"2019\",\"2020\"],\"y\":[21.92,22.11,22.02,21.96,21.86,22.05,21.57,22.48,22.66,21.59,21.84,22.32,22.78,22.68,22.61,22.91,22.59,22.57,22.16,22.97,23.12,22.69,23.04,23.17,23.36,23.82,23.77,23.41,23.27,23.7,24.1],\"type\":\"scatter\",\"xaxis\":\"x\",\"yaxis\":\"y\"},{\"line\":{\"color\":\"#00ff00\",\"width\":5},\"name\":\"PIB\",\"x\":[\"1990\",\"1991\",\"1992\",\"1993\",\"1994\",\"1995\",\"1996\",\"1997\",\"1998\",\"1999\",\"2000\",\"2001\",\"2002\",\"2003\",\"2004\",\"2005\",\"2006\",\"2007\",\"2008\",\"2009\",\"2010\",\"2011\",\"2012\",\"2013\",\"2014\",\"2015\",\"2016\",\"2017\",\"2018\",\"2019\",\"2020\"],\"y\":[4513,5700,7170,9485,12214,15227,18100,21935,24722,26639,30615,33434,36336,40637,46292,51007,57285,64514,68425,71309,75982,85578,92318,98573,106819,115446,126022,132369,141680,153558,148387],\"type\":\"scatter\",\"xaxis\":\"x\",\"yaxis\":\"y2\"}],                        {\"template\":{\"data\":{\"bar\":[{\"error_x\":{\"color\":\"#2a3f5f\"},\"error_y\":{\"color\":\"#2a3f5f\"},\"marker\":{\"line\":{\"color\":\"#E5ECF6\",\"width\":0.5},\"pattern\":{\"fillmode\":\"overlay\",\"size\":10,\"solidity\":0.2}},\"type\":\"bar\"}],\"barpolar\":[{\"marker\":{\"line\":{\"color\":\"#E5ECF6\",\"width\":0.5},\"pattern\":{\"fillmode\":\"overlay\",\"size\":10,\"solidity\":0.2}},\"type\":\"barpolar\"}],\"carpet\":[{\"aaxis\":{\"endlinecolor\":\"#2a3f5f\",\"gridcolor\":\"white\",\"linecolor\":\"white\",\"minorgridcolor\":\"white\",\"startlinecolor\":\"#2a3f5f\"},\"baxis\":{\"endlinecolor\":\"#2a3f5f\",\"gridcolor\":\"white\",\"linecolor\":\"white\",\"minorgridcolor\":\"white\",\"startlinecolor\":\"#2a3f5f\"},\"type\":\"carpet\"}],\"choropleth\":[{\"colorbar\":{\"outlinewidth\":0,\"ticks\":\"\"},\"type\":\"choropleth\"}],\"contour\":[{\"colorbar\":{\"outlinewidth\":0,\"ticks\":\"\"},\"colorscale\":[[0.0,\"#0d0887\"],[0.1111111111111111,\"#46039f\"],[0.2222222222222222,\"#7201a8\"],[0.3333333333333333,\"#9c179e\"],[0.4444444444444444,\"#bd3786\"],[0.5555555555555556,\"#d8576b\"],[0.6666666666666666,\"#ed7953\"],[0.7777777777777778,\"#fb9f3a\"],[0.8888888888888888,\"#fdca26\"],[1.0,\"#f0f921\"]],\"type\":\"contour\"}],\"contourcarpet\":[{\"colorbar\":{\"outlinewidth\":0,\"ticks\":\"\"},\"type\":\"contourcarpet\"}],\"heatmap\":[{\"colorbar\":{\"outlinewidth\":0,\"ticks\":\"\"},\"colorscale\":[[0.0,\"#0d0887\"],[0.1111111111111111,\"#46039f\"],[0.2222222222222222,\"#7201a8\"],[0.3333333333333333,\"#9c179e\"],[0.4444444444444444,\"#bd3786\"],[0.5555555555555556,\"#d8576b\"],[0.6666666666666666,\"#ed7953\"],[0.7777777777777778,\"#fb9f3a\"],[0.8888888888888888,\"#fdca26\"],[1.0,\"#f0f921\"]],\"type\":\"heatmap\"}],\"heatmapgl\":[{\"colorbar\":{\"outlinewidth\":0,\"ticks\":\"\"},\"colorscale\":[[0.0,\"#0d0887\"],[0.1111111111111111,\"#46039f\"],[0.2222222222222222,\"#7201a8\"],[0.3333333333333333,\"#9c179e\"],[0.4444444444444444,\"#bd3786\"],[0.5555555555555556,\"#d8576b\"],[0.6666666666666666,\"#ed7953\"],[0.7777777777777778,\"#fb9f3a\"],[0.8888888888888888,\"#fdca26\"],[1.0,\"#f0f921\"]],\"type\":\"heatmapgl\"}],\"histogram\":[{\"marker\":{\"pattern\":{\"fillmode\":\"overlay\",\"size\":10,\"solidity\":0.2}},\"type\":\"histogram\"}],\"histogram2d\":[{\"colorbar\":{\"outlinewidth\":0,\"ticks\":\"\"},\"colorscale\":[[0.0,\"#0d0887\"],[0.1111111111111111,\"#46039f\"],[0.2222222222222222,\"#7201a8\"],[0.3333333333333333,\"#9c179e\"],[0.4444444444444444,\"#bd3786\"],[0.5555555555555556,\"#d8576b\"],[0.6666666666666666,\"#ed7953\"],[0.7777777777777778,\"#fb9f3a\"],[0.8888888888888888,\"#fdca26\"],[1.0,\"#f0f921\"]],\"type\":\"histogram2d\"}],\"histogram2dcontour\":[{\"colorbar\":{\"outlinewidth\":0,\"ticks\":\"\"},\"colorscale\":[[0.0,\"#0d0887\"],[0.1111111111111111,\"#46039f\"],[0.2222222222222222,\"#7201a8\"],[0.3333333333333333,\"#9c179e\"],[0.4444444444444444,\"#bd3786\"],[0.5555555555555556,\"#d8576b\"],[0.6666666666666666,\"#ed7953\"],[0.7777777777777778,\"#fb9f3a\"],[0.8888888888888888,\"#fdca26\"],[1.0,\"#f0f921\"]],\"type\":\"histogram2dcontour\"}],\"mesh3d\":[{\"colorbar\":{\"outlinewidth\":0,\"ticks\":\"\"},\"type\":\"mesh3d\"}],\"parcoords\":[{\"line\":{\"colorbar\":{\"outlinewidth\":0,\"ticks\":\"\"}},\"type\":\"parcoords\"}],\"pie\":[{\"automargin\":true,\"type\":\"pie\"}],\"scatter\":[{\"marker\":{\"colorbar\":{\"outlinewidth\":0,\"ticks\":\"\"}},\"type\":\"scatter\"}],\"scatter3d\":[{\"line\":{\"colorbar\":{\"outlinewidth\":0,\"ticks\":\"\"}},\"marker\":{\"colorbar\":{\"outlinewidth\":0,\"ticks\":\"\"}},\"type\":\"scatter3d\"}],\"scattercarpet\":[{\"marker\":{\"colorbar\":{\"outlinewidth\":0,\"ticks\":\"\"}},\"type\":\"scattercarpet\"}],\"scattergeo\":[{\"marker\":{\"colorbar\":{\"outlinewidth\":0,\"ticks\":\"\"}},\"type\":\"scattergeo\"}],\"scattergl\":[{\"marker\":{\"colorbar\":{\"outlinewidth\":0,\"ticks\":\"\"}},\"type\":\"scattergl\"}],\"scattermapbox\":[{\"marker\":{\"colorbar\":{\"outlinewidth\":0,\"ticks\":\"\"}},\"type\":\"scattermapbox\"}],\"scatterpolar\":[{\"marker\":{\"colorbar\":{\"outlinewidth\":0,\"ticks\":\"\"}},\"type\":\"scatterpolar\"}],\"scatterpolargl\":[{\"marker\":{\"colorbar\":{\"outlinewidth\":0,\"ticks\":\"\"}},\"type\":\"scatterpolargl\"}],\"scatterternary\":[{\"marker\":{\"colorbar\":{\"outlinewidth\":0,\"ticks\":\"\"}},\"type\":\"scatterternary\"}],\"surface\":[{\"colorbar\":{\"outlinewidth\":0,\"ticks\":\"\"},\"colorscale\":[[0.0,\"#0d0887\"],[0.1111111111111111,\"#46039f\"],[0.2222222222222222,\"#7201a8\"],[0.3333333333333333,\"#9c179e\"],[0.4444444444444444,\"#bd3786\"],[0.5555555555555556,\"#d8576b\"],[0.6666666666666666,\"#ed7953\"],[0.7777777777777778,\"#fb9f3a\"],[0.8888888888888888,\"#fdca26\"],[1.0,\"#f0f921\"]],\"type\":\"surface\"}],\"table\":[{\"cells\":{\"fill\":{\"color\":\"#EBF0F8\"},\"line\":{\"color\":\"white\"}},\"header\":{\"fill\":{\"color\":\"#C8D4E3\"},\"line\":{\"color\":\"white\"}},\"type\":\"table\"}]},\"layout\":{\"annotationdefaults\":{\"arrowcolor\":\"#2a3f5f\",\"arrowhead\":0,\"arrowwidth\":1},\"autotypenumbers\":\"strict\",\"coloraxis\":{\"colorbar\":{\"outlinewidth\":0,\"ticks\":\"\"}},\"colorscale\":{\"diverging\":[[0,\"#8e0152\"],[0.1,\"#c51b7d\"],[0.2,\"#de77ae\"],[0.3,\"#f1b6da\"],[0.4,\"#fde0ef\"],[0.5,\"#f7f7f7\"],[0.6,\"#e6f5d0\"],[0.7,\"#b8e186\"],[0.8,\"#7fbc41\"],[0.9,\"#4d9221\"],[1,\"#276419\"]],\"sequential\":[[0.0,\"#0d0887\"],[0.1111111111111111,\"#46039f\"],[0.2222222222222222,\"#7201a8\"],[0.3333333333333333,\"#9c179e\"],[0.4444444444444444,\"#bd3786\"],[0.5555555555555556,\"#d8576b\"],[0.6666666666666666,\"#ed7953\"],[0.7777777777777778,\"#fb9f3a\"],[0.8888888888888888,\"#fdca26\"],[1.0,\"#f0f921\"]],\"sequentialminus\":[[0.0,\"#0d0887\"],[0.1111111111111111,\"#46039f\"],[0.2222222222222222,\"#7201a8\"],[0.3333333333333333,\"#9c179e\"],[0.4444444444444444,\"#bd3786\"],[0.5555555555555556,\"#d8576b\"],[0.6666666666666666,\"#ed7953\"],[0.7777777777777778,\"#fb9f3a\"],[0.8888888888888888,\"#fdca26\"],[1.0,\"#f0f921\"]]},\"colorway\":[\"#636efa\",\"#EF553B\",\"#00cc96\",\"#ab63fa\",\"#FFA15A\",\"#19d3f3\",\"#FF6692\",\"#B6E880\",\"#FF97FF\",\"#FECB52\"],\"font\":{\"color\":\"#2a3f5f\"},\"geo\":{\"bgcolor\":\"white\",\"lakecolor\":\"white\",\"landcolor\":\"#E5ECF6\",\"showlakes\":true,\"showland\":true,\"subunitcolor\":\"white\"},\"hoverlabel\":{\"align\":\"left\"},\"hovermode\":\"closest\",\"mapbox\":{\"style\":\"light\"},\"paper_bgcolor\":\"white\",\"plot_bgcolor\":\"#E5ECF6\",\"polar\":{\"angularaxis\":{\"gridcolor\":\"white\",\"linecolor\":\"white\",\"ticks\":\"\"},\"bgcolor\":\"#E5ECF6\",\"radialaxis\":{\"gridcolor\":\"white\",\"linecolor\":\"white\",\"ticks\":\"\"}},\"scene\":{\"xaxis\":{\"backgroundcolor\":\"#E5ECF6\",\"gridcolor\":\"white\",\"gridwidth\":2,\"linecolor\":\"white\",\"showbackground\":true,\"ticks\":\"\",\"zerolinecolor\":\"white\"},\"yaxis\":{\"backgroundcolor\":\"#E5ECF6\",\"gridcolor\":\"white\",\"gridwidth\":2,\"linecolor\":\"white\",\"showbackground\":true,\"ticks\":\"\",\"zerolinecolor\":\"white\"},\"zaxis\":{\"backgroundcolor\":\"#E5ECF6\",\"gridcolor\":\"white\",\"gridwidth\":2,\"linecolor\":\"white\",\"showbackground\":true,\"ticks\":\"\",\"zerolinecolor\":\"white\"}},\"shapedefaults\":{\"line\":{\"color\":\"#2a3f5f\"}},\"ternary\":{\"aaxis\":{\"gridcolor\":\"white\",\"linecolor\":\"white\",\"ticks\":\"\"},\"baxis\":{\"gridcolor\":\"white\",\"linecolor\":\"white\",\"ticks\":\"\"},\"bgcolor\":\"#E5ECF6\",\"caxis\":{\"gridcolor\":\"white\",\"linecolor\":\"white\",\"ticks\":\"\"}},\"title\":{\"x\":0.05},\"xaxis\":{\"automargin\":true,\"gridcolor\":\"white\",\"linecolor\":\"white\",\"ticks\":\"\",\"title\":{\"standoff\":15},\"zerolinecolor\":\"white\",\"zerolinewidth\":2},\"yaxis\":{\"automargin\":true,\"gridcolor\":\"white\",\"linecolor\":\"white\",\"ticks\":\"\",\"title\":{\"standoff\":15},\"zerolinecolor\":\"white\",\"zerolinewidth\":2}}},\"xaxis\":{\"anchor\":\"y\",\"domain\":[0.0,0.94]},\"yaxis\":{\"anchor\":\"x\",\"domain\":[0.0,1.0],\"title\":{\"text\":\"Temperatura (Grados Celsius)\"}},\"yaxis2\":{\"anchor\":\"x\",\"overlaying\":\"y\",\"side\":\"right\",\"title\":{\"text\":\"PIB (miles de millones)\"}},\"title\":{\"text\":\"Temperatura vs Otras variables\"}},                        {\"responsive\": true}                    ).then(function(){\n",
              "                            \n",
              "var gd = document.getElementById('af5fbe04-449e-49ce-a028-dfed48c46d69');\n",
              "var x = new MutationObserver(function (mutations, observer) {{\n",
              "        var display = window.getComputedStyle(gd).display;\n",
              "        if (!display || display === 'none') {{\n",
              "            console.log([gd, 'removed!']);\n",
              "            Plotly.purge(gd);\n",
              "            observer.disconnect();\n",
              "        }}\n",
              "}});\n",
              "\n",
              "// Listen for the removal of the full notebook cells\n",
              "var notebookContainer = gd.closest('#notebook-container');\n",
              "if (notebookContainer) {{\n",
              "    x.observe(notebookContainer, {childList: true});\n",
              "}}\n",
              "\n",
              "// Listen for the clearing of the current output cell\n",
              "var outputEl = gd.closest('.output');\n",
              "if (outputEl) {{\n",
              "    x.observe(outputEl, {childList: true});\n",
              "}}\n",
              "\n",
              "                        })                };                            </script>        </div>\n",
              "</body>\n",
              "</html>"
            ]
          },
          "metadata": {}
        }
      ]
    },
    {
      "cell_type": "code",
      "source": [
        "#TEMPERATURE and Deforestation for Antioquia\n",
        "\n",
        "#Create figure with secondary y-axis\n",
        "fig = make_subplots(specs=[[{\"secondary_y\": True}]])\n",
        "fig.add_trace(\n",
        "    go.Scatter(x=df_temp_dep2.index.values, y=df_temp_dep2['ANTIOQUIA'], name=\"Temperatura\",line_color='#FF0000'),\n",
        "    secondary_y=False,\n",
        ")\n",
        "fig.add_trace(\n",
        "    go.Scatter(x=def_dep2.index.values, y=def_dep2[\"ANTIOQUIA\"], name=\"Deforestación\", line_color= '#00ff00'),\n",
        "    secondary_y=True,\n",
        ")\n",
        "# Add figure title\n",
        "fig.update_layout(\n",
        "    title_text=\"Temperatura vs Otras variables\"\n",
        "    )\n",
        "\n",
        "# Set y-axes titles\n",
        "fig.update_yaxes(title_text=\"Temperatura (Grados Celsius)\", secondary_y=False)\n",
        "fig.update_yaxes(title_text=\"Hectáreas\", secondary_y=True)\n",
        "\n",
        "fig.update_traces(line_width=5)\n",
        "fig.update_layout(template=\"plotly_dark\")\n",
        "\n",
        "# Set y-axes titles\n",
        "fig.update_yaxes(title_text=\"Temperatura (Grados Celsius)\", secondary_y=False)\n",
        "fig.update_yaxes(title_text=\"Hectáreas (ha)\", secondary_y=True)\n",
        "\n",
        "fig.update_traces(line_width=5)\n",
        "\n",
        "\n",
        "\n",
        "fig.show()"
      ],
      "metadata": {
        "colab": {
          "base_uri": "https://localhost:8080/",
          "height": 542
        },
        "id": "NpIaostTfFbn",
        "outputId": "276793e5-0a9c-4913-d5aa-92a88f70ae88"
      },
      "execution_count": null,
      "outputs": [
        {
          "output_type": "display_data",
          "data": {
            "text/html": [
              "<html>\n",
              "<head><meta charset=\"utf-8\" /></head>\n",
              "<body>\n",
              "    <div>            <script src=\"https://cdnjs.cloudflare.com/ajax/libs/mathjax/2.7.5/MathJax.js?config=TeX-AMS-MML_SVG\"></script><script type=\"text/javascript\">if (window.MathJax) {MathJax.Hub.Config({SVG: {font: \"STIX-Web\"}});}</script>                <script type=\"text/javascript\">window.PlotlyConfig = {MathJaxConfig: 'local'};</script>\n",
              "        <script src=\"https://cdn.plot.ly/plotly-2.8.3.min.js\"></script>                <div id=\"d0d9f68f-90d1-4b83-bce4-c07f6099fcc5\" class=\"plotly-graph-div\" style=\"height:525px; width:100%;\"></div>            <script type=\"text/javascript\">                                    window.PLOTLYENV=window.PLOTLYENV || {};                                    if (document.getElementById(\"d0d9f68f-90d1-4b83-bce4-c07f6099fcc5\")) {                    Plotly.newPlot(                        \"d0d9f68f-90d1-4b83-bce4-c07f6099fcc5\",                        [{\"line\":{\"color\":\"#FF0000\",\"width\":5},\"name\":\"Temperatura\",\"x\":[\"1990\",\"1991\",\"1992\",\"1993\",\"1994\",\"1995\",\"1996\",\"1997\",\"1998\",\"1999\",\"2000\",\"2001\",\"2002\",\"2003\",\"2004\",\"2005\",\"2006\",\"2007\",\"2008\",\"2009\",\"2010\",\"2011\",\"2012\",\"2013\",\"2014\",\"2015\",\"2016\",\"2017\",\"2018\",\"2019\",\"2020\"],\"y\":[21.92,22.11,22.02,21.96,21.86,22.05,21.57,22.48,22.66,21.59,21.84,22.32,22.78,22.68,22.61,22.91,22.59,22.57,22.16,22.97,23.12,22.69,23.04,23.17,23.36,23.82,23.77,23.41,23.27,23.7,24.1],\"type\":\"scatter\",\"xaxis\":\"x\",\"yaxis\":\"y\"},{\"line\":{\"color\":\"#00ff00\",\"width\":5},\"name\":\"Deforestaci\\u00f3n\",\"x\":[\"1990\",\"1991\",\"1992\",\"1993\",\"1994\",\"1995\",\"1996\",\"1997\",\"1998\",\"1999\",\"2000\",\"2001\",\"2002\",\"2003\",\"2004\",\"2005\",\"2006\",\"2007\",\"2008\",\"2009\",\"2010\",\"2011\",\"2012\",\"2013\",\"2014\",\"2015\",\"2016\",\"2017\",\"2018\",\"2019\",\"2020\"],\"y\":[14629.6,1462.96,1462.96,1462.96,1462.96,1462.96,1462.96,1462.96,1462.96,1462.96,1462.96,15970.8,15970.8,15970.8,15970.8,15970.8,32157.0,32157.0,32157.0,32157.0,32157.0,8773.0,8773.0,13736.0,21032.0,15888.0,20494.0,20592.0,12820.0,11601.0,12645.0],\"type\":\"scatter\",\"xaxis\":\"x\",\"yaxis\":\"y2\"}],                        {\"template\":{\"data\":{\"barpolar\":[{\"marker\":{\"line\":{\"color\":\"rgb(17,17,17)\",\"width\":0.5},\"pattern\":{\"fillmode\":\"overlay\",\"size\":10,\"solidity\":0.2}},\"type\":\"barpolar\"}],\"bar\":[{\"error_x\":{\"color\":\"#f2f5fa\"},\"error_y\":{\"color\":\"#f2f5fa\"},\"marker\":{\"line\":{\"color\":\"rgb(17,17,17)\",\"width\":0.5},\"pattern\":{\"fillmode\":\"overlay\",\"size\":10,\"solidity\":0.2}},\"type\":\"bar\"}],\"carpet\":[{\"aaxis\":{\"endlinecolor\":\"#A2B1C6\",\"gridcolor\":\"#506784\",\"linecolor\":\"#506784\",\"minorgridcolor\":\"#506784\",\"startlinecolor\":\"#A2B1C6\"},\"baxis\":{\"endlinecolor\":\"#A2B1C6\",\"gridcolor\":\"#506784\",\"linecolor\":\"#506784\",\"minorgridcolor\":\"#506784\",\"startlinecolor\":\"#A2B1C6\"},\"type\":\"carpet\"}],\"choropleth\":[{\"colorbar\":{\"outlinewidth\":0,\"ticks\":\"\"},\"type\":\"choropleth\"}],\"contourcarpet\":[{\"colorbar\":{\"outlinewidth\":0,\"ticks\":\"\"},\"type\":\"contourcarpet\"}],\"contour\":[{\"colorbar\":{\"outlinewidth\":0,\"ticks\":\"\"},\"colorscale\":[[0.0,\"#0d0887\"],[0.1111111111111111,\"#46039f\"],[0.2222222222222222,\"#7201a8\"],[0.3333333333333333,\"#9c179e\"],[0.4444444444444444,\"#bd3786\"],[0.5555555555555556,\"#d8576b\"],[0.6666666666666666,\"#ed7953\"],[0.7777777777777778,\"#fb9f3a\"],[0.8888888888888888,\"#fdca26\"],[1.0,\"#f0f921\"]],\"type\":\"contour\"}],\"heatmapgl\":[{\"colorbar\":{\"outlinewidth\":0,\"ticks\":\"\"},\"colorscale\":[[0.0,\"#0d0887\"],[0.1111111111111111,\"#46039f\"],[0.2222222222222222,\"#7201a8\"],[0.3333333333333333,\"#9c179e\"],[0.4444444444444444,\"#bd3786\"],[0.5555555555555556,\"#d8576b\"],[0.6666666666666666,\"#ed7953\"],[0.7777777777777778,\"#fb9f3a\"],[0.8888888888888888,\"#fdca26\"],[1.0,\"#f0f921\"]],\"type\":\"heatmapgl\"}],\"heatmap\":[{\"colorbar\":{\"outlinewidth\":0,\"ticks\":\"\"},\"colorscale\":[[0.0,\"#0d0887\"],[0.1111111111111111,\"#46039f\"],[0.2222222222222222,\"#7201a8\"],[0.3333333333333333,\"#9c179e\"],[0.4444444444444444,\"#bd3786\"],[0.5555555555555556,\"#d8576b\"],[0.6666666666666666,\"#ed7953\"],[0.7777777777777778,\"#fb9f3a\"],[0.8888888888888888,\"#fdca26\"],[1.0,\"#f0f921\"]],\"type\":\"heatmap\"}],\"histogram2dcontour\":[{\"colorbar\":{\"outlinewidth\":0,\"ticks\":\"\"},\"colorscale\":[[0.0,\"#0d0887\"],[0.1111111111111111,\"#46039f\"],[0.2222222222222222,\"#7201a8\"],[0.3333333333333333,\"#9c179e\"],[0.4444444444444444,\"#bd3786\"],[0.5555555555555556,\"#d8576b\"],[0.6666666666666666,\"#ed7953\"],[0.7777777777777778,\"#fb9f3a\"],[0.8888888888888888,\"#fdca26\"],[1.0,\"#f0f921\"]],\"type\":\"histogram2dcontour\"}],\"histogram2d\":[{\"colorbar\":{\"outlinewidth\":0,\"ticks\":\"\"},\"colorscale\":[[0.0,\"#0d0887\"],[0.1111111111111111,\"#46039f\"],[0.2222222222222222,\"#7201a8\"],[0.3333333333333333,\"#9c179e\"],[0.4444444444444444,\"#bd3786\"],[0.5555555555555556,\"#d8576b\"],[0.6666666666666666,\"#ed7953\"],[0.7777777777777778,\"#fb9f3a\"],[0.8888888888888888,\"#fdca26\"],[1.0,\"#f0f921\"]],\"type\":\"histogram2d\"}],\"histogram\":[{\"marker\":{\"pattern\":{\"fillmode\":\"overlay\",\"size\":10,\"solidity\":0.2}},\"type\":\"histogram\"}],\"mesh3d\":[{\"colorbar\":{\"outlinewidth\":0,\"ticks\":\"\"},\"type\":\"mesh3d\"}],\"parcoords\":[{\"line\":{\"colorbar\":{\"outlinewidth\":0,\"ticks\":\"\"}},\"type\":\"parcoords\"}],\"pie\":[{\"automargin\":true,\"type\":\"pie\"}],\"scatter3d\":[{\"line\":{\"colorbar\":{\"outlinewidth\":0,\"ticks\":\"\"}},\"marker\":{\"colorbar\":{\"outlinewidth\":0,\"ticks\":\"\"}},\"type\":\"scatter3d\"}],\"scattercarpet\":[{\"marker\":{\"colorbar\":{\"outlinewidth\":0,\"ticks\":\"\"}},\"type\":\"scattercarpet\"}],\"scattergeo\":[{\"marker\":{\"colorbar\":{\"outlinewidth\":0,\"ticks\":\"\"}},\"type\":\"scattergeo\"}],\"scattergl\":[{\"marker\":{\"line\":{\"color\":\"#283442\"}},\"type\":\"scattergl\"}],\"scattermapbox\":[{\"marker\":{\"colorbar\":{\"outlinewidth\":0,\"ticks\":\"\"}},\"type\":\"scattermapbox\"}],\"scatterpolargl\":[{\"marker\":{\"colorbar\":{\"outlinewidth\":0,\"ticks\":\"\"}},\"type\":\"scatterpolargl\"}],\"scatterpolar\":[{\"marker\":{\"colorbar\":{\"outlinewidth\":0,\"ticks\":\"\"}},\"type\":\"scatterpolar\"}],\"scatter\":[{\"marker\":{\"line\":{\"color\":\"#283442\"}},\"type\":\"scatter\"}],\"scatterternary\":[{\"marker\":{\"colorbar\":{\"outlinewidth\":0,\"ticks\":\"\"}},\"type\":\"scatterternary\"}],\"surface\":[{\"colorbar\":{\"outlinewidth\":0,\"ticks\":\"\"},\"colorscale\":[[0.0,\"#0d0887\"],[0.1111111111111111,\"#46039f\"],[0.2222222222222222,\"#7201a8\"],[0.3333333333333333,\"#9c179e\"],[0.4444444444444444,\"#bd3786\"],[0.5555555555555556,\"#d8576b\"],[0.6666666666666666,\"#ed7953\"],[0.7777777777777778,\"#fb9f3a\"],[0.8888888888888888,\"#fdca26\"],[1.0,\"#f0f921\"]],\"type\":\"surface\"}],\"table\":[{\"cells\":{\"fill\":{\"color\":\"#506784\"},\"line\":{\"color\":\"rgb(17,17,17)\"}},\"header\":{\"fill\":{\"color\":\"#2a3f5f\"},\"line\":{\"color\":\"rgb(17,17,17)\"}},\"type\":\"table\"}]},\"layout\":{\"annotationdefaults\":{\"arrowcolor\":\"#f2f5fa\",\"arrowhead\":0,\"arrowwidth\":1},\"autotypenumbers\":\"strict\",\"coloraxis\":{\"colorbar\":{\"outlinewidth\":0,\"ticks\":\"\"}},\"colorscale\":{\"diverging\":[[0,\"#8e0152\"],[0.1,\"#c51b7d\"],[0.2,\"#de77ae\"],[0.3,\"#f1b6da\"],[0.4,\"#fde0ef\"],[0.5,\"#f7f7f7\"],[0.6,\"#e6f5d0\"],[0.7,\"#b8e186\"],[0.8,\"#7fbc41\"],[0.9,\"#4d9221\"],[1,\"#276419\"]],\"sequential\":[[0.0,\"#0d0887\"],[0.1111111111111111,\"#46039f\"],[0.2222222222222222,\"#7201a8\"],[0.3333333333333333,\"#9c179e\"],[0.4444444444444444,\"#bd3786\"],[0.5555555555555556,\"#d8576b\"],[0.6666666666666666,\"#ed7953\"],[0.7777777777777778,\"#fb9f3a\"],[0.8888888888888888,\"#fdca26\"],[1.0,\"#f0f921\"]],\"sequentialminus\":[[0.0,\"#0d0887\"],[0.1111111111111111,\"#46039f\"],[0.2222222222222222,\"#7201a8\"],[0.3333333333333333,\"#9c179e\"],[0.4444444444444444,\"#bd3786\"],[0.5555555555555556,\"#d8576b\"],[0.6666666666666666,\"#ed7953\"],[0.7777777777777778,\"#fb9f3a\"],[0.8888888888888888,\"#fdca26\"],[1.0,\"#f0f921\"]]},\"colorway\":[\"#636efa\",\"#EF553B\",\"#00cc96\",\"#ab63fa\",\"#FFA15A\",\"#19d3f3\",\"#FF6692\",\"#B6E880\",\"#FF97FF\",\"#FECB52\"],\"font\":{\"color\":\"#f2f5fa\"},\"geo\":{\"bgcolor\":\"rgb(17,17,17)\",\"lakecolor\":\"rgb(17,17,17)\",\"landcolor\":\"rgb(17,17,17)\",\"showlakes\":true,\"showland\":true,\"subunitcolor\":\"#506784\"},\"hoverlabel\":{\"align\":\"left\"},\"hovermode\":\"closest\",\"mapbox\":{\"style\":\"dark\"},\"paper_bgcolor\":\"rgb(17,17,17)\",\"plot_bgcolor\":\"rgb(17,17,17)\",\"polar\":{\"angularaxis\":{\"gridcolor\":\"#506784\",\"linecolor\":\"#506784\",\"ticks\":\"\"},\"bgcolor\":\"rgb(17,17,17)\",\"radialaxis\":{\"gridcolor\":\"#506784\",\"linecolor\":\"#506784\",\"ticks\":\"\"}},\"scene\":{\"xaxis\":{\"backgroundcolor\":\"rgb(17,17,17)\",\"gridcolor\":\"#506784\",\"gridwidth\":2,\"linecolor\":\"#506784\",\"showbackground\":true,\"ticks\":\"\",\"zerolinecolor\":\"#C8D4E3\"},\"yaxis\":{\"backgroundcolor\":\"rgb(17,17,17)\",\"gridcolor\":\"#506784\",\"gridwidth\":2,\"linecolor\":\"#506784\",\"showbackground\":true,\"ticks\":\"\",\"zerolinecolor\":\"#C8D4E3\"},\"zaxis\":{\"backgroundcolor\":\"rgb(17,17,17)\",\"gridcolor\":\"#506784\",\"gridwidth\":2,\"linecolor\":\"#506784\",\"showbackground\":true,\"ticks\":\"\",\"zerolinecolor\":\"#C8D4E3\"}},\"shapedefaults\":{\"line\":{\"color\":\"#f2f5fa\"}},\"sliderdefaults\":{\"bgcolor\":\"#C8D4E3\",\"bordercolor\":\"rgb(17,17,17)\",\"borderwidth\":1,\"tickwidth\":0},\"ternary\":{\"aaxis\":{\"gridcolor\":\"#506784\",\"linecolor\":\"#506784\",\"ticks\":\"\"},\"baxis\":{\"gridcolor\":\"#506784\",\"linecolor\":\"#506784\",\"ticks\":\"\"},\"bgcolor\":\"rgb(17,17,17)\",\"caxis\":{\"gridcolor\":\"#506784\",\"linecolor\":\"#506784\",\"ticks\":\"\"}},\"title\":{\"x\":0.05},\"updatemenudefaults\":{\"bgcolor\":\"#506784\",\"borderwidth\":0},\"xaxis\":{\"automargin\":true,\"gridcolor\":\"#283442\",\"linecolor\":\"#506784\",\"ticks\":\"\",\"title\":{\"standoff\":15},\"zerolinecolor\":\"#283442\",\"zerolinewidth\":2},\"yaxis\":{\"automargin\":true,\"gridcolor\":\"#283442\",\"linecolor\":\"#506784\",\"ticks\":\"\",\"title\":{\"standoff\":15},\"zerolinecolor\":\"#283442\",\"zerolinewidth\":2}}},\"xaxis\":{\"anchor\":\"y\",\"domain\":[0.0,0.94]},\"yaxis\":{\"anchor\":\"x\",\"domain\":[0.0,1.0],\"title\":{\"text\":\"Temperatura (Grados Celsius)\"}},\"yaxis2\":{\"anchor\":\"x\",\"overlaying\":\"y\",\"side\":\"right\",\"title\":{\"text\":\"Hect\\u00e1reas (ha)\"}},\"title\":{\"text\":\"Temperatura vs Otras variables\"}},                        {\"responsive\": true}                    ).then(function(){\n",
              "                            \n",
              "var gd = document.getElementById('d0d9f68f-90d1-4b83-bce4-c07f6099fcc5');\n",
              "var x = new MutationObserver(function (mutations, observer) {{\n",
              "        var display = window.getComputedStyle(gd).display;\n",
              "        if (!display || display === 'none') {{\n",
              "            console.log([gd, 'removed!']);\n",
              "            Plotly.purge(gd);\n",
              "            observer.disconnect();\n",
              "        }}\n",
              "}});\n",
              "\n",
              "// Listen for the removal of the full notebook cells\n",
              "var notebookContainer = gd.closest('#notebook-container');\n",
              "if (notebookContainer) {{\n",
              "    x.observe(notebookContainer, {childList: true});\n",
              "}}\n",
              "\n",
              "// Listen for the clearing of the current output cell\n",
              "var outputEl = gd.closest('.output');\n",
              "if (outputEl) {{\n",
              "    x.observe(outputEl, {childList: true});\n",
              "}}\n",
              "\n",
              "                        })                };                            </script>        </div>\n",
              "</body>\n",
              "</html>"
            ]
          },
          "metadata": {}
        }
      ]
    },
    {
      "cell_type": "markdown",
      "source": [
        "## Models"
      ],
      "metadata": {
        "id": "IWJCNbJwINlA"
      }
    },
    {
      "cell_type": "markdown",
      "source": [
        "#### OLS Model"
      ],
      "metadata": {
        "id": "CgGXYsPgIixn"
      }
    },
    {
      "cell_type": "code",
      "source": [
        "data_scaler = data_scaler.reset_index()"
      ],
      "metadata": {
        "id": "LeFqL5E_WY0t"
      },
      "execution_count": null,
      "outputs": []
    },
    {
      "cell_type": "code",
      "source": [
        "# Creación de dataset de entrenamiento y test\n",
        "\n",
        "train     = data_scaler[data_scaler[\"Year\"] < 2016] \n",
        "test      = data_scaler[data_scaler[\"Year\"] >= 2016]\n",
        "print(train.shape)\n",
        "print(test.shape) "
      ],
      "metadata": {
        "id": "YlH5z2Th3Q8g",
        "colab": {
          "base_uri": "https://localhost:8080/"
        },
        "outputId": "92a303d3-2122-45d3-e82d-da7daaac470f"
      },
      "execution_count": null,
      "outputs": [
        {
          "output_type": "stream",
          "name": "stdout",
          "text": [
            "(26, 8)\n",
            "(4, 8)\n"
          ]
        }
      ]
    },
    {
      "cell_type": "code",
      "source": [
        "#Creación de la formula para aplicarla al modelo de OLS\n",
        "variables_m1 = data_scaler.drop([\"Year\", \"Temperature\", \"population\"], axis= 1).columns\n",
        "\n",
        "formula =\"Temperature ~ \"\n",
        "for i in variables_m1:\n",
        "    formula +='Q(\"'+i+'\")+'\n",
        "formula = formula + 'population'"
      ],
      "metadata": {
        "id": "XnyllURtW9eC"
      },
      "execution_count": null,
      "outputs": []
    },
    {
      "cell_type": "code",
      "source": [
        "#Ejecución del modelo\n",
        "model_all = smf.ols(formula = formula, \n",
        "                 data = train).fit()\n",
        "model_all.summary()"
      ],
      "metadata": {
        "id": "xaeLre4kXCj6",
        "colab": {
          "base_uri": "https://localhost:8080/",
          "height": 558
        },
        "outputId": "c3115051-acd2-4e95-ea95-f556f9407118"
      },
      "execution_count": null,
      "outputs": [
        {
          "output_type": "execute_result",
          "data": {
            "text/plain": [
              "<class 'statsmodels.iolib.summary.Summary'>\n",
              "\"\"\"\n",
              "                            OLS Regression Results                            \n",
              "==============================================================================\n",
              "Dep. Variable:            Temperature   R-squared:                       0.732\n",
              "Model:                            OLS   Adj. R-squared:                  0.648\n",
              "Method:                 Least Squares   F-statistic:                     8.666\n",
              "Date:                Thu, 07 Jul 2022   Prob (F-statistic):           0.000126\n",
              "Time:                        21:41:46   Log-Likelihood:                 19.522\n",
              "No. Observations:                  26   AIC:                            -25.04\n",
              "Df Residuals:                      19   BIC:                            -16.24\n",
              "Df Model:                           6                                         \n",
              "Covariance Type:            nonrobust                                         \n",
              "================================================================================================\n",
              "                                   coef    std err          t      P>|t|      [0.025      0.975]\n",
              "------------------------------------------------------------------------------------------------\n",
              "Intercept                      -11.3318      6.359     -1.782      0.091     -24.641       1.977\n",
              "Q(\"Forest area\")                11.6838      6.360      1.837      0.082      -1.628      24.996\n",
              "Q(\"fossil_fuel_consumption\")    -0.4996      0.396     -1.260      0.223      -1.329       0.330\n",
              "Q(\"renewables_consumption\")     -0.5976      0.322     -1.858      0.079      -1.271       0.076\n",
              "Q(\"total_ghg\")                   0.5881      0.274      2.149      0.045       0.015       1.161\n",
              "Q(\"gdp\")                         1.9750      0.778      2.539      0.020       0.347       3.603\n",
              "population                      11.6938      6.500      1.799      0.088      -1.911      25.299\n",
              "==============================================================================\n",
              "Omnibus:                        3.307   Durbin-Watson:                   1.771\n",
              "Prob(Omnibus):                  0.191   Jarque-Bera (JB):                1.985\n",
              "Skew:                          -0.653   Prob(JB):                        0.371\n",
              "Kurtosis:                       3.354   Cond. No.                         592.\n",
              "==============================================================================\n",
              "\n",
              "Warnings:\n",
              "[1] Standard Errors assume that the covariance matrix of the errors is correctly specified.\n",
              "\"\"\""
            ],
            "text/html": [
              "<table class=\"simpletable\">\n",
              "<caption>OLS Regression Results</caption>\n",
              "<tr>\n",
              "  <th>Dep. Variable:</th>       <td>Temperature</td>   <th>  R-squared:         </th> <td>   0.732</td>\n",
              "</tr>\n",
              "<tr>\n",
              "  <th>Model:</th>                   <td>OLS</td>       <th>  Adj. R-squared:    </th> <td>   0.648</td>\n",
              "</tr>\n",
              "<tr>\n",
              "  <th>Method:</th>             <td>Least Squares</td>  <th>  F-statistic:       </th> <td>   8.666</td>\n",
              "</tr>\n",
              "<tr>\n",
              "  <th>Date:</th>             <td>Thu, 07 Jul 2022</td> <th>  Prob (F-statistic):</th> <td>0.000126</td>\n",
              "</tr>\n",
              "<tr>\n",
              "  <th>Time:</th>                 <td>21:41:46</td>     <th>  Log-Likelihood:    </th> <td>  19.522</td>\n",
              "</tr>\n",
              "<tr>\n",
              "  <th>No. Observations:</th>      <td>    26</td>      <th>  AIC:               </th> <td>  -25.04</td>\n",
              "</tr>\n",
              "<tr>\n",
              "  <th>Df Residuals:</th>          <td>    19</td>      <th>  BIC:               </th> <td>  -16.24</td>\n",
              "</tr>\n",
              "<tr>\n",
              "  <th>Df Model:</th>              <td>     6</td>      <th>                     </th>     <td> </td>   \n",
              "</tr>\n",
              "<tr>\n",
              "  <th>Covariance Type:</th>      <td>nonrobust</td>    <th>                     </th>     <td> </td>   \n",
              "</tr>\n",
              "</table>\n",
              "<table class=\"simpletable\">\n",
              "<tr>\n",
              "                <td></td>                  <th>coef</th>     <th>std err</th>      <th>t</th>      <th>P>|t|</th>  <th>[0.025</th>    <th>0.975]</th>  \n",
              "</tr>\n",
              "<tr>\n",
              "  <th>Intercept</th>                    <td>  -11.3318</td> <td>    6.359</td> <td>   -1.782</td> <td> 0.091</td> <td>  -24.641</td> <td>    1.977</td>\n",
              "</tr>\n",
              "<tr>\n",
              "  <th>Q(\"Forest area\")</th>             <td>   11.6838</td> <td>    6.360</td> <td>    1.837</td> <td> 0.082</td> <td>   -1.628</td> <td>   24.996</td>\n",
              "</tr>\n",
              "<tr>\n",
              "  <th>Q(\"fossil_fuel_consumption\")</th> <td>   -0.4996</td> <td>    0.396</td> <td>   -1.260</td> <td> 0.223</td> <td>   -1.329</td> <td>    0.330</td>\n",
              "</tr>\n",
              "<tr>\n",
              "  <th>Q(\"renewables_consumption\")</th>  <td>   -0.5976</td> <td>    0.322</td> <td>   -1.858</td> <td> 0.079</td> <td>   -1.271</td> <td>    0.076</td>\n",
              "</tr>\n",
              "<tr>\n",
              "  <th>Q(\"total_ghg\")</th>               <td>    0.5881</td> <td>    0.274</td> <td>    2.149</td> <td> 0.045</td> <td>    0.015</td> <td>    1.161</td>\n",
              "</tr>\n",
              "<tr>\n",
              "  <th>Q(\"gdp\")</th>                     <td>    1.9750</td> <td>    0.778</td> <td>    2.539</td> <td> 0.020</td> <td>    0.347</td> <td>    3.603</td>\n",
              "</tr>\n",
              "<tr>\n",
              "  <th>population</th>                   <td>   11.6938</td> <td>    6.500</td> <td>    1.799</td> <td> 0.088</td> <td>   -1.911</td> <td>   25.299</td>\n",
              "</tr>\n",
              "</table>\n",
              "<table class=\"simpletable\">\n",
              "<tr>\n",
              "  <th>Omnibus:</th>       <td> 3.307</td> <th>  Durbin-Watson:     </th> <td>   1.771</td>\n",
              "</tr>\n",
              "<tr>\n",
              "  <th>Prob(Omnibus):</th> <td> 0.191</td> <th>  Jarque-Bera (JB):  </th> <td>   1.985</td>\n",
              "</tr>\n",
              "<tr>\n",
              "  <th>Skew:</th>          <td>-0.653</td> <th>  Prob(JB):          </th> <td>   0.371</td>\n",
              "</tr>\n",
              "<tr>\n",
              "  <th>Kurtosis:</th>      <td> 3.354</td> <th>  Cond. No.          </th> <td>    592.</td>\n",
              "</tr>\n",
              "</table><br/><br/>Warnings:<br/>[1] Standard Errors assume that the covariance matrix of the errors is correctly specified."
            ]
          },
          "metadata": {},
          "execution_count": 300
        }
      ]
    },
    {
      "cell_type": "markdown",
      "source": [
        "As the results show, we might have a strong multicollinearity problems, so we are going to carry out a multicollinearity test **-VIF (Variance Inflation Factor)-**, to determine the relationship between the independent variables.\n",
        "\n",
        "The VIF estimates how much the variance of a regression coefficient is inflated due to multicollinearity in the model.\n",
        "\n",
        "VIFs are calculated by taking a predictor, and regressing it against every other predictor in the model. This gives you the R-squared values, which can then be plugged into the VIF formula. \n",
        "\n",
        "VIF = 1/1 - R2i"
      ],
      "metadata": {
        "id": "DjZjaItKhnHG"
      }
    },
    {
      "cell_type": "markdown",
      "source": [
        "##### Multicollinearity Test"
      ],
      "metadata": {
        "id": "paBNNHL2JPnH"
      }
    },
    {
      "cell_type": "code",
      "source": [
        "from sklearn.datasets import load_boston\n",
        "from sklearn.linear_model import LinearRegression\n",
        "\n",
        "def calculateVIF(var_predictoras_df):\n",
        "    var_pred_labels = list(var_predictoras_df.columns)\n",
        "    num_var_pred = len(var_pred_labels)\n",
        "    \n",
        "    lr_model = LinearRegression()\n",
        "    \n",
        "    result = pd.DataFrame(index = ['VIF'], columns = var_pred_labels)\n",
        "    result = result.fillna(0)\n",
        "    \n",
        "    for ite in range(num_var_pred):\n",
        "        x_features = var_pred_labels[:]\n",
        "        y_feature = var_pred_labels[ite]\n",
        "        x_features.remove(y_feature)\n",
        "        \n",
        "        x = var_predictoras_df[x_features]\n",
        "        y = var_predictoras_df[y_feature]\n",
        "        \n",
        "        lr_model.fit(var_predictoras_df[x_features], var_predictoras_df[y_feature])\n",
        "        \n",
        "        result[y_feature] = 1/(1 - lr_model.score(var_predictoras_df[x_features], var_predictoras_df[y_feature]))\n",
        "    \n",
        "    return result"
      ],
      "metadata": {
        "id": "OzoBrjMDZ1oK"
      },
      "execution_count": null,
      "outputs": []
    },
    {
      "cell_type": "code",
      "source": [
        "train_2 = train.drop([\"Year\", \"Temperature\"], axis = 1)\n",
        "calculateVIF(train_2).T"
      ],
      "metadata": {
        "id": "Z1NUOQ1q2_bZ",
        "colab": {
          "base_uri": "https://localhost:8080/",
          "height": 238
        },
        "outputId": "7f1b05fe-63ae-4b3b-a3cc-307c32b7096c"
      },
      "execution_count": null,
      "outputs": [
        {
          "output_type": "execute_result",
          "data": {
            "text/plain": [
              "                                 VIF\n",
              "Forest area              4081.672766\n",
              "fossil_fuel_consumption     9.981753\n",
              "renewables_consumption      6.047233\n",
              "population               3944.641779\n",
              "total_ghg                   1.968736\n",
              "gdp                        47.369363"
            ],
            "text/html": [
              "\n",
              "  <div id=\"df-395c65f4-e7e8-4fb0-a809-3cedb7311e87\">\n",
              "    <div class=\"colab-df-container\">\n",
              "      <div>\n",
              "<style scoped>\n",
              "    .dataframe tbody tr th:only-of-type {\n",
              "        vertical-align: middle;\n",
              "    }\n",
              "\n",
              "    .dataframe tbody tr th {\n",
              "        vertical-align: top;\n",
              "    }\n",
              "\n",
              "    .dataframe thead th {\n",
              "        text-align: right;\n",
              "    }\n",
              "</style>\n",
              "<table border=\"1\" class=\"dataframe\">\n",
              "  <thead>\n",
              "    <tr style=\"text-align: right;\">\n",
              "      <th></th>\n",
              "      <th>VIF</th>\n",
              "    </tr>\n",
              "  </thead>\n",
              "  <tbody>\n",
              "    <tr>\n",
              "      <th>Forest area</th>\n",
              "      <td>4081.672766</td>\n",
              "    </tr>\n",
              "    <tr>\n",
              "      <th>fossil_fuel_consumption</th>\n",
              "      <td>9.981753</td>\n",
              "    </tr>\n",
              "    <tr>\n",
              "      <th>renewables_consumption</th>\n",
              "      <td>6.047233</td>\n",
              "    </tr>\n",
              "    <tr>\n",
              "      <th>population</th>\n",
              "      <td>3944.641779</td>\n",
              "    </tr>\n",
              "    <tr>\n",
              "      <th>total_ghg</th>\n",
              "      <td>1.968736</td>\n",
              "    </tr>\n",
              "    <tr>\n",
              "      <th>gdp</th>\n",
              "      <td>47.369363</td>\n",
              "    </tr>\n",
              "  </tbody>\n",
              "</table>\n",
              "</div>\n",
              "      <button class=\"colab-df-convert\" onclick=\"convertToInteractive('df-395c65f4-e7e8-4fb0-a809-3cedb7311e87')\"\n",
              "              title=\"Convert this dataframe to an interactive table.\"\n",
              "              style=\"display:none;\">\n",
              "        \n",
              "  <svg xmlns=\"http://www.w3.org/2000/svg\" height=\"24px\"viewBox=\"0 0 24 24\"\n",
              "       width=\"24px\">\n",
              "    <path d=\"M0 0h24v24H0V0z\" fill=\"none\"/>\n",
              "    <path d=\"M18.56 5.44l.94 2.06.94-2.06 2.06-.94-2.06-.94-.94-2.06-.94 2.06-2.06.94zm-11 1L8.5 8.5l.94-2.06 2.06-.94-2.06-.94L8.5 2.5l-.94 2.06-2.06.94zm10 10l.94 2.06.94-2.06 2.06-.94-2.06-.94-.94-2.06-.94 2.06-2.06.94z\"/><path d=\"M17.41 7.96l-1.37-1.37c-.4-.4-.92-.59-1.43-.59-.52 0-1.04.2-1.43.59L10.3 9.45l-7.72 7.72c-.78.78-.78 2.05 0 2.83L4 21.41c.39.39.9.59 1.41.59.51 0 1.02-.2 1.41-.59l7.78-7.78 2.81-2.81c.8-.78.8-2.07 0-2.86zM5.41 20L4 18.59l7.72-7.72 1.47 1.35L5.41 20z\"/>\n",
              "  </svg>\n",
              "      </button>\n",
              "      \n",
              "  <style>\n",
              "    .colab-df-container {\n",
              "      display:flex;\n",
              "      flex-wrap:wrap;\n",
              "      gap: 12px;\n",
              "    }\n",
              "\n",
              "    .colab-df-convert {\n",
              "      background-color: #E8F0FE;\n",
              "      border: none;\n",
              "      border-radius: 50%;\n",
              "      cursor: pointer;\n",
              "      display: none;\n",
              "      fill: #1967D2;\n",
              "      height: 32px;\n",
              "      padding: 0 0 0 0;\n",
              "      width: 32px;\n",
              "    }\n",
              "\n",
              "    .colab-df-convert:hover {\n",
              "      background-color: #E2EBFA;\n",
              "      box-shadow: 0px 1px 2px rgba(60, 64, 67, 0.3), 0px 1px 3px 1px rgba(60, 64, 67, 0.15);\n",
              "      fill: #174EA6;\n",
              "    }\n",
              "\n",
              "    [theme=dark] .colab-df-convert {\n",
              "      background-color: #3B4455;\n",
              "      fill: #D2E3FC;\n",
              "    }\n",
              "\n",
              "    [theme=dark] .colab-df-convert:hover {\n",
              "      background-color: #434B5C;\n",
              "      box-shadow: 0px 1px 3px 1px rgba(0, 0, 0, 0.15);\n",
              "      filter: drop-shadow(0px 1px 2px rgba(0, 0, 0, 0.3));\n",
              "      fill: #FFFFFF;\n",
              "    }\n",
              "  </style>\n",
              "\n",
              "      <script>\n",
              "        const buttonEl =\n",
              "          document.querySelector('#df-395c65f4-e7e8-4fb0-a809-3cedb7311e87 button.colab-df-convert');\n",
              "        buttonEl.style.display =\n",
              "          google.colab.kernel.accessAllowed ? 'block' : 'none';\n",
              "\n",
              "        async function convertToInteractive(key) {\n",
              "          const element = document.querySelector('#df-395c65f4-e7e8-4fb0-a809-3cedb7311e87');\n",
              "          const dataTable =\n",
              "            await google.colab.kernel.invokeFunction('convertToInteractive',\n",
              "                                                     [key], {});\n",
              "          if (!dataTable) return;\n",
              "\n",
              "          const docLinkHtml = 'Like what you see? Visit the ' +\n",
              "            '<a target=\"_blank\" href=https://colab.research.google.com/notebooks/data_table.ipynb>data table notebook</a>'\n",
              "            + ' to learn more about interactive tables.';\n",
              "          element.innerHTML = '';\n",
              "          dataTable['output_type'] = 'display_data';\n",
              "          await google.colab.output.renderOutput(dataTable, element);\n",
              "          const docLink = document.createElement('div');\n",
              "          docLink.innerHTML = docLinkHtml;\n",
              "          element.appendChild(docLink);\n",
              "        }\n",
              "      </script>\n",
              "    </div>\n",
              "  </div>\n",
              "  "
            ]
          },
          "metadata": {},
          "execution_count": 302
        }
      ]
    },
    {
      "cell_type": "markdown",
      "source": [
        "**Interpreting the Variance Inflation Factor**\n",
        "\n",
        "Variance inflation factors range from 1 upwards. The numerical value for VIF tells you (in decimal form) what percentage the variance is inflated for each coefficient. \n",
        "\n",
        "A rule of thumb for interpreting the variance inflation factor:\n",
        "\n",
        "  - 1 = not correlated.\n",
        "  - Between 1 and 5 = moderately correlated.\n",
        "  - Greater than 5 = highly correlated.\n",
        "\n",
        "In our case, all the varibles present a high multicollinearity, which makes less reliable our regression results. "
      ],
      "metadata": {
        "id": "mM5r9_Oy6N-O"
      }
    },
    {
      "cell_type": "markdown",
      "source": [
        "### Regression models using RFE"
      ],
      "metadata": {
        "id": "ym8grUwf_Iqk"
      }
    },
    {
      "cell_type": "markdown",
      "source": [
        "To deal with this problem, we are going to use [Recursive Feature Elimination (RFE)](https://machinelearningmastery.com/rfe-feature-selection-in-python/), an effective method to select the most relevant features in predicting the target variable. \n",
        "\n",
        "This will allow us to be more effective, since some machine learning algorithms can be misled by irrelevant input features, resulting in worse predictive performance.\n",
        "\n",
        "We will evaluate de model using repeated stratified k-fold cross-validation, with two repeats and 5 folds."
      ],
      "metadata": {
        "id": "3o8kC97r8hlO"
      }
    },
    {
      "cell_type": "code",
      "source": [
        "#Function to show the predictions of the models\n",
        "def plot_prediction_time_series(train,test, pred,pred_train):\n",
        "   \n",
        "    x=data_scaler[\"Year\"]\n",
        "    \n",
        "    fig, ax = plt.subplots()\n",
        "    fig.set_size_inches(11.7, 8.27)\n",
        "\n",
        "    ax.ticklabel_format(axis='y', style='plain')\n",
        "\n",
        "    sns.lineplot(x=x, y=list(pred_train)+list(pred), marker='o')\n",
        "    sns.lineplot(x=x, y=list(train)+list(test), color='orange', marker='o')\n",
        "\n",
        "    dates_pred = x.iloc[-4:]\n",
        "\n",
        "    sns.lineplot(x=dates_pred, y=pred, color='black', marker='o')\n",
        "\n",
        "    plt.legend(labels=['Training', 'Real', 'Predictions'])\n",
        "    plt.show()"
      ],
      "metadata": {
        "id": "na0P-XB0Fnr6"
      },
      "execution_count": null,
      "outputs": []
    },
    {
      "cell_type": "code",
      "source": [
        "#Data spliting\n",
        "train_data = data_scaler[data_scaler[\"Year\"] < 2016]\n",
        "test_data = data_scaler[data_scaler[\"Year\"] >= 2016]\n",
        "\n",
        "X_train = train_data.drop([\"Temperature\", \"Year\"], axis = 1)\n",
        "X_test = test_data.drop([\"Temperature\", \"Year\"], axis = 1)\n",
        "\n",
        "y_train  = train_data.Temperature\n",
        "y_test = test_data.Temperature\n",
        "\n",
        "print(X_train.shape)\n",
        "print(X_test.shape)"
      ],
      "metadata": {
        "colab": {
          "base_uri": "https://localhost:8080/"
        },
        "id": "7y4j_QGGvCYP",
        "outputId": "5da88b67-b9d3-4071-eeb4-f9d1e100dfd3"
      },
      "execution_count": null,
      "outputs": [
        {
          "output_type": "stream",
          "name": "stdout",
          "text": [
            "(26, 6)\n",
            "(4, 6)\n"
          ]
        }
      ]
    },
    {
      "cell_type": "markdown",
      "source": [
        "#### Linear Regression"
      ],
      "metadata": {
        "id": "s7oBuJAIGHW8"
      }
    },
    {
      "cell_type": "markdown",
      "source": [
        "Linear regression is a linear model that assumes that the response variable (y) is a linear combination of weights multiplied by a set of predictor variables (x). The full formula also includes an error term to account for random sampling noise."
      ],
      "metadata": {
        "id": "SIKWuFIHHEnS"
      }
    },
    {
      "cell_type": "code",
      "source": [
        "# create pipeline\n",
        "rfe = RFE(estimator=LinearRegression(), n_features_to_select=5)\n",
        "model = LinearRegression()\n",
        "pipeline_LR = Pipeline(steps=[('s',rfe),('m',model)])\n",
        "\n",
        "# evaluate model\n",
        "\n",
        "cv = RepeatedKFold(n_splits=3, n_repeats=2, random_state=1)\n",
        "n_scores = cross_val_score(pipeline_LR, X_train, y_train, scoring='neg_mean_absolute_error', cv=cv, n_jobs=-1, error_score='raise')\n",
        "\n",
        "# report performance\n",
        "print('MAE: %.3f (%.3f)' % (mean(n_scores), std(n_scores)))\n",
        "\n",
        "# fit the model on all available data\n",
        "pipeline_LR.fit(X_train, y_train)\n",
        "\n",
        "# make a prediction for one example\n",
        "pred = pipeline_LR.predict(X_test)\n",
        "print(pred)\n",
        "\n",
        "pred = pipeline_LR.predict(X_train)\n",
        "mean_error = (abs(pred-y_train)/y_train).mean()\n",
        "standard_deviation = (abs(pred-y_train)/y_train).std()\n",
        "\n",
        "print('Training Error:')\n",
        "\n",
        "print(f'Mean Error: {mean_error}')\n",
        "print(f'Standard Deviation of Error: {standard_deviation}')\n",
        "\n",
        "print('Test Error:')\n",
        "\n",
        "pred = pipeline_LR.predict(X_test)\n",
        "mean_error = (abs(pred-y_test)/y_test).mean()\n",
        "standard_deviation = (abs(pred-y_test)/y_test).std()\n",
        "\n",
        "print(f'Mean Error: {mean_error}')\n",
        "print(f'Standard Deviation of Error: {standard_deviation}')\n",
        "\n",
        "#Model Metrics\n",
        "\n",
        "MAE_LR = metrics.mean_absolute_error(y_test, pred)\n",
        "RMSE_LR = np.sqrt(metrics.mean_squared_error(y_test, pred))\n",
        "\n",
        "print('Mean Absolute Error (MAE):', metrics.mean_absolute_error(y_test, pred))\n",
        "print('Mean Squared Error (MSE):', metrics.mean_squared_error(y_test, pred))\n",
        "print('Root Mean Squared Error (RMSE):', np.sqrt(metrics.mean_squared_error(y_test, pred)))\n",
        "mape = np.mean(np.abs((y_test - pred) / np.abs(y_test)))\n",
        "print('Mean Absolute Percentage Error (MAPE):', round(mape * 100, 2))\n",
        "print('Accuracy:', round(100*(1 - mape), 2))\n",
        "\n",
        "plot_prediction_time_series(y_train,y_test,pred,pipeline_LR.predict(X_train))"
      ],
      "metadata": {
        "colab": {
          "base_uri": "https://localhost:8080/",
          "height": 737
        },
        "id": "4GUrmgkxGYik",
        "outputId": "703f54db-fc78-431d-e940-9f69e43ac60f"
      },
      "execution_count": null,
      "outputs": [
        {
          "output_type": "stream",
          "name": "stdout",
          "text": [
            "MAE: -0.135 (0.023)\n",
            "[1.34578306 1.27169137 1.52496116 1.75134889]\n",
            "Training Error:\n",
            "Mean Error: 11510.32963427719\n",
            "Standard Deviation of Error: 58689.734469909556\n",
            "Test Error:\n",
            "Mean Error: 0.7500857512695959\n",
            "Standard Deviation of Error: 0.37858868775167315\n",
            "Mean Absolute Error (MAE): 0.6158858412063966\n",
            "Mean Squared Error (MSE): 0.4299740935819484\n",
            "Root Mean Squared Error (RMSE): 0.6557240986740905\n",
            "Mean Absolute Percentage Error (MAPE): 75.01\n",
            "Accuracy: 24.99\n"
          ]
        },
        {
          "output_type": "display_data",
          "data": {
            "text/plain": [
              "<Figure size 842.4x595.44 with 1 Axes>"
            ],
            "image/png": "[encoded data removed]"
          },
          "metadata": {
            "needs_background": "light"
          }
        }
      ]
    },
    {
      "cell_type": "code",
      "source": [
        "data = rfe.ranking_\n",
        "ind = list(X_train.columns)\n",
        "variables_finales =pd.DataFrame(data,index = ind, columns = ['RFE'])\n",
        "variables_finales"
      ],
      "metadata": {
        "id": "y8iky82gr-D2",
        "colab": {
          "base_uri": "https://localhost:8080/",
          "height": 238
        },
        "outputId": "91e7a162-3c35-48c8-94cc-c5ff03d3cc33"
      },
      "execution_count": null,
      "outputs": [
        {
          "output_type": "execute_result",
          "data": {
            "text/plain": [
              "                         RFE\n",
              "Forest area                1\n",
              "fossil_fuel_consumption    2\n",
              "renewables_consumption     1\n",
              "population                 1\n",
              "total_ghg                  1\n",
              "gdp                        1"
            ],
            "text/html": [
              "\n",
              "  <div id=\"df-291b4b23-434a-4cc0-8d1c-532e4a8a39cb\">\n",
              "    <div class=\"colab-df-container\">\n",
              "      <div>\n",
              "<style scoped>\n",
              "    .dataframe tbody tr th:only-of-type {\n",
              "        vertical-align: middle;\n",
              "    }\n",
              "\n",
              "    .dataframe tbody tr th {\n",
              "        vertical-align: top;\n",
              "    }\n",
              "\n",
              "    .dataframe thead th {\n",
              "        text-align: right;\n",
              "    }\n",
              "</style>\n",
              "<table border=\"1\" class=\"dataframe\">\n",
              "  <thead>\n",
              "    <tr style=\"text-align: right;\">\n",
              "      <th></th>\n",
              "      <th>RFE</th>\n",
              "    </tr>\n",
              "  </thead>\n",
              "  <tbody>\n",
              "    <tr>\n",
              "      <th>Forest area</th>\n",
              "      <td>1</td>\n",
              "    </tr>\n",
              "    <tr>\n",
              "      <th>fossil_fuel_consumption</th>\n",
              "      <td>2</td>\n",
              "    </tr>\n",
              "    <tr>\n",
              "      <th>renewables_consumption</th>\n",
              "      <td>1</td>\n",
              "    </tr>\n",
              "    <tr>\n",
              "      <th>population</th>\n",
              "      <td>1</td>\n",
              "    </tr>\n",
              "    <tr>\n",
              "      <th>total_ghg</th>\n",
              "      <td>1</td>\n",
              "    </tr>\n",
              "    <tr>\n",
              "      <th>gdp</th>\n",
              "      <td>1</td>\n",
              "    </tr>\n",
              "  </tbody>\n",
              "</table>\n",
              "</div>\n",
              "      <button class=\"colab-df-convert\" onclick=\"convertToInteractive('df-291b4b23-434a-4cc0-8d1c-532e4a8a39cb')\"\n",
              "              title=\"Convert this dataframe to an interactive table.\"\n",
              "              style=\"display:none;\">\n",
              "        \n",
              "  <svg xmlns=\"http://www.w3.org/2000/svg\" height=\"24px\"viewBox=\"0 0 24 24\"\n",
              "       width=\"24px\">\n",
              "    <path d=\"M0 0h24v24H0V0z\" fill=\"none\"/>\n",
              "    <path d=\"M18.56 5.44l.94 2.06.94-2.06 2.06-.94-2.06-.94-.94-2.06-.94 2.06-2.06.94zm-11 1L8.5 8.5l.94-2.06 2.06-.94-2.06-.94L8.5 2.5l-.94 2.06-2.06.94zm10 10l.94 2.06.94-2.06 2.06-.94-2.06-.94-.94-2.06-.94 2.06-2.06.94z\"/><path d=\"M17.41 7.96l-1.37-1.37c-.4-.4-.92-.59-1.43-.59-.52 0-1.04.2-1.43.59L10.3 9.45l-7.72 7.72c-.78.78-.78 2.05 0 2.83L4 21.41c.39.39.9.59 1.41.59.51 0 1.02-.2 1.41-.59l7.78-7.78 2.81-2.81c.8-.78.8-2.07 0-2.86zM5.41 20L4 18.59l7.72-7.72 1.47 1.35L5.41 20z\"/>\n",
              "  </svg>\n",
              "      </button>\n",
              "      \n",
              "  <style>\n",
              "    .colab-df-container {\n",
              "      display:flex;\n",
              "      flex-wrap:wrap;\n",
              "      gap: 12px;\n",
              "    }\n",
              "\n",
              "    .colab-df-convert {\n",
              "      background-color: #E8F0FE;\n",
              "      border: none;\n",
              "      border-radius: 50%;\n",
              "      cursor: pointer;\n",
              "      display: none;\n",
              "      fill: #1967D2;\n",
              "      height: 32px;\n",
              "      padding: 0 0 0 0;\n",
              "      width: 32px;\n",
              "    }\n",
              "\n",
              "    .colab-df-convert:hover {\n",
              "      background-color: #E2EBFA;\n",
              "      box-shadow: 0px 1px 2px rgba(60, 64, 67, 0.3), 0px 1px 3px 1px rgba(60, 64, 67, 0.15);\n",
              "      fill: #174EA6;\n",
              "    }\n",
              "\n",
              "    [theme=dark] .colab-df-convert {\n",
              "      background-color: #3B4455;\n",
              "      fill: #D2E3FC;\n",
              "    }\n",
              "\n",
              "    [theme=dark] .colab-df-convert:hover {\n",
              "      background-color: #434B5C;\n",
              "      box-shadow: 0px 1px 3px 1px rgba(0, 0, 0, 0.15);\n",
              "      filter: drop-shadow(0px 1px 2px rgba(0, 0, 0, 0.3));\n",
              "      fill: #FFFFFF;\n",
              "    }\n",
              "  </style>\n",
              "\n",
              "      <script>\n",
              "        const buttonEl =\n",
              "          document.querySelector('#df-291b4b23-434a-4cc0-8d1c-532e4a8a39cb button.colab-df-convert');\n",
              "        buttonEl.style.display =\n",
              "          google.colab.kernel.accessAllowed ? 'block' : 'none';\n",
              "\n",
              "        async function convertToInteractive(key) {\n",
              "          const element = document.querySelector('#df-291b4b23-434a-4cc0-8d1c-532e4a8a39cb');\n",
              "          const dataTable =\n",
              "            await google.colab.kernel.invokeFunction('convertToInteractive',\n",
              "                                                     [key], {});\n",
              "          if (!dataTable) return;\n",
              "\n",
              "          const docLinkHtml = 'Like what you see? Visit the ' +\n",
              "            '<a target=\"_blank\" href=https://colab.research.google.com/notebooks/data_table.ipynb>data table notebook</a>'\n",
              "            + ' to learn more about interactive tables.';\n",
              "          element.innerHTML = '';\n",
              "          dataTable['output_type'] = 'display_data';\n",
              "          await google.colab.output.renderOutput(dataTable, element);\n",
              "          const docLink = document.createElement('div');\n",
              "          docLink.innerHTML = docLinkHtml;\n",
              "          element.appendChild(docLink);\n",
              "        }\n",
              "      </script>\n",
              "    </div>\n",
              "  </div>\n",
              "  "
            ]
          },
          "metadata": {},
          "execution_count": 306
        }
      ]
    },
    {
      "cell_type": "markdown",
      "source": [
        "#### Decision Tree Regressor"
      ],
      "metadata": {
        "id": "vjEE9TPDHgSe"
      }
    },
    {
      "cell_type": "markdown",
      "source": [
        "[Decision Tree](https://towardsdatascience.com/machine-learning-basics-decision-tree-regression-1d73ea003fda) is one of the most commonly used, practical approaches for supervised learning. It can be used to solve both Regression and Classification tasks with the latter being put more into practical application.\n",
        "\n",
        "It is a tree-structured classifier with three types of node: \n",
        "- The **Root Node** is the initial node which represents the entire sample and may get split further into further nodes. \n",
        "- The **Interior Nodes** represent the features of a data set and the branches represent the decision rules.\n",
        "- Finally, the **Leaf Nodes** represent the outcome.\n",
        "\n",
        "With a particular data point, it is run completely through the entirely tree by answering True/False questions till it reaches the leaf node.The final prediction is the average of the value of the dependent variable in that particular leaf node. Through multiple iterations, the Tree is able to predict a proper value for the data point."
      ],
      "metadata": {
        "id": "lLGJX9AmIVSe"
      }
    },
    {
      "cell_type": "code",
      "source": [
        "# create pipeline\n",
        "rfe = RFE(estimator=RandomForestRegressor(), n_features_to_select=5)\n",
        "model = RandomForestRegressor()\n",
        "pipeline = Pipeline(steps=[('s',rfe),('m',model)])\n",
        "\n",
        "# evaluate model\n",
        "cv = RepeatedKFold(n_splits=5, n_repeats=2, random_state=1)\n",
        "n_scores = cross_val_score(pipeline, X_train, y_train, scoring='neg_mean_absolute_error', cv=cv, n_jobs=-1, error_score='raise')\n",
        "\n",
        "# report performance\n",
        "print('MAE: %.3f (%.3f)' % (mean(n_scores), std(n_scores)))\n",
        "\n",
        "# fit the model on all available data\n",
        "pipeline.fit(X_train, y_train)\n",
        "\n",
        "# make a prediction for one example\n",
        "pred = pipeline.predict(X_test)\n",
        "print(pred)\n",
        "\n",
        "pred = pipeline.predict(X_train)\n",
        "mean_error = (abs(pred-y_train)/y_train).mean()\n",
        "standard_deviation = (abs(pred-y_train)/y_train).std()\n",
        "\n",
        "print('Training Error:')\n",
        "\n",
        "print(f'Mean Error: {mean_error}')\n",
        "print(f'Standard Deviation of Error: {standard_deviation}')\n",
        "\n",
        "print('Test Error:')\n",
        "\n",
        "pred = pipeline.predict(X_test)\n",
        "mean_error = (abs(pred-y_test)/y_test).mean()\n",
        "standard_deviation = (abs(pred-y_test)/y_test).std()\n",
        "\n",
        "print(f'Mean Error: {mean_error}')\n",
        "print(f'Standard Deviation of Error: {standard_deviation}')\n",
        "\n",
        "#Model Metrics\n",
        "\n",
        "MAE_DTR = metrics.mean_absolute_error(y_test, pred)\n",
        "RMSE_DTR = np.sqrt(metrics.mean_squared_error(y_test, pred))\n",
        "\n",
        "print('Mean Absolute Error (MAE):', metrics.mean_absolute_error(y_test, pred))\n",
        "print('Mean Squared Error (MSE):', metrics.mean_squared_error(y_test, pred))\n",
        "print('Root Mean Squared Error (RMSE):', np.sqrt(metrics.mean_squared_error(y_test, pred)))\n",
        "mape = np.mean(np.abs((y_test - pred) / np.abs(y_test)))\n",
        "print('Mean Absolute Percentage Error (MAPE):', round(mape * 100, 2))\n",
        "print('Accuracy:', round(100*(1 - mape), 2))\n",
        "\n",
        "plot_prediction_time_series(y_train,y_test,pred,pipeline.predict(X_train))"
      ],
      "metadata": {
        "id": "JrFUpC_Vl3Fv",
        "colab": {
          "base_uri": "https://localhost:8080/",
          "height": 737
        },
        "outputId": "54b6ecd4-8e91-45e3-b7e7-9e7eda5d5670"
      },
      "execution_count": null,
      "outputs": [
        {
          "output_type": "stream",
          "name": "stdout",
          "text": [
            "MAE: -0.122 (0.042)\n",
            "[0.76424079 0.76285247 0.76285247 0.76285247]\n",
            "Training Error:\n",
            "Mean Error: 3194.6752110673533\n",
            "Standard Deviation of Error: 16289.054643219179\n",
            "Test Error:\n",
            "Mean Error: 0.13870290606753613\n",
            "Standard Deviation of Error: 0.07196421986298882\n",
            "Mean Absolute Error (MAE): 0.12492771012371323\n",
            "Mean Squared Error (MSE): 0.020550517867265916\n",
            "Root Mean Squared Error (RMSE): 0.14335451812644734\n",
            "Mean Absolute Percentage Error (MAPE): 13.87\n",
            "Accuracy: 86.13\n"
          ]
        },
        {
          "output_type": "display_data",
          "data": {
            "text/plain": [
              "<Figure size 842.4x595.44 with 1 Axes>"
            ],
            "image/png": "[encoded data removed]"
          },
          "metadata": {
            "needs_background": "light"
          }
        }
      ]
    },
    {
      "cell_type": "code",
      "source": [
        "data = rfe.ranking_\n",
        "ind = list(X_train.columns)\n",
        "variables_finales =pd.DataFrame(data,index = ind, columns = ['RFE'])\n",
        "variables_finales"
      ],
      "metadata": {
        "id": "MJ_zyRuMvLhV",
        "colab": {
          "base_uri": "https://localhost:8080/",
          "height": 238
        },
        "outputId": "5c696d98-97df-47f1-dc8f-7ef493c74f9e"
      },
      "execution_count": null,
      "outputs": [
        {
          "output_type": "execute_result",
          "data": {
            "text/plain": [
              "                         RFE\n",
              "Forest area                1\n",
              "fossil_fuel_consumption    1\n",
              "renewables_consumption     1\n",
              "population                 1\n",
              "total_ghg                  2\n",
              "gdp                        1"
            ],
            "text/html": [
              "\n",
              "  <div id=\"df-192f48eb-6c2b-4743-9664-5cdb54427ce0\">\n",
              "    <div class=\"colab-df-container\">\n",
              "      <div>\n",
              "<style scoped>\n",
              "    .dataframe tbody tr th:only-of-type {\n",
              "        vertical-align: middle;\n",
              "    }\n",
              "\n",
              "    .dataframe tbody tr th {\n",
              "        vertical-align: top;\n",
              "    }\n",
              "\n",
              "    .dataframe thead th {\n",
              "        text-align: right;\n",
              "    }\n",
              "</style>\n",
              "<table border=\"1\" class=\"dataframe\">\n",
              "  <thead>\n",
              "    <tr style=\"text-align: right;\">\n",
              "      <th></th>\n",
              "      <th>RFE</th>\n",
              "    </tr>\n",
              "  </thead>\n",
              "  <tbody>\n",
              "    <tr>\n",
              "      <th>Forest area</th>\n",
              "      <td>1</td>\n",
              "    </tr>\n",
              "    <tr>\n",
              "      <th>fossil_fuel_consumption</th>\n",
              "      <td>1</td>\n",
              "    </tr>\n",
              "    <tr>\n",
              "      <th>renewables_consumption</th>\n",
              "      <td>1</td>\n",
              "    </tr>\n",
              "    <tr>\n",
              "      <th>population</th>\n",
              "      <td>1</td>\n",
              "    </tr>\n",
              "    <tr>\n",
              "      <th>total_ghg</th>\n",
              "      <td>2</td>\n",
              "    </tr>\n",
              "    <tr>\n",
              "      <th>gdp</th>\n",
              "      <td>1</td>\n",
              "    </tr>\n",
              "  </tbody>\n",
              "</table>\n",
              "</div>\n",
              "      <button class=\"colab-df-convert\" onclick=\"convertToInteractive('df-192f48eb-6c2b-4743-9664-5cdb54427ce0')\"\n",
              "              title=\"Convert this dataframe to an interactive table.\"\n",
              "              style=\"display:none;\">\n",
              "        \n",
              "  <svg xmlns=\"http://www.w3.org/2000/svg\" height=\"24px\"viewBox=\"0 0 24 24\"\n",
              "       width=\"24px\">\n",
              "    <path d=\"M0 0h24v24H0V0z\" fill=\"none\"/>\n",
              "    <path d=\"M18.56 5.44l.94 2.06.94-2.06 2.06-.94-2.06-.94-.94-2.06-.94 2.06-2.06.94zm-11 1L8.5 8.5l.94-2.06 2.06-.94-2.06-.94L8.5 2.5l-.94 2.06-2.06.94zm10 10l.94 2.06.94-2.06 2.06-.94-2.06-.94-.94-2.06-.94 2.06-2.06.94z\"/><path d=\"M17.41 7.96l-1.37-1.37c-.4-.4-.92-.59-1.43-.59-.52 0-1.04.2-1.43.59L10.3 9.45l-7.72 7.72c-.78.78-.78 2.05 0 2.83L4 21.41c.39.39.9.59 1.41.59.51 0 1.02-.2 1.41-.59l7.78-7.78 2.81-2.81c.8-.78.8-2.07 0-2.86zM5.41 20L4 18.59l7.72-7.72 1.47 1.35L5.41 20z\"/>\n",
              "  </svg>\n",
              "      </button>\n",
              "      \n",
              "  <style>\n",
              "    .colab-df-container {\n",
              "      display:flex;\n",
              "      flex-wrap:wrap;\n",
              "      gap: 12px;\n",
              "    }\n",
              "\n",
              "    .colab-df-convert {\n",
              "      background-color: #E8F0FE;\n",
              "      border: none;\n",
              "      border-radius: 50%;\n",
              "      cursor: pointer;\n",
              "      display: none;\n",
              "      fill: #1967D2;\n",
              "      height: 32px;\n",
              "      padding: 0 0 0 0;\n",
              "      width: 32px;\n",
              "    }\n",
              "\n",
              "    .colab-df-convert:hover {\n",
              "      background-color: #E2EBFA;\n",
              "      box-shadow: 0px 1px 2px rgba(60, 64, 67, 0.3), 0px 1px 3px 1px rgba(60, 64, 67, 0.15);\n",
              "      fill: #174EA6;\n",
              "    }\n",
              "\n",
              "    [theme=dark] .colab-df-convert {\n",
              "      background-color: #3B4455;\n",
              "      fill: #D2E3FC;\n",
              "    }\n",
              "\n",
              "    [theme=dark] .colab-df-convert:hover {\n",
              "      background-color: #434B5C;\n",
              "      box-shadow: 0px 1px 3px 1px rgba(0, 0, 0, 0.15);\n",
              "      filter: drop-shadow(0px 1px 2px rgba(0, 0, 0, 0.3));\n",
              "      fill: #FFFFFF;\n",
              "    }\n",
              "  </style>\n",
              "\n",
              "      <script>\n",
              "        const buttonEl =\n",
              "          document.querySelector('#df-192f48eb-6c2b-4743-9664-5cdb54427ce0 button.colab-df-convert');\n",
              "        buttonEl.style.display =\n",
              "          google.colab.kernel.accessAllowed ? 'block' : 'none';\n",
              "\n",
              "        async function convertToInteractive(key) {\n",
              "          const element = document.querySelector('#df-192f48eb-6c2b-4743-9664-5cdb54427ce0');\n",
              "          const dataTable =\n",
              "            await google.colab.kernel.invokeFunction('convertToInteractive',\n",
              "                                                     [key], {});\n",
              "          if (!dataTable) return;\n",
              "\n",
              "          const docLinkHtml = 'Like what you see? Visit the ' +\n",
              "            '<a target=\"_blank\" href=https://colab.research.google.com/notebooks/data_table.ipynb>data table notebook</a>'\n",
              "            + ' to learn more about interactive tables.';\n",
              "          element.innerHTML = '';\n",
              "          dataTable['output_type'] = 'display_data';\n",
              "          await google.colab.output.renderOutput(dataTable, element);\n",
              "          const docLink = document.createElement('div');\n",
              "          docLink.innerHTML = docLinkHtml;\n",
              "          element.appendChild(docLink);\n",
              "        }\n",
              "      </script>\n",
              "    </div>\n",
              "  </div>\n",
              "  "
            ]
          },
          "metadata": {},
          "execution_count": 308
        }
      ]
    },
    {
      "cell_type": "markdown",
      "source": [
        "#### Support Vector Regression"
      ],
      "metadata": {
        "id": "J_1LnlE3_V-D"
      }
    },
    {
      "cell_type": "markdown",
      "source": [
        "[Support Vector Regression](https://towardsdatascience.com/unlocking-the-true-power-of-support-vector-regression-847fd123a4a0) uses the same principle as the SVMs. The basic idea behind SVR is to find the best fit line, the hyperplane, that has the maximum number of points.\n",
        "\n",
        "Unlike other Regression models that try to minimize the error between the real and predicted value, the SVR tries to fit the best line within a threshold value, which is the distance between the hyperplane and boundary line. "
      ],
      "metadata": {
        "id": "8d8tWnEe_8h1"
      }
    },
    {
      "cell_type": "code",
      "source": [
        "# create pipeline\n",
        "rfe = RFE(estimator=SVR(kernel=\"linear\"), n_features_to_select=5)\n",
        "model = SVR(kernel=\"linear\")\n",
        "pipeline_SVR= Pipeline(steps=[('s',rfe),('m',model)]) \n",
        "\n",
        "# evaluate model\n",
        "cv = RepeatedKFold(n_splits=5, n_repeats=2, random_state=1)\n",
        "n_scores = cross_val_score(pipeline_SVR, X_train, y_train, scoring='neg_mean_absolute_error', cv=cv, n_jobs=-1, error_score='raise')\n",
        "\n",
        "# report performance\n",
        "print('MAE: %.3f (%.3f)' % (mean(n_scores), std(n_scores)))\n",
        "\n",
        "# fit the model on all available data\n",
        "pipeline_SVR.fit(X_train, y_train)\n",
        "\n",
        "# make a prediction for one example\n",
        "pred = pipeline_SVR.predict(X_test)\n",
        "print(pred)\n",
        "\n",
        "pred = pipeline_SVR.predict(X_train)\n",
        "mean_error = (abs(pred-y_train)/y_train).mean()\n",
        "standard_deviation = (abs(pred-y_train)/y_train).std()\n",
        "\n",
        "print('Training Error:')\n",
        "\n",
        "print(f'Mean Error: {mean_error}')\n",
        "print(f'Standard Deviation of Error: {standard_deviation}')\n",
        "\n",
        "print('Test Error:')\n",
        "\n",
        "pred = pipeline_SVR.predict(X_test)\n",
        "mean_error = (abs(pred-y_test)/y_test).mean()\n",
        "standard_deviation = (abs(pred-y_test)/y_test).std()\n",
        "\n",
        "print(f'Mean Error: {mean_error}')\n",
        "print(f'Standard Deviation of Error: {standard_deviation}')\n",
        "\n",
        "#Model Metrics\n",
        "\n",
        "MAE_SVR = metrics.mean_absolute_error(y_test, pred)\n",
        "RMSE_SVR = np.sqrt(metrics.mean_squared_error(y_test, pred))\n",
        "\n",
        "print('Mean Absolute Error (MAE):', metrics.mean_absolute_error(y_test, pred))\n",
        "print('Mean Squared Error (MSE):', metrics.mean_squared_error(y_test, pred))\n",
        "print('Root Mean Squared Error (RMSE):', np.sqrt(metrics.mean_squared_error(y_test, pred)))\n",
        "mape = np.mean(np.abs((y_test - pred) / np.abs(y_test)))\n",
        "print('Mean Absolute Percentage Error (MAPE):', round(mape * 100, 2))\n",
        "print('Accuracy:', round(100*(1 - mape), 2))\n",
        "\n",
        "plot_prediction_time_series(y_train,y_test,pred,pipeline_SVR.predict(X_train))"
      ],
      "metadata": {
        "id": "hFORdGpDn5Hl",
        "colab": {
          "base_uri": "https://localhost:8080/",
          "height": 737
        },
        "outputId": "c4b4dc22-5a9b-40de-c6a5-4fc719774026"
      },
      "execution_count": null,
      "outputs": [
        {
          "output_type": "stream",
          "name": "stdout",
          "text": [
            "MAE: -0.129 (0.035)\n",
            "[0.95555305 0.90172177 0.96748226 1.06497355]\n",
            "Training Error:\n",
            "Mean Error: 13875.412159628342\n",
            "Standard Deviation of Error: 70748.97743926142\n",
            "Test Error:\n",
            "Mean Error: 0.17371091166642347\n",
            "Standard Deviation of Error: 0.14895179700160813\n",
            "Mean Absolute Error (MAE): 0.1370958546052506\n",
            "Mean Squared Error (MSE): 0.026375388391004218\n",
            "Root Mean Squared Error (RMSE): 0.16240501344171682\n",
            "Mean Absolute Percentage Error (MAPE): 17.37\n",
            "Accuracy: 82.63\n"
          ]
        },
        {
          "output_type": "display_data",
          "data": {
            "text/plain": [
              "<Figure size 842.4x595.44 with 1 Axes>"
            ],
            "image/png": "[encoded data removed]"
          },
          "metadata": {
            "needs_background": "light"
          }
        }
      ]
    },
    {
      "cell_type": "code",
      "source": [
        "data = rfe.ranking_\n",
        "ind = list(X_train.columns)\n",
        "variables_finales =pd.DataFrame(data,index = ind, columns = ['RFE'])\n",
        "variables_finales"
      ],
      "metadata": {
        "colab": {
          "base_uri": "https://localhost:8080/",
          "height": 238
        },
        "id": "D2Ho21hfFLYq",
        "outputId": "bb684ac0-1be1-4c75-a10e-1ab64dff6b5f"
      },
      "execution_count": null,
      "outputs": [
        {
          "output_type": "execute_result",
          "data": {
            "text/plain": [
              "                         RFE\n",
              "Forest area                1\n",
              "fossil_fuel_consumption    1\n",
              "renewables_consumption     1\n",
              "population                 2\n",
              "total_ghg                  1\n",
              "gdp                        1"
            ],
            "text/html": [
              "\n",
              "  <div id=\"df-269b3471-7b9c-46f3-919f-fde320205170\">\n",
              "    <div class=\"colab-df-container\">\n",
              "      <div>\n",
              "<style scoped>\n",
              "    .dataframe tbody tr th:only-of-type {\n",
              "        vertical-align: middle;\n",
              "    }\n",
              "\n",
              "    .dataframe tbody tr th {\n",
              "        vertical-align: top;\n",
              "    }\n",
              "\n",
              "    .dataframe thead th {\n",
              "        text-align: right;\n",
              "    }\n",
              "</style>\n",
              "<table border=\"1\" class=\"dataframe\">\n",
              "  <thead>\n",
              "    <tr style=\"text-align: right;\">\n",
              "      <th></th>\n",
              "      <th>RFE</th>\n",
              "    </tr>\n",
              "  </thead>\n",
              "  <tbody>\n",
              "    <tr>\n",
              "      <th>Forest area</th>\n",
              "      <td>1</td>\n",
              "    </tr>\n",
              "    <tr>\n",
              "      <th>fossil_fuel_consumption</th>\n",
              "      <td>1</td>\n",
              "    </tr>\n",
              "    <tr>\n",
              "      <th>renewables_consumption</th>\n",
              "      <td>1</td>\n",
              "    </tr>\n",
              "    <tr>\n",
              "      <th>population</th>\n",
              "      <td>2</td>\n",
              "    </tr>\n",
              "    <tr>\n",
              "      <th>total_ghg</th>\n",
              "      <td>1</td>\n",
              "    </tr>\n",
              "    <tr>\n",
              "      <th>gdp</th>\n",
              "      <td>1</td>\n",
              "    </tr>\n",
              "  </tbody>\n",
              "</table>\n",
              "</div>\n",
              "      <button class=\"colab-df-convert\" onclick=\"convertToInteractive('df-269b3471-7b9c-46f3-919f-fde320205170')\"\n",
              "              title=\"Convert this dataframe to an interactive table.\"\n",
              "              style=\"display:none;\">\n",
              "        \n",
              "  <svg xmlns=\"http://www.w3.org/2000/svg\" height=\"24px\"viewBox=\"0 0 24 24\"\n",
              "       width=\"24px\">\n",
              "    <path d=\"M0 0h24v24H0V0z\" fill=\"none\"/>\n",
              "    <path d=\"M18.56 5.44l.94 2.06.94-2.06 2.06-.94-2.06-.94-.94-2.06-.94 2.06-2.06.94zm-11 1L8.5 8.5l.94-2.06 2.06-.94-2.06-.94L8.5 2.5l-.94 2.06-2.06.94zm10 10l.94 2.06.94-2.06 2.06-.94-2.06-.94-.94-2.06-.94 2.06-2.06.94z\"/><path d=\"M17.41 7.96l-1.37-1.37c-.4-.4-.92-.59-1.43-.59-.52 0-1.04.2-1.43.59L10.3 9.45l-7.72 7.72c-.78.78-.78 2.05 0 2.83L4 21.41c.39.39.9.59 1.41.59.51 0 1.02-.2 1.41-.59l7.78-7.78 2.81-2.81c.8-.78.8-2.07 0-2.86zM5.41 20L4 18.59l7.72-7.72 1.47 1.35L5.41 20z\"/>\n",
              "  </svg>\n",
              "      </button>\n",
              "      \n",
              "  <style>\n",
              "    .colab-df-container {\n",
              "      display:flex;\n",
              "      flex-wrap:wrap;\n",
              "      gap: 12px;\n",
              "    }\n",
              "\n",
              "    .colab-df-convert {\n",
              "      background-color: #E8F0FE;\n",
              "      border: none;\n",
              "      border-radius: 50%;\n",
              "      cursor: pointer;\n",
              "      display: none;\n",
              "      fill: #1967D2;\n",
              "      height: 32px;\n",
              "      padding: 0 0 0 0;\n",
              "      width: 32px;\n",
              "    }\n",
              "\n",
              "    .colab-df-convert:hover {\n",
              "      background-color: #E2EBFA;\n",
              "      box-shadow: 0px 1px 2px rgba(60, 64, 67, 0.3), 0px 1px 3px 1px rgba(60, 64, 67, 0.15);\n",
              "      fill: #174EA6;\n",
              "    }\n",
              "\n",
              "    [theme=dark] .colab-df-convert {\n",
              "      background-color: #3B4455;\n",
              "      fill: #D2E3FC;\n",
              "    }\n",
              "\n",
              "    [theme=dark] .colab-df-convert:hover {\n",
              "      background-color: #434B5C;\n",
              "      box-shadow: 0px 1px 3px 1px rgba(0, 0, 0, 0.15);\n",
              "      filter: drop-shadow(0px 1px 2px rgba(0, 0, 0, 0.3));\n",
              "      fill: #FFFFFF;\n",
              "    }\n",
              "  </style>\n",
              "\n",
              "      <script>\n",
              "        const buttonEl =\n",
              "          document.querySelector('#df-269b3471-7b9c-46f3-919f-fde320205170 button.colab-df-convert');\n",
              "        buttonEl.style.display =\n",
              "          google.colab.kernel.accessAllowed ? 'block' : 'none';\n",
              "\n",
              "        async function convertToInteractive(key) {\n",
              "          const element = document.querySelector('#df-269b3471-7b9c-46f3-919f-fde320205170');\n",
              "          const dataTable =\n",
              "            await google.colab.kernel.invokeFunction('convertToInteractive',\n",
              "                                                     [key], {});\n",
              "          if (!dataTable) return;\n",
              "\n",
              "          const docLinkHtml = 'Like what you see? Visit the ' +\n",
              "            '<a target=\"_blank\" href=https://colab.research.google.com/notebooks/data_table.ipynb>data table notebook</a>'\n",
              "            + ' to learn more about interactive tables.';\n",
              "          element.innerHTML = '';\n",
              "          dataTable['output_type'] = 'display_data';\n",
              "          await google.colab.output.renderOutput(dataTable, element);\n",
              "          const docLink = document.createElement('div');\n",
              "          docLink.innerHTML = docLinkHtml;\n",
              "          element.appendChild(docLink);\n",
              "        }\n",
              "      </script>\n",
              "    </div>\n",
              "  </div>\n",
              "  "
            ]
          },
          "metadata": {},
          "execution_count": 310
        }
      ]
    },
    {
      "cell_type": "markdown",
      "source": [
        "#### Bayesian Ridge"
      ],
      "metadata": {
        "id": "4B-1tePqHn5b"
      }
    },
    {
      "cell_type": "markdown",
      "source": [
        "[Bayesian regression](https://https://towardsdatascience.com/introduction-to-bayesian-linear-regression-e66e60791ea7) allows a natural mechanism to survive insufficient data or poorly distributed data by formulating linear regression using probability distributors rather than point estimates. The output or response is assumed to drawn from a probability distribution rather than estimated as a single value.\n",
        "\n",
        "One of the most useful type of Bayesian regression is Bayesian Ridge regression which estimates a probabilistic model of the regression problem. Here the prior for the coefficient w is given by spherical Gaussian: \n",
        "\n",
        "  p(w⏐λ)=N(w⏐0,λ−1Ip)\n",
        "\n",
        "The priors over α and λ are choosen to be gamma distributions, the conjugate prior for the precision of the Gaussian.\n",
        "\n",
        "The resulting model is called Bayesian Ridge Regression, and is similar to the classical Ridge. The parameters w, α and λ are estimated jointly during the fit of the model. The remaining hyperparameters are the parameters of the gamma priors over α and λ. These are usually choosen to be non-informative. The parameters are estimated by maximizing the marginal log likelihood.\n"
      ],
      "metadata": {
        "id": "jQ9D4B8bKv3S"
      }
    },
    {
      "cell_type": "code",
      "source": [
        "from sklearn import linear_model\n",
        "\n",
        "# create pipeline\n",
        "rfe = RFE(estimator=linear_model.BayesianRidge(), n_features_to_select=6)\n",
        "model = linear_model.BayesianRidge()\n",
        "pipeline_BR = Pipeline(steps=[('m',model)])\n",
        "\n",
        "# evaluate model\n",
        "cv = RepeatedKFold(n_splits=5, n_repeats=2, random_state=1)\n",
        "n_scores = cross_val_score(pipeline_BR, X_train, y_train, scoring='neg_mean_absolute_error', cv=cv, n_jobs=-1, error_score='raise')\n",
        "\n",
        "# report performance\n",
        "print('MAE: %.3f (%.3f)' % (mean(n_scores), std(n_scores)))\n",
        "\n",
        "# fit the model on all available data\n",
        "pipeline_BR.fit(X_train, y_train)\n",
        "\n",
        "# make a prediction for one example\n",
        "pred = pipeline_BR.predict(X_test)\n",
        "print(pred)\n",
        "\n",
        "pred = pipeline_BR.predict(X_train)\n",
        "mean_error = (abs(pred-y_train)/y_train).mean()\n",
        "standard_deviation = (abs(pred-y_train)/y_train).std()\n",
        "\n",
        "print('Training Error:')\n",
        "\n",
        "print(f'Mean Error: {mean_error}')\n",
        "print(f'Standard Deviation of Error: {standard_deviation}')\n",
        "\n",
        "print('Test Error:')\n",
        "\n",
        "pred = pipeline_BR.predict(X_test)\n",
        "mean_error = (abs(pred-y_test)/y_test).mean()\n",
        "standard_deviation = (abs(pred-y_test)/y_test).std()\n",
        "\n",
        "print(f'Mean Error: {mean_error}')\n",
        "print(f'Standard Deviation of Error: {standard_deviation}')\n",
        "\n",
        "\n",
        "#Model Metrics\n",
        "\n",
        "MAE_BR = metrics.mean_absolute_error(y_test, pred)\n",
        "RMSE_BR = np.sqrt(metrics.mean_squared_error(y_test, pred))\n",
        "\n",
        "print('Mean Absolute Error (MAE):', metrics.mean_absolute_error(y_test, pred))\n",
        "print('Mean Squared Error (MSE):', metrics.mean_squared_error(y_test, pred))\n",
        "print('Root Mean Squared Error (RMSE):', np.sqrt(metrics.mean_squared_error(y_test, pred)))\n",
        "mape = np.mean(np.abs((y_test - pred) / np.abs(y_test)))\n",
        "print('Mean Absolute Percentage Error (MAPE):', round(mape * 100, 2))\n",
        "print('Accuracy:', round(100*(1 - mape), 2))\n",
        "print('R Square/Adjusted R Square:', metrics.r2_score(y_test, pred))\n",
        "\n",
        "\n",
        "plot_prediction_time_series(y_train,y_test,pred,pipeline_BR.predict(X_train))"
      ],
      "metadata": {
        "id": "1D2oegNF2HNS",
        "colab": {
          "base_uri": "https://localhost:8080/",
          "height": 754
        },
        "outputId": "c536b31a-6dee-4c38-fee8-5cdb40c66384"
      },
      "execution_count": null,
      "outputs": [
        {
          "output_type": "stream",
          "name": "stdout",
          "text": [
            "MAE: -0.126 (0.038)\n",
            "[0.88998271 0.85733311 0.91793061 0.99170718]\n",
            "Training Error:\n",
            "Mean Error: 14060.833439975271\n",
            "Standard Deviation of Error: 71694.50773453483\n",
            "Test Error:\n",
            "Mean Error: 0.13869291860450408\n",
            "Standard Deviation of Error: 0.11829252051783913\n",
            "Mean Absolute Error (MAE): 0.11168676737369912\n",
            "Mean Squared Error (MSE): 0.01707843931957497\n",
            "Root Mean Squared Error (RMSE): 0.1306845029817039\n",
            "Mean Absolute Percentage Error (MAPE): 13.87\n",
            "Accuracy: 86.13\n",
            "R Square/Adjusted R Square: -0.45409248805568647\n"
          ]
        },
        {
          "output_type": "display_data",
          "data": {
            "text/plain": [
              "<Figure size 842.4x595.44 with 1 Axes>"
            ],
            "image/png": "[encoded data removed]"
          },
          "metadata": {
            "needs_background": "light"
          }
        }
      ]
    },
    {
      "cell_type": "markdown",
      "source": [
        "As we have few independent variables to predict our problem, we decided to run Bayesian Ridge model, the best one until now, with 5 and 6 features. \n",
        "The result was that the model had a better performance with 6 features, so in this particular case we didn't need RFE."
      ],
      "metadata": {
        "id": "-O02U03SFtJw"
      }
    },
    {
      "cell_type": "markdown",
      "source": [
        "### New Approach: Regression models using autocorrelation as a new feature"
      ],
      "metadata": {
        "id": "nTSA0XcY9zoJ"
      }
    },
    {
      "cell_type": "markdown",
      "source": [
        "Now, we are going to try with an additional variable: the autocorrelation of temperature. This will helps us to introduce the behavior of the variable into the model, that means, if the temperature has a clear variation pattern through the years, the model would consider it, helping the optimization of the results. \n",
        "\n",
        "One of the assumptions of the time series models is stationarity, so the first step is to check if the temperature complies with this condition with the ADFuller Test. In this case, we use the percentage change to evaulate the variable, since the original doesn't show a stationary trend."
      ],
      "metadata": {
        "id": "b5RfwLot-INk"
      }
    },
    {
      "cell_type": "code",
      "source": [
        "#Percentage Change - Temperature\n",
        "var_temperature = df_final[\"Temperature\"].pct_change()\n",
        "var_temperature.fillna(0,inplace= True)"
      ],
      "metadata": {
        "id": "AR5OSC-8AIcK"
      },
      "execution_count": null,
      "outputs": []
    },
    {
      "cell_type": "code",
      "source": [
        "#ADFuller Test\n",
        "from statsmodels.tsa.stattools import adfuller\n",
        "\n",
        "X= var_temperature\n",
        "result = adfuller(X)\n",
        "\n",
        "print('ADF Statistic: %f' % result[0])\n",
        "print('p-value: %f' % result[1])\n",
        "print('Critical Values:')\n",
        "for key, value in result[4].items():\n",
        "\tprint('\\t%s: %.3f' % (key, value))\n",
        "\n",
        "X.plot()\n",
        "plt.show()"
      ],
      "metadata": {
        "colab": {
          "base_uri": "https://localhost:8080/",
          "height": 383
        },
        "id": "mjPCG0EY_xWE",
        "outputId": "93f74986-237d-46c8-ffb4-9748389033ac"
      },
      "execution_count": null,
      "outputs": [
        {
          "output_type": "stream",
          "name": "stdout",
          "text": [
            "ADF Statistic: -2.650761\n",
            "p-value: 0.082953\n",
            "Critical Values:\n",
            "\t1%: -3.809\n",
            "\t5%: -3.022\n",
            "\t10%: -2.651\n"
          ]
        },
        {
          "output_type": "display_data",
          "data": {
            "text/plain": [
              "<Figure size 432x288 with 1 Axes>"
            ],
            "image/png": "[encoded data removed]"
          },
          "metadata": {
            "needs_background": "light"
          }
        }
      ]
    },
    {
      "cell_type": "markdown",
      "source": [
        "The ADF shows that the variation in temperature is stationary in the confidence interval of 0.1, which means that it can be included in the model. "
      ],
      "metadata": {
        "id": "Tv8ktbraE7mp"
      }
    },
    {
      "cell_type": "markdown",
      "source": [
        "#### Sarima Model"
      ],
      "metadata": {
        "id": "jshFL9JvVMV6"
      }
    },
    {
      "cell_type": "markdown",
      "source": [
        "**SARIMA** model is an ARIMA model with a seasonal component. Per the formula SARIMA(p,d,q)x(P,D,Q,s), the parameters for these types of models are as follows:\n",
        "\n",
        "- p and seasonal P: indicate number of autoregressive terms (lags of the stationarized series)\n",
        "- d and seasonal D: indicate differencing that must be done to stationarize series\n",
        "- q and seasonal Q: indicate number of moving average terms (lags of the forecast errors)\n",
        "- s: indicates seasonal length in the data"
      ],
      "metadata": {
        "id": "UYfL03LULRgp"
      }
    },
    {
      "cell_type": "code",
      "source": [
        "format='%Y'\n",
        "X.index=pd.to_datetime(X.index, format=format)"
      ],
      "metadata": {
        "id": "BLL0Sg5RPVQP"
      },
      "execution_count": null,
      "outputs": []
    },
    {
      "cell_type": "code",
      "source": [
        "from statsmodels.tsa.arima_model import ARIMA\n",
        "\n",
        "#model= ARIMA(X,order=(2,0,1))\n",
        "model= sm.tsa.statespace.SARIMAX(X,order=(1,1,1))\n",
        "results_AR=model.fit()\n",
        "print(results_AR.summary())\n",
        "\n",
        "predictions = results_AR.fittedvalues.values"
      ],
      "metadata": {
        "colab": {
          "base_uri": "https://localhost:8080/"
        },
        "id": "DSyjtP_7NMta",
        "outputId": "70e8bd82-ca19-4562-83b9-9607de67810e"
      },
      "execution_count": null,
      "outputs": [
        {
          "output_type": "stream",
          "name": "stderr",
          "text": [
            "/usr/local/lib/python3.7/dist-packages/statsmodels/tsa/base/tsa_model.py:165: ValueWarning:\n",
            "\n",
            "No frequency information was provided, so inferred frequency AS-JAN will be used.\n",
            "\n"
          ]
        },
        {
          "output_type": "stream",
          "name": "stdout",
          "text": [
            "                           Statespace Model Results                           \n",
            "==============================================================================\n",
            "Dep. Variable:            Temperature   No. Observations:                   30\n",
            "Model:               SARIMAX(1, 1, 1)   Log Likelihood                  86.696\n",
            "Date:                Thu, 07 Jul 2022   AIC                           -167.392\n",
            "Time:                        21:41:59   BIC                           -163.290\n",
            "Sample:                    01-01-1990   HQIC                          -166.108\n",
            "                         - 01-01-2019                                         \n",
            "Covariance Type:                  opg                                         \n",
            "==============================================================================\n",
            "                 coef    std err          z      P>|z|      [0.025      0.975]\n",
            "------------------------------------------------------------------------------\n",
            "ar.L1         -0.2612      0.238     -1.098      0.272      -0.727       0.205\n",
            "ma.L1         -0.9986     16.081     -0.062      0.950     -32.517      30.520\n",
            "sigma2         0.0001      0.002      0.062      0.950      -0.004       0.004\n",
            "===================================================================================\n",
            "Ljung-Box (Q):                         nan   Jarque-Bera (JB):                 7.22\n",
            "Prob(Q):                               nan   Prob(JB):                         0.03\n",
            "Heteroskedasticity (H):               0.39   Skew:                            -1.05\n",
            "Prob(H) (two-sided):                  0.16   Kurtosis:                         4.26\n",
            "===================================================================================\n",
            "\n",
            "Warnings:\n",
            "[1] Covariance matrix calculated using the outer product of gradients (complex-step).\n"
          ]
        }
      ]
    },
    {
      "cell_type": "markdown",
      "source": [
        "The P-Value in ‘P>|z|’ column shows that AR, MA and Sigma are highly insignificant (It should ideally be less than 0.05 for the respective X to be significant) \n",
        "\n",
        "For that reason, we consider that SARIMA approach wouldn't be good for our purpose. "
      ],
      "metadata": {
        "id": "I861g_pAI8W2"
      }
    },
    {
      "cell_type": "markdown",
      "source": [
        "### Models Evaluation"
      ],
      "metadata": {
        "id": "EX0fsx5L3PW5"
      }
    },
    {
      "cell_type": "markdown",
      "source": [
        "The metrics we are going to use to evaluate our regression models are:\n",
        "\n",
        "**1. Mean Square Error(MSE)/Root Mean Square Error(RMSE):** Mean Square Error is an absolute measure of the goodness for the fit. \n",
        "\n",
        "MSE is calculated by the sum of square of prediction error which is real output minus predicted output and then divide by the number of data points. It gives you an absolute number on how much your predicted results deviate from the actual number. You cannot interpret many insights from one single result but it gives you a real number to compare against other model results and help you select the best regression model.\n",
        "\n",
        "Root Mean Square Error(RMSE) is the square root of MSE. It is used more commonly than MSE because firstly sometimes MSE value can be too big to compare easily. \n",
        "\n",
        "**2. Mean Absolute Error(MAE):** Mean Absolute Error(MAE) is similar to Mean Square Error(MSE). However, instead of the sum of square of error in MSE, MAE is taking the sum of the absolute value of error.\n",
        "\n",
        "MSE gives larger penalization to big prediction error by square it while MAE treats all errors the same."
      ],
      "metadata": {
        "id": "C9sxu6Da4P9v"
      }
    },
    {
      "cell_type": "code",
      "source": [
        "Metrics_MAE = pd.DataFrame(data = [MAE_SVR, MAE_LR, MAE_BR, MAE_DTR], columns = [\"MAE\"], \n",
        "                          index = [\"Support Vector Regression\", \"Linear Regression\", \"Bayesian Ridge\", \"Decision Tree Regression\"\n",
        "                                  ])\n",
        "\n",
        "Metrics_MAE.sort_values(by=['MAE'], inplace=True)\n",
        "Metrics_MAE"
      ],
      "metadata": {
        "colab": {
          "base_uri": "https://localhost:8080/",
          "height": 175
        },
        "id": "owgezSeDotOO",
        "outputId": "17301b68-e4de-41f9-8770-dc1e737b41b3"
      },
      "execution_count": null,
      "outputs": [
        {
          "output_type": "execute_result",
          "data": {
            "text/plain": [
              "                                MAE\n",
              "Bayesian Ridge             0.111687\n",
              "Decision Tree Regression   0.124928\n",
              "Support Vector Regression  0.137096\n",
              "Linear Regression          0.615886"
            ],
            "text/html": [
              "\n",
              "  <div id=\"df-447876b4-dcfa-484f-9198-e7430bf795ed\">\n",
              "    <div class=\"colab-df-container\">\n",
              "      <div>\n",
              "<style scoped>\n",
              "    .dataframe tbody tr th:only-of-type {\n",
              "        vertical-align: middle;\n",
              "    }\n",
              "\n",
              "    .dataframe tbody tr th {\n",
              "        vertical-align: top;\n",
              "    }\n",
              "\n",
              "    .dataframe thead th {\n",
              "        text-align: right;\n",
              "    }\n",
              "</style>\n",
              "<table border=\"1\" class=\"dataframe\">\n",
              "  <thead>\n",
              "    <tr style=\"text-align: right;\">\n",
              "      <th></th>\n",
              "      <th>MAE</th>\n",
              "    </tr>\n",
              "  </thead>\n",
              "  <tbody>\n",
              "    <tr>\n",
              "      <th>Bayesian Ridge</th>\n",
              "      <td>0.111687</td>\n",
              "    </tr>\n",
              "    <tr>\n",
              "      <th>Decision Tree Regression</th>\n",
              "      <td>0.124928</td>\n",
              "    </tr>\n",
              "    <tr>\n",
              "      <th>Support Vector Regression</th>\n",
              "      <td>0.137096</td>\n",
              "    </tr>\n",
              "    <tr>\n",
              "      <th>Linear Regression</th>\n",
              "      <td>0.615886</td>\n",
              "    </tr>\n",
              "  </tbody>\n",
              "</table>\n",
              "</div>\n",
              "      <button class=\"colab-df-convert\" onclick=\"convertToInteractive('df-447876b4-dcfa-484f-9198-e7430bf795ed')\"\n",
              "              title=\"Convert this dataframe to an interactive table.\"\n",
              "              style=\"display:none;\">\n",
              "        \n",
              "  <svg xmlns=\"http://www.w3.org/2000/svg\" height=\"24px\"viewBox=\"0 0 24 24\"\n",
              "       width=\"24px\">\n",
              "    <path d=\"M0 0h24v24H0V0z\" fill=\"none\"/>\n",
              "    <path d=\"M18.56 5.44l.94 2.06.94-2.06 2.06-.94-2.06-.94-.94-2.06-.94 2.06-2.06.94zm-11 1L8.5 8.5l.94-2.06 2.06-.94-2.06-.94L8.5 2.5l-.94 2.06-2.06.94zm10 10l.94 2.06.94-2.06 2.06-.94-2.06-.94-.94-2.06-.94 2.06-2.06.94z\"/><path d=\"M17.41 7.96l-1.37-1.37c-.4-.4-.92-.59-1.43-.59-.52 0-1.04.2-1.43.59L10.3 9.45l-7.72 7.72c-.78.78-.78 2.05 0 2.83L4 21.41c.39.39.9.59 1.41.59.51 0 1.02-.2 1.41-.59l7.78-7.78 2.81-2.81c.8-.78.8-2.07 0-2.86zM5.41 20L4 18.59l7.72-7.72 1.47 1.35L5.41 20z\"/>\n",
              "  </svg>\n",
              "      </button>\n",
              "      \n",
              "  <style>\n",
              "    .colab-df-container {\n",
              "      display:flex;\n",
              "      flex-wrap:wrap;\n",
              "      gap: 12px;\n",
              "    }\n",
              "\n",
              "    .colab-df-convert {\n",
              "      background-color: #E8F0FE;\n",
              "      border: none;\n",
              "      border-radius: 50%;\n",
              "      cursor: pointer;\n",
              "      display: none;\n",
              "      fill: #1967D2;\n",
              "      height: 32px;\n",
              "      padding: 0 0 0 0;\n",
              "      width: 32px;\n",
              "    }\n",
              "\n",
              "    .colab-df-convert:hover {\n",
              "      background-color: #E2EBFA;\n",
              "      box-shadow: 0px 1px 2px rgba(60, 64, 67, 0.3), 0px 1px 3px 1px rgba(60, 64, 67, 0.15);\n",
              "      fill: #174EA6;\n",
              "    }\n",
              "\n",
              "    [theme=dark] .colab-df-convert {\n",
              "      background-color: #3B4455;\n",
              "      fill: #D2E3FC;\n",
              "    }\n",
              "\n",
              "    [theme=dark] .colab-df-convert:hover {\n",
              "      background-color: #434B5C;\n",
              "      box-shadow: 0px 1px 3px 1px rgba(0, 0, 0, 0.15);\n",
              "      filter: drop-shadow(0px 1px 2px rgba(0, 0, 0, 0.3));\n",
              "      fill: #FFFFFF;\n",
              "    }\n",
              "  </style>\n",
              "\n",
              "      <script>\n",
              "        const buttonEl =\n",
              "          document.querySelector('#df-447876b4-dcfa-484f-9198-e7430bf795ed button.colab-df-convert');\n",
              "        buttonEl.style.display =\n",
              "          google.colab.kernel.accessAllowed ? 'block' : 'none';\n",
              "\n",
              "        async function convertToInteractive(key) {\n",
              "          const element = document.querySelector('#df-447876b4-dcfa-484f-9198-e7430bf795ed');\n",
              "          const dataTable =\n",
              "            await google.colab.kernel.invokeFunction('convertToInteractive',\n",
              "                                                     [key], {});\n",
              "          if (!dataTable) return;\n",
              "\n",
              "          const docLinkHtml = 'Like what you see? Visit the ' +\n",
              "            '<a target=\"_blank\" href=https://colab.research.google.com/notebooks/data_table.ipynb>data table notebook</a>'\n",
              "            + ' to learn more about interactive tables.';\n",
              "          element.innerHTML = '';\n",
              "          dataTable['output_type'] = 'display_data';\n",
              "          await google.colab.output.renderOutput(dataTable, element);\n",
              "          const docLink = document.createElement('div');\n",
              "          docLink.innerHTML = docLinkHtml;\n",
              "          element.appendChild(docLink);\n",
              "        }\n",
              "      </script>\n",
              "    </div>\n",
              "  </div>\n",
              "  "
            ]
          },
          "metadata": {},
          "execution_count": 316
        }
      ]
    },
    {
      "cell_type": "code",
      "source": [
        "Metrics_RMSE = pd.DataFrame(data = [RMSE_SVR, RMSE_LR, RMSE_BR, RMSE_DTR], columns = [\"RMSE\"], \n",
        "                          index = [\"Support Vector Regression\", \"Linear Regression\", \"Bayesian Ridge\", \"Decision Tree Regression\"\n",
        "                                  ])\n",
        "\n",
        "\n",
        "Metrics_RMSE.sort_values(by=['RMSE'], inplace=True)\n",
        "Metrics_RMSE"
      ],
      "metadata": {
        "colab": {
          "base_uri": "https://localhost:8080/",
          "height": 175
        },
        "id": "aPJlmrP5rMmd",
        "outputId": "06faba71-5810-4405-8b72-8fbe3cf8af97"
      },
      "execution_count": null,
      "outputs": [
        {
          "output_type": "execute_result",
          "data": {
            "text/plain": [
              "                               RMSE\n",
              "Bayesian Ridge             0.130685\n",
              "Decision Tree Regression   0.143355\n",
              "Support Vector Regression  0.162405\n",
              "Linear Regression          0.655724"
            ],
            "text/html": [
              "\n",
              "  <div id=\"df-ae4fd353-8a5d-47de-ab5c-92d5e4085ab0\">\n",
              "    <div class=\"colab-df-container\">\n",
              "      <div>\n",
              "<style scoped>\n",
              "    .dataframe tbody tr th:only-of-type {\n",
              "        vertical-align: middle;\n",
              "    }\n",
              "\n",
              "    .dataframe tbody tr th {\n",
              "        vertical-align: top;\n",
              "    }\n",
              "\n",
              "    .dataframe thead th {\n",
              "        text-align: right;\n",
              "    }\n",
              "</style>\n",
              "<table border=\"1\" class=\"dataframe\">\n",
              "  <thead>\n",
              "    <tr style=\"text-align: right;\">\n",
              "      <th></th>\n",
              "      <th>RMSE</th>\n",
              "    </tr>\n",
              "  </thead>\n",
              "  <tbody>\n",
              "    <tr>\n",
              "      <th>Bayesian Ridge</th>\n",
              "      <td>0.130685</td>\n",
              "    </tr>\n",
              "    <tr>\n",
              "      <th>Decision Tree Regression</th>\n",
              "      <td>0.143355</td>\n",
              "    </tr>\n",
              "    <tr>\n",
              "      <th>Support Vector Regression</th>\n",
              "      <td>0.162405</td>\n",
              "    </tr>\n",
              "    <tr>\n",
              "      <th>Linear Regression</th>\n",
              "      <td>0.655724</td>\n",
              "    </tr>\n",
              "  </tbody>\n",
              "</table>\n",
              "</div>\n",
              "      <button class=\"colab-df-convert\" onclick=\"convertToInteractive('df-ae4fd353-8a5d-47de-ab5c-92d5e4085ab0')\"\n",
              "              title=\"Convert this dataframe to an interactive table.\"\n",
              "              style=\"display:none;\">\n",
              "        \n",
              "  <svg xmlns=\"http://www.w3.org/2000/svg\" height=\"24px\"viewBox=\"0 0 24 24\"\n",
              "       width=\"24px\">\n",
              "    <path d=\"M0 0h24v24H0V0z\" fill=\"none\"/>\n",
              "    <path d=\"M18.56 5.44l.94 2.06.94-2.06 2.06-.94-2.06-.94-.94-2.06-.94 2.06-2.06.94zm-11 1L8.5 8.5l.94-2.06 2.06-.94-2.06-.94L8.5 2.5l-.94 2.06-2.06.94zm10 10l.94 2.06.94-2.06 2.06-.94-2.06-.94-.94-2.06-.94 2.06-2.06.94z\"/><path d=\"M17.41 7.96l-1.37-1.37c-.4-.4-.92-.59-1.43-.59-.52 0-1.04.2-1.43.59L10.3 9.45l-7.72 7.72c-.78.78-.78 2.05 0 2.83L4 21.41c.39.39.9.59 1.41.59.51 0 1.02-.2 1.41-.59l7.78-7.78 2.81-2.81c.8-.78.8-2.07 0-2.86zM5.41 20L4 18.59l7.72-7.72 1.47 1.35L5.41 20z\"/>\n",
              "  </svg>\n",
              "      </button>\n",
              "      \n",
              "  <style>\n",
              "    .colab-df-container {\n",
              "      display:flex;\n",
              "      flex-wrap:wrap;\n",
              "      gap: 12px;\n",
              "    }\n",
              "\n",
              "    .colab-df-convert {\n",
              "      background-color: #E8F0FE;\n",
              "      border: none;\n",
              "      border-radius: 50%;\n",
              "      cursor: pointer;\n",
              "      display: none;\n",
              "      fill: #1967D2;\n",
              "      height: 32px;\n",
              "      padding: 0 0 0 0;\n",
              "      width: 32px;\n",
              "    }\n",
              "\n",
              "    .colab-df-convert:hover {\n",
              "      background-color: #E2EBFA;\n",
              "      box-shadow: 0px 1px 2px rgba(60, 64, 67, 0.3), 0px 1px 3px 1px rgba(60, 64, 67, 0.15);\n",
              "      fill: #174EA6;\n",
              "    }\n",
              "\n",
              "    [theme=dark] .colab-df-convert {\n",
              "      background-color: #3B4455;\n",
              "      fill: #D2E3FC;\n",
              "    }\n",
              "\n",
              "    [theme=dark] .colab-df-convert:hover {\n",
              "      background-color: #434B5C;\n",
              "      box-shadow: 0px 1px 3px 1px rgba(0, 0, 0, 0.15);\n",
              "      filter: drop-shadow(0px 1px 2px rgba(0, 0, 0, 0.3));\n",
              "      fill: #FFFFFF;\n",
              "    }\n",
              "  </style>\n",
              "\n",
              "      <script>\n",
              "        const buttonEl =\n",
              "          document.querySelector('#df-ae4fd353-8a5d-47de-ab5c-92d5e4085ab0 button.colab-df-convert');\n",
              "        buttonEl.style.display =\n",
              "          google.colab.kernel.accessAllowed ? 'block' : 'none';\n",
              "\n",
              "        async function convertToInteractive(key) {\n",
              "          const element = document.querySelector('#df-ae4fd353-8a5d-47de-ab5c-92d5e4085ab0');\n",
              "          const dataTable =\n",
              "            await google.colab.kernel.invokeFunction('convertToInteractive',\n",
              "                                                     [key], {});\n",
              "          if (!dataTable) return;\n",
              "\n",
              "          const docLinkHtml = 'Like what you see? Visit the ' +\n",
              "            '<a target=\"_blank\" href=https://colab.research.google.com/notebooks/data_table.ipynb>data table notebook</a>'\n",
              "            + ' to learn more about interactive tables.';\n",
              "          element.innerHTML = '';\n",
              "          dataTable['output_type'] = 'display_data';\n",
              "          await google.colab.output.renderOutput(dataTable, element);\n",
              "          const docLink = document.createElement('div');\n",
              "          docLink.innerHTML = docLinkHtml;\n",
              "          element.appendChild(docLink);\n",
              "        }\n",
              "      </script>\n",
              "    </div>\n",
              "  </div>\n",
              "  "
            ]
          },
          "metadata": {},
          "execution_count": 317
        }
      ]
    },
    {
      "cell_type": "markdown",
      "source": [
        "The model with best performance is Bayesian Ridge Regression, showing a RMSE and MAE of 13.06% and 11.16% respectively, and a clearly trend over the data. \n",
        "\n",
        "The next suitable model was Decision Tree Regression, however we dismiss it, because the model does not interpolate, it assigns a value given a condition and therefore, can’t predict outside of the range of the input data. This means that at most, it will predict the max value on the training set for all values that would be bigger than the training set, which can be problematic with our data; \n",
        "\n",
        "On the other hand, the performance of Support Vector Regression wasn't good enough and the  Linear Regression was the worst.\n",
        "\n",
        "\n",
        "\n",
        "\n",
        "\n",
        "\n",
        "\n"
      ],
      "metadata": {
        "id": "VyegWqffeYej"
      }
    },
    {
      "cell_type": "markdown",
      "source": [
        "## Scenarios\n"
      ],
      "metadata": {
        "id": "CX0bveMvQE1W"
      }
    },
    {
      "cell_type": "markdown",
      "source": [
        "After the implementation of the model, we established 3 scenarios of the behavior of the temperature for the projected years including the base scenario. "
      ],
      "metadata": {
        "id": "lHaP3dRXf0Hq"
      }
    },
    {
      "cell_type": "markdown",
      "source": [
        "#### Base scenario\n",
        "\n"
      ],
      "metadata": {
        "id": "rY6xh1mxZ_XG"
      }
    },
    {
      "cell_type": "code",
      "source": [
        "## Dictionary with the percentage increase per year of all the variables\n",
        "dict_aumento={\n",
        "    \"Urban population\": 2,\n",
        "    \"Rural population\": 2,\n",
        "    \"Forest area\": 2,\n",
        "    'Agricultural land': 2,\n",
        "    'Agricultural methane emissions' : 2,\n",
        "    'Agricultural nitrous oxide emissions' : 2,\n",
        "    'coal_consumption' : 2,\n",
        "    'fossil_fuel_consumption' : 2,\n",
        "    'gas_consumption' : 2,\n",
        "    'hydro_consumption' : 2,\n",
        "    'oil_consumption' : 2,\n",
        "    'other_renewable_consumption' : 2,\n",
        "    'primary_energy_consumption' : 2,\n",
        "    'renewables_consumption' : 2,\n",
        "    'population' : 2,\n",
        "    'Temperature' : 2,\n",
        "    'co2' : 2,\n",
        "    'total_ghg' : 2,\n",
        "    'methane' : 2,\n",
        "    'nitrous_oxide' : 2,\n",
        "    'gdp' : 2,\n",
        "    'Cattle' : 2,\n",
        "    'Pigs' : 2,\n",
        "    \"level_0\":100,\n",
        "    \"index\":100\n",
        "}"
      ],
      "metadata": {
        "id": "fmdZJr4tnIFX"
      },
      "execution_count": null,
      "outputs": []
    },
    {
      "cell_type": "code",
      "source": [
        "# Last year we want to predict\n",
        "year=2040\n",
        "\n",
        "# Creation of a list where each new value is the previous one increased by the percentage given in dict_increase\n",
        "lista=[]\n",
        "for i in range (year-2019):\n",
        "  row=[]\n",
        "  for j in range (len(X_test.columns)):\n",
        "    if i==0:\n",
        "      row.append(X_test.iloc[-1,j]*(1+dict_aumento[X_test.columns[j]]/100))\n",
        "    else:\n",
        "      row.append(lista[i-1][j]*(1+dict_aumento[X_test.columns[j]]/100))\n",
        "  lista.append(row)\n",
        "\n",
        "\n",
        "# The list is converted into a dataframe and added to the test dataframe X_test in a new variable called X_future\n",
        "X_futuro = X_test.append(pd.DataFrame(lista, columns=X_test.columns))\n",
        "X_futuro.index = np.arange(2016,2041,1)\n",
        "\n",
        "# Gaussian noise is added to the data equivalent to 10% of the standard deviation of each column.\n",
        "for i in X_futuro.columns:\n",
        "  X_futuro[i]=X_futuro[i]+np.random.normal(0,0.1*X_futuro[i].std(),X_futuro[i].shape)\n",
        "\n",
        "# Preditiction\n",
        "pred = pipeline_BR.predict(X_futuro)\n",
        "\n",
        "# Function to denormalize data\n",
        "def rev_min_max_func(scaled_val):\n",
        "    max_val = max(df_final[\"Temperature\"])\n",
        "    min_val = min(df_final[\"Temperature\"])\n",
        "    og_val = (scaled_val*(max_val - min_val)) + min_val\n",
        "    return og_val\n",
        "\n",
        "# Copy of the used dataframe\n",
        "new_df=pred.copy()\n",
        "\n",
        "# Data denormalization\n",
        "for i in range(len(new_df)):\n",
        "  new_df[i] = rev_min_max_func(new_df[i])\n",
        "\n",
        "# Graph\n",
        "new_x=[x for x in range (2016,2016+len(new_df))]\n",
        "plt.plot(new_x,new_df)\n",
        "plt.show()\n",
        "\n",
        "#Final result for temperature\n",
        "print(f\"Temperature change in {new_x[-1]-1990} years (1990 - {new_x[-1]}) : {new_df[-1]-df_final['Temperature'].iloc[0]} °C\")"
      ],
      "metadata": {
        "id": "gG04kQRInmqc",
        "colab": {
          "base_uri": "https://localhost:8080/",
          "height": 282
        },
        "outputId": "efbcdbbd-22a5-401b-87d7-967d01918df5"
      },
      "execution_count": null,
      "outputs": [
        {
          "output_type": "display_data",
          "data": {
            "text/plain": [
              "<Figure size 432x288 with 1 Axes>"
            ],
            "image/png": "[encoded data removed]"
          },
          "metadata": {
            "needs_background": "light"
          }
        },
        {
          "output_type": "stream",
          "name": "stdout",
          "text": [
            "Temperature change in 50 years (1990 - 2040) : 1.601851589290117 °C\n"
          ]
        }
      ]
    },
    {
      "cell_type": "markdown",
      "source": [
        "#### Three main scenarios"
      ],
      "metadata": {
        "id": "LzonAXm0n47V"
      }
    },
    {
      "cell_type": "code",
      "source": [
        "# Three main scenarios\n",
        "year_plot=2019\n",
        "x_plots=np.arange(2015,2041,1)\n",
        "\n",
        "import math\n",
        "\n",
        "year_plot=year_plot-1990\n",
        "y=new_df\n",
        "fig=plt.figure(figsize=(10,7))\n",
        "axs = fig.add_subplot(1,1,1)\n",
        "titles=[\"Worst scenario\", \"Expected scenario\", \"Best scenario\"]\n",
        "colors=[\"r\",\"b\",\"g\"]\n",
        "for ax in range(3):\n",
        "  if ax==0:\n",
        "    dict_aumento={key:7 for key in dict_aumento.keys()}\n",
        "  elif ax==1:\n",
        "    dict_aumento={key:2 for key in dict_aumento.keys()}\n",
        "  else:\n",
        "    dict_aumento={key:0.05 for key in dict_aumento.keys()}\n",
        "  lista=[]\n",
        "  for i in range (year-2019):\n",
        "    row=[]\n",
        "    for j in range (len(X_test.columns)):\n",
        "      if i==0:\n",
        "        row.append(X_test.iloc[-1,j]*(1+dict_aumento[X_test.columns[j]]/100))\n",
        "      else:\n",
        "        row.append(lista[i-1][j]*(1+dict_aumento[X_test.columns[j]]/100))\n",
        "    lista.append(row)\n",
        "  X_futuro = X_test.append(pd.DataFrame(lista, columns=X_test.columns))\n",
        "  X_futuro.index = np.arange(2016,2041,1)\n",
        "  for i in X_futuro.columns:\n",
        "    X_futuro[i]=X_futuro[i]+np.random.normal(0,0.1*X_futuro[i].std(),X_futuro[i].shape)\n",
        "\n",
        "  # Preditiction\n",
        "  pred = pipeline_BR.predict(X_futuro)\n",
        "\n",
        "  # Copy of the used dataframe\n",
        "  new_df=pred.copy()\n",
        "\n",
        "  # Data denormalization\n",
        "  for i in range(len(new_df)):\n",
        "    new_df[i] = rev_min_max_func(new_df[i])\n",
        "  \n",
        "  new_df=np.insert(new_df,0,df_final[\"Temperature\"].iloc[25])\n",
        "  #new_df.insert(0,df_final[\"Temperature\"].iloc[25])\n",
        "\n",
        "  plt.plot(x_plots,new_df,label=titles[ax],color=colors[ax])\n",
        "  \n",
        "\n",
        "  print(f\"Temperature change in the {titles[ax]} : {new_df[-1]-((df_final['Temperature'].iloc[0]))} °C\")\n",
        "\n",
        "x_original=np.arange(1990,2016,1)\n",
        "original_y=df_final[\"Temperature\"].iloc[:26]\n",
        "plt.plot(x_original,original_y,label=\"Original data\",color=\"k\")\n",
        "start, end = axs.get_ylim()\n",
        "axs.yaxis.set_ticks(np.arange(math.floor(start), math.ceil(end), 0.5))\n",
        "axs.set_xlabel('Year', fontsize=18)\n",
        "axs.set_ylabel('Temperature (°C)', fontsize=16)\n",
        "axs.legend()\n",
        "fig.show()"
      ],
      "metadata": {
        "colab": {
          "base_uri": "https://localhost:8080/",
          "height": 502
        },
        "id": "5rhMdjukrrQP",
        "outputId": "2a01619a-8894-4372-e2ce-5243c2056aa3"
      },
      "execution_count": null,
      "outputs": [
        {
          "output_type": "stream",
          "name": "stdout",
          "text": [
            "Temperature change in the Worst scenario : 4.077437966327196 °C\n",
            "Temperature change in the Expected scenario : 1.6041850389810968 °C\n",
            "Temperature change in the Best scenario : 1.1241075210678524 °C\n"
          ]
        },
        {
          "output_type": "display_data",
          "data": {
            "text/plain": [
              "<Figure size 720x504 with 1 Axes>"
            ],
            "image/png": "[encoded data removed]"
          },
          "metadata": {
            "needs_background": "light"
          }
        }
      ]
    }
  ]
}